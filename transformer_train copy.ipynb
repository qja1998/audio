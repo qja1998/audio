{
 "cells": [
  {
   "cell_type": "code",
   "execution_count": 1,
   "metadata": {},
   "outputs": [],
   "source": [
    "# Copyright (c) Xi Chen\n",
    "#\n",
    "# This source code is licensed under the MIT license found in the\n",
    "# LICENSE file in the root directory of this source tree.\n",
    "\n",
    "# Borrowed from https://github.com/neocxi/pixelsnail-public and ported it to PyTorch"
   ]
  },
  {
   "cell_type": "code",
   "execution_count": 2,
   "metadata": {},
   "outputs": [],
   "source": [
    "import os\n",
    "\n",
    "os.environ[\"CUDA_DEVICE_ORDER\"] = \"PCI_BUS_ID\"\n",
    "os.environ[\"CUDA_LAUNCH_BLOCKING\"] = \"0\"\n",
    "os.environ[\"CUDA_VISIBLE_DEVICES\"] = \"1\""
   ]
  },
  {
   "cell_type": "code",
   "execution_count": 3,
   "metadata": {},
   "outputs": [],
   "source": [
    "import gc\n",
    "\n",
    "import pandas as pd\n",
    "import numpy as np\n",
    "import torch\n",
    "from torch import nn, optim\n",
    "from torch.nn import functional as F\n",
    "from torch.utils.data import DataLoader, Dataset\n",
    "from tqdm import tqdm\n",
    "\n",
    "from vq_vae_2 import Model\n",
    "from transformer import VQVAETransformer\n",
    "from lr_scheduler import WarmupLinearLRSchedule\n",
    "from torchvision import utils as vutils\n",
    "from utils import plot_images\n",
    "\n",
    "from transformers.optimization import Adafactor, AdafactorSchedule\n",
    "import wandb"
   ]
  },
  {
   "cell_type": "code",
   "execution_count": 4,
   "metadata": {},
   "outputs": [
    {
     "name": "stderr",
     "output_type": "stream",
     "text": [
      "Failed to detect the name of this notebook, you can set it manually with the WANDB_NOTEBOOK_NAME environment variable to enable code saving.\n",
      "\u001b[34m\u001b[1mwandb\u001b[0m: Currently logged in as: \u001b[33mqja1998\u001b[0m. Use \u001b[1m`wandb login --relogin`\u001b[0m to force relogin\n"
     ]
    },
    {
     "data": {
      "text/html": [
       "wandb version 0.13.5 is available!  To upgrade, please run:\n",
       " $ pip install wandb --upgrade"
      ],
      "text/plain": [
       "<IPython.core.display.HTML object>"
      ]
     },
     "metadata": {},
     "output_type": "display_data"
    },
    {
     "data": {
      "text/html": [
       "Tracking run with wandb version 0.13.4"
      ],
      "text/plain": [
       "<IPython.core.display.HTML object>"
      ]
     },
     "metadata": {},
     "output_type": "display_data"
    },
    {
     "data": {
      "text/html": [
       "Run data is saved locally in <code>/home/gibeom/audio/emotional_annotations/wandb/run-20221106_085253-5wfapgkt</code>"
      ],
      "text/plain": [
       "<IPython.core.display.HTML object>"
      ]
     },
     "metadata": {},
     "output_type": "display_data"
    },
    {
     "data": {
      "text/html": [
       "Syncing run <strong><a href=\"https://wandb.ai/qja1998/audio-emotional_annotations/runs/5wfapgkt\" target=\"_blank\">resilient-firefly-45</a></strong> to <a href=\"https://wandb.ai/qja1998/audio-emotional_annotations\" target=\"_blank\">Weights & Biases</a> (<a href=\"https://wandb.me/run\" target=\"_blank\">docs</a>)<br/>"
      ],
      "text/plain": [
       "<IPython.core.display.HTML object>"
      ]
     },
     "metadata": {},
     "output_type": "display_data"
    },
    {
     "name": "stderr",
     "output_type": "stream",
     "text": [
      "\u001b[34m\u001b[1mwandb\u001b[0m: \u001b[33mWARNING\u001b[0m Calling wandb.run.save without any arguments is deprecated.Changes to attributes are automatically persisted.\n"
     ]
    },
    {
     "data": {
      "text/plain": [
       "True"
      ]
     },
     "execution_count": 4,
     "metadata": {},
     "output_type": "execute_result"
    }
   ],
   "source": [
    "wandb.init()\n",
    "wandb.run.name = 'transformer2'\n",
    "wandb.run.save()"
   ]
  },
  {
   "cell_type": "code",
   "execution_count": 5,
   "metadata": {},
   "outputs": [],
   "source": [
    "device = torch.device('cuda' if torch.cuda.is_available() else 'cpu')"
   ]
  },
  {
   "cell_type": "code",
   "execution_count": 6,
   "metadata": {},
   "outputs": [],
   "source": [
    "class MelData(Dataset):\n",
    "    def __init__(self, file_path):\n",
    "        self.data = []\n",
    "        genre = ['classical', 'rock', 'electronic', 'pop']\n",
    "        \n",
    "        for g in genre:\n",
    "            for i in range(1, 101):\n",
    "                for j in range(5):\n",
    "                    tmp_path = f'{file_path}/{g}/{i}-{j}.csv'\n",
    "                    try:\n",
    "                        self.data.append((pd.read_csv(tmp_path), g, i, j))\n",
    "                    except FileNotFoundError:\n",
    "                        print(f\"{g}-{i}-{j} file is deleted\")\n",
    "                        continue\n",
    "        \n",
    "    def __len__(self):\n",
    "        return len(self.data)\n",
    "    \n",
    "    def __getitem__(self, idx):\n",
    "        mel, g, i, j = self.data[idx]\n",
    "        mel = torch.from_numpy(pd.get_dummies(mel).values)\n",
    "        mel = mel.type(torch.cuda.FloatTensor)\n",
    "        \n",
    "        return (g, i, j), mel\n",
    "\n",
    "class EmotionalData(Dataset):\n",
    "    def __init__(self, file_path):\n",
    "        self.data = pd.read_csv(file_path)\n",
    "        \n",
    "    def __len__(self):\n",
    "        return len(self.data)\n",
    "    \n",
    "    def __getitem__(self, idx):\n",
    "        tmp_data = self.data.iloc[idx]\n",
    "        genre, idx = tmp_data[0].split('_')\n",
    "        emo = tmp_data[1:]\n",
    "        return idx, genre, torch.FloatTensor(emo)"
   ]
  },
  {
   "cell_type": "code",
   "execution_count": 7,
   "metadata": {},
   "outputs": [],
   "source": [
    "batch_size = 32"
   ]
  },
  {
   "cell_type": "code",
   "execution_count": 8,
   "metadata": {},
   "outputs": [
    {
     "name": "stdout",
     "output_type": "stream",
     "text": [
      "classical-16-0 file is deleted\n",
      "classical-16-1 file is deleted\n",
      "classical-16-2 file is deleted\n",
      "classical-16-3 file is deleted\n",
      "classical-16-4 file is deleted\n",
      "classical-40-0 file is deleted\n",
      "classical-40-1 file is deleted\n",
      "classical-40-2 file is deleted\n",
      "classical-40-3 file is deleted\n",
      "classical-40-4 file is deleted\n",
      "classical-57-0 file is deleted\n",
      "classical-57-1 file is deleted\n",
      "classical-57-2 file is deleted\n",
      "classical-57-3 file is deleted\n",
      "classical-57-4 file is deleted\n",
      "classical-66-0 file is deleted\n",
      "classical-66-1 file is deleted\n",
      "classical-66-2 file is deleted\n",
      "classical-66-3 file is deleted\n",
      "classical-66-4 file is deleted\n",
      "classical-73-0 file is deleted\n",
      "classical-73-1 file is deleted\n",
      "classical-73-2 file is deleted\n",
      "classical-73-3 file is deleted\n",
      "classical-73-4 file is deleted\n"
     ]
    }
   ],
   "source": [
    "EMO_PATH = \"./mean_data.csv\"\n",
    "MEL_ARR_PATH = \"./split_mel_array\"\n",
    "SAVE_PATH = \"./save_models\"\n",
    "    \n",
    "mel_arr_data = MelData(MEL_ARR_PATH)\n",
    "#emo_data = EmotionalData(EMO_PATH)\n"
   ]
  },
  {
   "cell_type": "code",
   "execution_count": 9,
   "metadata": {},
   "outputs": [],
   "source": [
    "mel_arr_data_loader = DataLoader(\n",
    "        dataset=mel_arr_data, batch_size=batch_size)\n",
    "\n",
    "#emo_data_loader = DataLoader(\n",
    "#        dataset=emo_data, batch_size=batch_size, shuffle=True)"
   ]
  },
  {
   "cell_type": "code",
   "execution_count": 10,
   "metadata": {},
   "outputs": [],
   "source": [
    "def scaled(x):\n",
    "    return x + 80.0\n",
    "def unscaled(x):\n",
    "    return x - 80.0"
   ]
  },
  {
   "cell_type": "code",
   "execution_count": 11,
   "metadata": {},
   "outputs": [],
   "source": [
    "# extract idices\n",
    "# torch.Size([32, 10, 128]) torch.Size([32, 20, 256])\n",
    "def extract_indice(mel_data, model):\n",
    "    with torch.no_grad():\n",
    "        for _, mel in mel_data:\n",
    "            x = scaled(mel)\n",
    "            x = x[:, :, :-4].reshape(-1, 1, 320, 256).to(device)\n",
    "            _, _, _, _, id_t, id_b = model.encode(x)\n",
    "            try:\n",
    "                ids_t = torch.cat([ids_t, id_t], dim=0)\n",
    "                ids_b = torch.cat([ids_b, id_b], dim=0)\n",
    "            except Exception as e:\n",
    "                print(e)\n",
    "                ids_t, ids_b = id_t.clone().detach(), id_b.clone().detach()\n",
    "    return ids_t, ids_b\n",
    "            "
   ]
  },
  {
   "cell_type": "code",
   "execution_count": 12,
   "metadata": {},
   "outputs": [],
   "source": [
    "num_hiddens = 128 #128\n",
    "num_residual_hiddens = 32\n",
    "num_residual_layers = 4\n",
    "embedding_dim = 64 #64\n",
    "num_embeddings = 512 #512\n",
    "commitment_cost = 0.25"
   ]
  },
  {
   "cell_type": "code",
   "execution_count": 13,
   "metadata": {},
   "outputs": [
    {
     "data": {
      "text/plain": [
       "<All keys matched successfully>"
      ]
     },
     "execution_count": 13,
     "metadata": {},
     "output_type": "execute_result"
    }
   ],
   "source": [
    "vqvae = Model(num_hiddens=num_hiddens, \n",
    "                  num_residual_layers=num_residual_layers,\n",
    "                  num_residual_hiddens=num_residual_hiddens,\n",
    "                  num_embeddings=num_embeddings,\n",
    "                  embedding_dim=embedding_dim, \n",
    "                  commitment_cost=commitment_cost).to(device)\n",
    "\n",
    "score = 119.51515197753906\n",
    "MODEL_PATH = f'{SAVE_PATH}/vqvae2_light-{score:.5f}_dict.pt'\n",
    "vqvae.load_state_dict(torch.load(MODEL_PATH))"
   ]
  },
  {
   "cell_type": "code",
   "execution_count": 14,
   "metadata": {},
   "outputs": [
    {
     "name": "stdout",
     "output_type": "stream",
     "text": [
      "local variable 'ids_t' referenced before assignment\n",
      "torch.Size([1975, 20, 16]) torch.Size([1975, 40, 32])\n"
     ]
    }
   ],
   "source": [
    "ids_t, ids_b = extract_indice(mel_arr_data_loader, vqvae)\n",
    "print(ids_t.size(), ids_b.size())"
   ]
  },
  {
   "cell_type": "code",
   "execution_count": 15,
   "metadata": {},
   "outputs": [],
   "source": [
    "import importlib, transformer\n",
    "importlib.reload(transformer)\n",
    "from transformer import VQVAETransformer"
   ]
  },
  {
   "cell_type": "code",
   "execution_count": 16,
   "metadata": {},
   "outputs": [],
   "source": [
    "class TrainTransformer:\n",
    "    def __init__(self, args, data, lev):\n",
    "        self.model = VQVAETransformer(args).to(device=args.device)\n",
    "        self.optim = self.configure_optimizers()\n",
    "        self.lr_schedule = WarmupLinearLRSchedule(\n",
    "            optimizer=self.optim,\n",
    "            init_lr=1e-7,\n",
    "            peak_lr=args.learning_rate,\n",
    "            end_lr=0.,\n",
    "            warmup_epochs=10,\n",
    "            epochs=args.epochs,\n",
    "            current_step=args.start_from_epoch\n",
    "        )\n",
    "        #self.lr_schedule = AdafactorSchedule(self.optim, initial_lr=1e-2)\n",
    "\n",
    "        if args.start_from_epoch > 1:\n",
    "            self.model.load_checkpoint(args.start_from_epoch)\n",
    "            print(f\"Loaded Transformer from epoch {args.start_from_epoch}.\")\n",
    "        \n",
    "        wandb.watch(self.model)\n",
    "        self.lev = lev\n",
    "        self.train(args, data)\n",
    "\n",
    "    def train(self, args, data):\n",
    "        train_dataset = data\n",
    "        len_train_dataset = len(train_dataset)\n",
    "        step = args.start_from_epoch * len_train_dataset\n",
    "        for epoch in range(args.start_from_epoch+1, args.epochs+1):\n",
    "            print(f\"Epoch {epoch}:\")\n",
    "            with tqdm(range(len(train_dataset))) as pbar:\n",
    "                for i, (ids_t, ids_b) in zip(pbar, train_dataset):\n",
    "                    if self.lev == 'top':\n",
    "                        imgs = ids_t\n",
    "                    elif self.lev == 'bot':\n",
    "                        imgs = ids_b\n",
    "                    imgs = imgs.to(device=args.device)\n",
    "                    logits, target = self.model(imgs)\n",
    "                    loss = F.cross_entropy(logits.reshape(-1, logits.size(-1)), target.reshape(-1)).requires_grad_(True)\n",
    "                    loss.backward()\n",
    "                    if step % args.accum_grad == 0:\n",
    "                        self.optim.step()\n",
    "                        self.optim.zero_grad()\n",
    "                    step += 1\n",
    "                    pbar.set_postfix(Transformer_Loss=np.round(loss.cpu().detach().numpy().item(), 4))\n",
    "                    pbar.update(0)\n",
    "                    \n",
    "                    pbar.set_description(\n",
    "                    (\n",
    "                        f\" lr {self.optim.param_groups[0]['lr']:.6f}\\t\"\n",
    "                    )\n",
    "                    )\n",
    "                    wandb.log({\n",
    "                        \"Loss\": loss,\n",
    "                        \"Learning rate\": self.optim.param_groups[0]['lr']\n",
    "                    })\n",
    "                self.lr_schedule.step()\n",
    "            try:\n",
    "                log, sampled_imgs = self.model.log_images(imgs[0:1])\n",
    "                vutils.save_image(sampled_imgs.add(1).mul(0.5), os.path.join(\"results\", f\"{epoch}.jpg\"), nrow=4)\n",
    "                plot_images(log)\n",
    "            except:\n",
    "                pass\n",
    "            #if epoch % args.ckpt_interval == 0:\n",
    "            #    torch.save(self.model.state_dict(), os.path.join(\"checkpoints\", f\"transformer_epoch_{epoch}.pt\"))\n",
    "            torch.save(self.model.state_dict(), os.path.join(\"checkpoints\", \"transformer_current_bot.pt\"))\n",
    "\n",
    "    def configure_optimizers(self):\n",
    "        # decay, no_decay = set(), set()\n",
    "        # whitelist_weight_modules = (nn.Linear,)\n",
    "        # blacklist_weight_modules = (nn.LayerNorm, nn.Embedding)\n",
    "        # for mn, m in self.model.transformer.named_modules():\n",
    "        #     for pn, p in m.named_parameters():\n",
    "        #         fpn = '%s.%s' % (mn, pn) if mn else pn  # full param name\n",
    "        #\n",
    "        #         if pn.endswith('bias'):\n",
    "        #             no_decay.add(fpn)\n",
    "        #\n",
    "        #         elif pn.endswith('weight') and isinstance(m, whitelist_weight_modules):\n",
    "        #             decay.add(fpn)\n",
    "        #\n",
    "        #         elif pn.endswith('weight') and isinstance(m, blacklist_weight_modules):\n",
    "        #             no_decay.add(fpn)\n",
    "        #\n",
    "        # # no_decay.add('pos_emb')\n",
    "        #\n",
    "        # param_dict = {pn: p for pn, p in self.model.transformer.named_parameters()}\n",
    "        #\n",
    "        # optim_groups = [\n",
    "        #     {\"params\": [param_dict[pn] for pn in sorted(list(decay))], \"weight_decay\": 4.5e-2},\n",
    "        #     {\"params\": [param_dict[pn] for pn in sorted(list(no_decay))], \"weight_decay\": 0.0},\n",
    "        # ]\n",
    "        optimizer = torch.optim.Adam(self.model.transformer.parameters(), lr=1e-7, betas=(0.9, 0.96), weight_decay=4.5e-2)\n",
    "        #optimizer = Adafactor(self.model.parameters(), lr=0.0, scale_parameter=True, relative_step=False)\n",
    "        #optimizer = Adafactor(self.model.parameters(), scale_parameter=True, relative_step=True, warmup_init=True)\n",
    "        return optimizer\n"
   ]
  },
  {
   "cell_type": "code",
   "execution_count": null,
   "metadata": {},
   "outputs": [],
   "source": [
    "torch.save(TrainTransformer.model.state_dict(), os.path.join(\"checkpoints\", \"transformer_current_bot.pt\"))"
   ]
  },
  {
   "cell_type": "code",
   "execution_count": 17,
   "metadata": {},
   "outputs": [],
   "source": [
    "import argparse\n",
    "parser = argparse.ArgumentParser(description=\"VQGAN\")\n",
    "parser.add_argument('--run-name', type=str, default=None)\n",
    "parser.add_argument('--latent-dim', type=int, default=32, help='Latent dimension n_z.')\n",
    "parser.add_argument('--image-size', type=int, default=256, help='Image height and width.)')\n",
    "parser.add_argument('--num-codebook-vectors', type=int, default=8192, help='Number of codebook vectors.')\n",
    "parser.add_argument('--beta', type=float, default=0.25, help='Commitment loss scalar.')\n",
    "parser.add_argument('--image-channels', type=int, default=3, help='Number of channels of images.')\n",
    "parser.add_argument('--dataset-path', type=str, default='./data', help='Path to data.')\n",
    "parser.add_argument('--checkpoint-path', type=str, default='./checkpoints/last_ckpt.pt', help='Path to checkpoint.')\n",
    "parser.add_argument('--device', type=str, default=\"cuda\", help='Which device the training is on.')\n",
    "parser.add_argument('--batch-size', type=int, default=10, help='Batch size for training.')\n",
    "parser.add_argument('--accum-grad', type=int, default=10, help='Number for gradient accumulation.')\n",
    "parser.add_argument('--epochs', type=int, default=300, help='Number of epochs to train.')\n",
    "parser.add_argument('--start-from-epoch', type=int, default=1, help='Number of epochs to train.')\n",
    "parser.add_argument('--ckpt-interval', type=int, default=100, help='Number of epochs to train.')\n",
    "parser.add_argument('--learning-rate', type=float, default=1e-4, help='Learning rate.')\n",
    "\n",
    "parser.add_argument('--sos-token', type=int, default=1025, help='Start of Sentence token.')\n",
    "\n",
    "parser.add_argument('--n-layers', type=int, default=24, help='Number of layers of transformer.')\n",
    "parser.add_argument('--dim', type=int, default=768, help='Dimension of transformer.')\n",
    "parser.add_argument('--hidden-dim', type=int, default=3072, help='Dimension of transformer.')\n",
    "parser.add_argument('--num-image-tokens', type=int, default=256, help='Number of image tokens.')\n",
    "\n",
    "args = parser.parse_args(args=[])\n",
    "args.run_name = \"<name>\"\n",
    "args.dataset_path = r\"C:\\Users\\dome\\datasets\\landscape\"\n",
    "args.checkpoint_path = r\".\\checkpoints\"\n",
    "args.n_layers = 12\n",
    "args.dim = 512\n",
    "args.hidden_dim = 3072\n",
    "args.batch_size = 4\n",
    "args.accum_grad = 25\n",
    "args.epochs = 1000\n",
    "\n",
    "args.start_from_epoch = 0\n",
    "\n",
    "args.num_codebook_vectors = 512\n",
    "args.num_image_tokens = 40 * 32\n",
    "\n",
    "wandb.config.update(args)"
   ]
  },
  {
   "cell_type": "code",
   "execution_count": 18,
   "metadata": {},
   "outputs": [],
   "source": [
    "class IDsData(Dataset):\n",
    "    def __init__(self, ids_t, ids_b):\n",
    "        self.ids_t = ids_t\n",
    "        self.ids_b = ids_b\n",
    "        \n",
    "    def __len__(self):\n",
    "        return len(self.ids_t)\n",
    "    \n",
    "    def __getitem__(self, idx):\n",
    "        return self.ids_t[idx], self.ids_b[idx]"
   ]
  },
  {
   "cell_type": "code",
   "execution_count": 19,
   "metadata": {},
   "outputs": [],
   "source": [
    "length = len(ids_t)\n",
    "ids_data = IDsData(ids_t.view(length, -1), ids_b.view(length, -1))"
   ]
  },
  {
   "cell_type": "code",
   "execution_count": 20,
   "metadata": {},
   "outputs": [],
   "source": [
    "batch = 4\n",
    "ids_loader = DataLoader(\n",
    "        ids_data, batch_size=batch, shuffle=True, drop_last=False\n",
    "    )"
   ]
  },
  {
   "cell_type": "code",
   "execution_count": 21,
   "metadata": {},
   "outputs": [
    {
     "name": "stdout",
     "output_type": "stream",
     "text": [
      "Initializing Module Embedding.\n",
      "Initializing Module NonDynamicallyQuantizableLinear.\n",
      "Initializing Module Linear.\n",
      "Initializing Module Linear.\n",
      "Initializing Module NonDynamicallyQuantizableLinear.\n",
      "Initializing Module Linear.\n",
      "Initializing Module Linear.\n",
      "Initializing Module NonDynamicallyQuantizableLinear.\n",
      "Initializing Module Linear.\n",
      "Initializing Module Linear.\n",
      "Initializing Module NonDynamicallyQuantizableLinear.\n",
      "Initializing Module Linear.\n",
      "Initializing Module Linear.\n",
      "Initializing Module NonDynamicallyQuantizableLinear.\n",
      "Initializing Module Linear.\n",
      "Initializing Module Linear.\n",
      "Initializing Module NonDynamicallyQuantizableLinear.\n",
      "Initializing Module Linear.\n",
      "Initializing Module Linear.\n",
      "Initializing Module NonDynamicallyQuantizableLinear.\n",
      "Initializing Module Linear.\n",
      "Initializing Module Linear.\n",
      "Initializing Module NonDynamicallyQuantizableLinear.\n",
      "Initializing Module Linear.\n",
      "Initializing Module Linear.\n",
      "Initializing Module NonDynamicallyQuantizableLinear.\n",
      "Initializing Module Linear.\n",
      "Initializing Module Linear.\n",
      "Initializing Module NonDynamicallyQuantizableLinear.\n",
      "Initializing Module Linear.\n",
      "Initializing Module Linear.\n",
      "Initializing Module NonDynamicallyQuantizableLinear.\n",
      "Initializing Module Linear.\n",
      "Initializing Module Linear.\n",
      "Initializing Module NonDynamicallyQuantizableLinear.\n",
      "Initializing Module Linear.\n",
      "Initializing Module Linear.\n",
      "Initializing Module Linear.\n",
      "Transformer parameters: 52265986\n",
      "Epoch 1:\n"
     ]
    },
    {
     "name": "stderr",
     "output_type": "stream",
     "text": [
      " lr 0.000000\t: 100%|██████████| 494/494 [03:31<00:00,  2.34it/s, Transformer_Loss=6.35]\n"
     ]
    },
    {
     "name": "stdout",
     "output_type": "stream",
     "text": [
      "Epoch 2:\n"
     ]
    },
    {
     "name": "stderr",
     "output_type": "stream",
     "text": [
      " lr 0.000000\t: 100%|██████████| 494/494 [03:32<00:00,  2.32it/s, Transformer_Loss=6.33]\n"
     ]
    },
    {
     "name": "stdout",
     "output_type": "stream",
     "text": [
      "Epoch 3:\n"
     ]
    },
    {
     "name": "stderr",
     "output_type": "stream",
     "text": [
      " lr 0.000010\t: 100%|██████████| 494/494 [03:32<00:00,  2.32it/s, Transformer_Loss=5.57]\n"
     ]
    },
    {
     "name": "stdout",
     "output_type": "stream",
     "text": [
      "Epoch 4:\n"
     ]
    },
    {
     "name": "stderr",
     "output_type": "stream",
     "text": [
      " lr 0.000020\t: 100%|██████████| 494/494 [03:32<00:00,  2.32it/s, Transformer_Loss=3.1] \n"
     ]
    },
    {
     "name": "stdout",
     "output_type": "stream",
     "text": [
      "Epoch 5:\n"
     ]
    },
    {
     "name": "stderr",
     "output_type": "stream",
     "text": [
      " lr 0.000030\t: 100%|██████████| 494/494 [03:33<00:00,  2.32it/s, Transformer_Loss=1.64]\n"
     ]
    },
    {
     "name": "stdout",
     "output_type": "stream",
     "text": [
      "Epoch 6:\n"
     ]
    },
    {
     "name": "stderr",
     "output_type": "stream",
     "text": [
      " lr 0.000040\t: 100%|██████████| 494/494 [03:32<00:00,  2.32it/s, Transformer_Loss=2.89]\n"
     ]
    },
    {
     "name": "stdout",
     "output_type": "stream",
     "text": [
      "Epoch 7:\n"
     ]
    },
    {
     "name": "stderr",
     "output_type": "stream",
     "text": [
      " lr 0.000050\t: 100%|██████████| 494/494 [03:32<00:00,  2.32it/s, Transformer_Loss=0.699]\n"
     ]
    },
    {
     "name": "stdout",
     "output_type": "stream",
     "text": [
      "Epoch 8:\n"
     ]
    },
    {
     "name": "stderr",
     "output_type": "stream",
     "text": [
      " lr 0.000060\t: 100%|██████████| 494/494 [03:32<00:00,  2.32it/s, Transformer_Loss=2.03] \n"
     ]
    },
    {
     "name": "stdout",
     "output_type": "stream",
     "text": [
      "Epoch 9:\n"
     ]
    },
    {
     "name": "stderr",
     "output_type": "stream",
     "text": [
      " lr 0.000070\t: 100%|██████████| 494/494 [03:32<00:00,  2.32it/s, Transformer_Loss=0.774]\n"
     ]
    },
    {
     "name": "stdout",
     "output_type": "stream",
     "text": [
      "Epoch 10:\n"
     ]
    },
    {
     "name": "stderr",
     "output_type": "stream",
     "text": [
      " lr 0.000080\t: 100%|██████████| 494/494 [03:32<00:00,  2.32it/s, Transformer_Loss=3.01] \n"
     ]
    },
    {
     "name": "stdout",
     "output_type": "stream",
     "text": [
      "Epoch 11:\n"
     ]
    },
    {
     "name": "stderr",
     "output_type": "stream",
     "text": [
      " lr 0.000090\t: 100%|██████████| 494/494 [03:32<00:00,  2.32it/s, Transformer_Loss=0.152]\n"
     ]
    },
    {
     "name": "stdout",
     "output_type": "stream",
     "text": [
      "Epoch 12:\n"
     ]
    },
    {
     "name": "stderr",
     "output_type": "stream",
     "text": [
      " lr 0.000100\t: 100%|██████████| 494/494 [03:32<00:00,  2.32it/s, Transformer_Loss=1.57]  \n"
     ]
    },
    {
     "name": "stdout",
     "output_type": "stream",
     "text": [
      "Epoch 13:\n"
     ]
    },
    {
     "name": "stderr",
     "output_type": "stream",
     "text": [
      " lr 0.000100\t: 100%|██████████| 494/494 [03:32<00:00,  2.32it/s, Transformer_Loss=3.89]  \n"
     ]
    },
    {
     "name": "stdout",
     "output_type": "stream",
     "text": [
      "Epoch 14:\n"
     ]
    },
    {
     "name": "stderr",
     "output_type": "stream",
     "text": [
      " lr 0.000100\t: 100%|██████████| 494/494 [03:32<00:00,  2.32it/s, Transformer_Loss=0.585] \n"
     ]
    },
    {
     "name": "stdout",
     "output_type": "stream",
     "text": [
      "Epoch 15:\n"
     ]
    },
    {
     "name": "stderr",
     "output_type": "stream",
     "text": [
      " lr 0.000100\t: 100%|██████████| 494/494 [03:32<00:00,  2.32it/s, Transformer_Loss=3.04]  \n"
     ]
    },
    {
     "name": "stdout",
     "output_type": "stream",
     "text": [
      "Epoch 16:\n"
     ]
    },
    {
     "name": "stderr",
     "output_type": "stream",
     "text": [
      " lr 0.000100\t: 100%|██████████| 494/494 [03:32<00:00,  2.32it/s, Transformer_Loss=0.394] \n"
     ]
    },
    {
     "name": "stdout",
     "output_type": "stream",
     "text": [
      "Epoch 17:\n"
     ]
    },
    {
     "name": "stderr",
     "output_type": "stream",
     "text": [
      " lr 0.000099\t: 100%|██████████| 494/494 [03:32<00:00,  2.32it/s, Transformer_Loss=1.11]  \n"
     ]
    },
    {
     "name": "stdout",
     "output_type": "stream",
     "text": [
      "Epoch 18:\n"
     ]
    },
    {
     "name": "stderr",
     "output_type": "stream",
     "text": [
      " lr 0.000099\t: 100%|██████████| 494/494 [03:33<00:00,  2.32it/s, Transformer_Loss=0.294] \n"
     ]
    },
    {
     "name": "stdout",
     "output_type": "stream",
     "text": [
      "Epoch 19:\n"
     ]
    },
    {
     "name": "stderr",
     "output_type": "stream",
     "text": [
      " lr 0.000099\t: 100%|██████████| 494/494 [03:32<00:00,  2.32it/s, Transformer_Loss=0.786] \n"
     ]
    },
    {
     "name": "stdout",
     "output_type": "stream",
     "text": [
      "Epoch 20:\n"
     ]
    },
    {
     "name": "stderr",
     "output_type": "stream",
     "text": [
      " lr 0.000099\t: 100%|██████████| 494/494 [03:32<00:00,  2.32it/s, Transformer_Loss=0.36]  \n"
     ]
    },
    {
     "name": "stdout",
     "output_type": "stream",
     "text": [
      "Epoch 21:\n"
     ]
    },
    {
     "name": "stderr",
     "output_type": "stream",
     "text": [
      " lr 0.000099\t: 100%|██████████| 494/494 [03:32<00:00,  2.32it/s, Transformer_Loss=0.408] \n"
     ]
    },
    {
     "name": "stdout",
     "output_type": "stream",
     "text": [
      "Epoch 22:\n"
     ]
    },
    {
     "name": "stderr",
     "output_type": "stream",
     "text": [
      " lr 0.000099\t: 100%|██████████| 494/494 [03:32<00:00,  2.32it/s, Transformer_Loss=3.19]  \n"
     ]
    },
    {
     "name": "stdout",
     "output_type": "stream",
     "text": [
      "Epoch 23:\n"
     ]
    },
    {
     "name": "stderr",
     "output_type": "stream",
     "text": [
      " lr 0.000099\t: 100%|██████████| 494/494 [03:32<00:00,  2.32it/s, Transformer_Loss=2.09]  \n"
     ]
    },
    {
     "name": "stdout",
     "output_type": "stream",
     "text": [
      "Epoch 24:\n"
     ]
    },
    {
     "name": "stderr",
     "output_type": "stream",
     "text": [
      " lr 0.000099\t: 100%|██████████| 494/494 [03:32<00:00,  2.32it/s, Transformer_Loss=2.05]  \n"
     ]
    },
    {
     "name": "stdout",
     "output_type": "stream",
     "text": [
      "Epoch 25:\n"
     ]
    },
    {
     "name": "stderr",
     "output_type": "stream",
     "text": [
      " lr 0.000099\t: 100%|██████████| 494/494 [03:33<00:00,  2.32it/s, Transformer_Loss=1.25]  \n"
     ]
    },
    {
     "name": "stdout",
     "output_type": "stream",
     "text": [
      "Epoch 26:\n"
     ]
    },
    {
     "name": "stderr",
     "output_type": "stream",
     "text": [
      " lr 0.000099\t: 100%|██████████| 494/494 [03:32<00:00,  2.32it/s, Transformer_Loss=0.309] \n"
     ]
    },
    {
     "name": "stdout",
     "output_type": "stream",
     "text": [
      "Epoch 27:\n"
     ]
    },
    {
     "name": "stderr",
     "output_type": "stream",
     "text": [
      " lr 0.000098\t: 100%|██████████| 494/494 [03:32<00:00,  2.32it/s, Transformer_Loss=1.92]  \n"
     ]
    },
    {
     "name": "stdout",
     "output_type": "stream",
     "text": [
      "Epoch 28:\n"
     ]
    },
    {
     "name": "stderr",
     "output_type": "stream",
     "text": [
      " lr 0.000098\t: 100%|██████████| 494/494 [03:32<00:00,  2.32it/s, Transformer_Loss=2.75]  \n"
     ]
    },
    {
     "name": "stdout",
     "output_type": "stream",
     "text": [
      "Epoch 29:\n"
     ]
    },
    {
     "name": "stderr",
     "output_type": "stream",
     "text": [
      " lr 0.000098\t: 100%|██████████| 494/494 [03:33<00:00,  2.32it/s, Transformer_Loss=3.37]  \n"
     ]
    },
    {
     "name": "stdout",
     "output_type": "stream",
     "text": [
      "Epoch 30:\n"
     ]
    },
    {
     "name": "stderr",
     "output_type": "stream",
     "text": [
      " lr 0.000098\t: 100%|██████████| 494/494 [03:32<00:00,  2.32it/s, Transformer_Loss=1.13]  \n"
     ]
    },
    {
     "name": "stdout",
     "output_type": "stream",
     "text": [
      "Epoch 31:\n"
     ]
    },
    {
     "name": "stderr",
     "output_type": "stream",
     "text": [
      " lr 0.000098\t: 100%|██████████| 494/494 [03:32<00:00,  2.32it/s, Transformer_Loss=2.18]  \n"
     ]
    },
    {
     "name": "stdout",
     "output_type": "stream",
     "text": [
      "Epoch 32:\n"
     ]
    },
    {
     "name": "stderr",
     "output_type": "stream",
     "text": [
      " lr 0.000098\t: 100%|██████████| 494/494 [03:32<00:00,  2.32it/s, Transformer_Loss=0.651] \n"
     ]
    },
    {
     "name": "stdout",
     "output_type": "stream",
     "text": [
      "Epoch 33:\n"
     ]
    },
    {
     "name": "stderr",
     "output_type": "stream",
     "text": [
      " lr 0.000098\t: 100%|██████████| 494/494 [03:32<00:00,  2.32it/s, Transformer_Loss=0.566] \n"
     ]
    },
    {
     "name": "stdout",
     "output_type": "stream",
     "text": [
      "Epoch 34:\n"
     ]
    },
    {
     "name": "stderr",
     "output_type": "stream",
     "text": [
      " lr 0.000098\t: 100%|██████████| 494/494 [03:32<00:00,  2.32it/s, Transformer_Loss=0.0533]\n"
     ]
    },
    {
     "name": "stdout",
     "output_type": "stream",
     "text": [
      "Epoch 35:\n"
     ]
    },
    {
     "name": "stderr",
     "output_type": "stream",
     "text": [
      " lr 0.000098\t: 100%|██████████| 494/494 [03:33<00:00,  2.32it/s, Transformer_Loss=0.803] \n"
     ]
    },
    {
     "name": "stdout",
     "output_type": "stream",
     "text": [
      "Epoch 36:\n"
     ]
    },
    {
     "name": "stderr",
     "output_type": "stream",
     "text": [
      " lr 0.000098\t: 100%|██████████| 494/494 [03:32<00:00,  2.32it/s, Transformer_Loss=1.07]  \n"
     ]
    },
    {
     "name": "stdout",
     "output_type": "stream",
     "text": [
      "Epoch 37:\n"
     ]
    },
    {
     "name": "stderr",
     "output_type": "stream",
     "text": [
      " lr 0.000097\t: 100%|██████████| 494/494 [03:32<00:00,  2.32it/s, Transformer_Loss=0.71]  \n"
     ]
    },
    {
     "name": "stdout",
     "output_type": "stream",
     "text": [
      "Epoch 38:\n"
     ]
    },
    {
     "name": "stderr",
     "output_type": "stream",
     "text": [
      " lr 0.000097\t: 100%|██████████| 494/494 [03:32<00:00,  2.32it/s, Transformer_Loss=0.0621]\n"
     ]
    },
    {
     "name": "stdout",
     "output_type": "stream",
     "text": [
      "Epoch 39:\n"
     ]
    },
    {
     "name": "stderr",
     "output_type": "stream",
     "text": [
      " lr 0.000097\t: 100%|██████████| 494/494 [03:32<00:00,  2.32it/s, Transformer_Loss=1.26]  \n"
     ]
    },
    {
     "name": "stdout",
     "output_type": "stream",
     "text": [
      "Epoch 40:\n"
     ]
    },
    {
     "name": "stderr",
     "output_type": "stream",
     "text": [
      " lr 0.000097\t: 100%|██████████| 494/494 [03:32<00:00,  2.32it/s, Transformer_Loss=4.15]  \n"
     ]
    },
    {
     "name": "stdout",
     "output_type": "stream",
     "text": [
      "Epoch 41:\n"
     ]
    },
    {
     "name": "stderr",
     "output_type": "stream",
     "text": [
      " lr 0.000097\t: 100%|██████████| 494/494 [03:32<00:00,  2.32it/s, Transformer_Loss=0.192] \n"
     ]
    },
    {
     "name": "stdout",
     "output_type": "stream",
     "text": [
      "Epoch 42:\n"
     ]
    },
    {
     "name": "stderr",
     "output_type": "stream",
     "text": [
      " lr 0.000097\t: 100%|██████████| 494/494 [03:32<00:00,  2.32it/s, Transformer_Loss=3.32]  \n"
     ]
    },
    {
     "name": "stdout",
     "output_type": "stream",
     "text": [
      "Epoch 43:\n"
     ]
    },
    {
     "name": "stderr",
     "output_type": "stream",
     "text": [
      " lr 0.000097\t: 100%|██████████| 494/494 [03:32<00:00,  2.32it/s, Transformer_Loss=0.901] \n"
     ]
    },
    {
     "name": "stdout",
     "output_type": "stream",
     "text": [
      "Epoch 44:\n"
     ]
    },
    {
     "name": "stderr",
     "output_type": "stream",
     "text": [
      " lr 0.000097\t: 100%|██████████| 494/494 [03:32<00:00,  2.33it/s, Transformer_Loss=2.21]  \n"
     ]
    },
    {
     "name": "stdout",
     "output_type": "stream",
     "text": [
      "Epoch 45:\n"
     ]
    },
    {
     "name": "stderr",
     "output_type": "stream",
     "text": [
      " lr 0.000097\t: 100%|██████████| 494/494 [03:32<00:00,  2.32it/s, Transformer_Loss=1.95]  \n"
     ]
    },
    {
     "name": "stdout",
     "output_type": "stream",
     "text": [
      "Epoch 46:\n"
     ]
    },
    {
     "name": "stderr",
     "output_type": "stream",
     "text": [
      " lr 0.000097\t: 100%|██████████| 494/494 [03:32<00:00,  2.33it/s, Transformer_Loss=0.811] \n"
     ]
    },
    {
     "name": "stdout",
     "output_type": "stream",
     "text": [
      "Epoch 47:\n"
     ]
    },
    {
     "name": "stderr",
     "output_type": "stream",
     "text": [
      " lr 0.000096\t: 100%|██████████| 494/494 [03:32<00:00,  2.32it/s, Transformer_Loss=0.0281]\n"
     ]
    },
    {
     "name": "stdout",
     "output_type": "stream",
     "text": [
      "Epoch 48:\n"
     ]
    },
    {
     "name": "stderr",
     "output_type": "stream",
     "text": [
      " lr 0.000096\t: 100%|██████████| 494/494 [03:32<00:00,  2.33it/s, Transformer_Loss=0.758] \n"
     ]
    },
    {
     "name": "stdout",
     "output_type": "stream",
     "text": [
      "Epoch 49:\n"
     ]
    },
    {
     "name": "stderr",
     "output_type": "stream",
     "text": [
      " lr 0.000096\t: 100%|██████████| 494/494 [03:32<00:00,  2.32it/s, Transformer_Loss=1.42]  \n"
     ]
    },
    {
     "name": "stdout",
     "output_type": "stream",
     "text": [
      "Epoch 50:\n"
     ]
    },
    {
     "name": "stderr",
     "output_type": "stream",
     "text": [
      " lr 0.000096\t: 100%|██████████| 494/494 [03:32<00:00,  2.33it/s, Transformer_Loss=1.46]  \n"
     ]
    },
    {
     "name": "stdout",
     "output_type": "stream",
     "text": [
      "Epoch 51:\n"
     ]
    },
    {
     "name": "stderr",
     "output_type": "stream",
     "text": [
      " lr 0.000096\t: 100%|██████████| 494/494 [03:32<00:00,  2.32it/s, Transformer_Loss=3.62]  \n"
     ]
    },
    {
     "name": "stdout",
     "output_type": "stream",
     "text": [
      "Epoch 52:\n"
     ]
    },
    {
     "name": "stderr",
     "output_type": "stream",
     "text": [
      " lr 0.000096\t: 100%|██████████| 494/494 [03:32<00:00,  2.33it/s, Transformer_Loss=0.491] \n"
     ]
    },
    {
     "name": "stdout",
     "output_type": "stream",
     "text": [
      "Epoch 53:\n"
     ]
    },
    {
     "name": "stderr",
     "output_type": "stream",
     "text": [
      " lr 0.000096\t: 100%|██████████| 494/494 [03:32<00:00,  2.32it/s, Transformer_Loss=1.39]  \n"
     ]
    },
    {
     "name": "stdout",
     "output_type": "stream",
     "text": [
      "Epoch 54:\n"
     ]
    },
    {
     "name": "stderr",
     "output_type": "stream",
     "text": [
      " lr 0.000096\t: 100%|██████████| 494/494 [03:32<00:00,  2.32it/s, Transformer_Loss=1.77]  \n"
     ]
    },
    {
     "name": "stdout",
     "output_type": "stream",
     "text": [
      "Epoch 55:\n"
     ]
    },
    {
     "name": "stderr",
     "output_type": "stream",
     "text": [
      " lr 0.000096\t: 100%|██████████| 494/494 [03:32<00:00,  2.32it/s, Transformer_Loss=1.98]  \n"
     ]
    },
    {
     "name": "stdout",
     "output_type": "stream",
     "text": [
      "Epoch 56:\n"
     ]
    },
    {
     "name": "stderr",
     "output_type": "stream",
     "text": [
      " lr 0.000096\t: 100%|██████████| 494/494 [03:32<00:00,  2.33it/s, Transformer_Loss=0.317] \n"
     ]
    },
    {
     "name": "stdout",
     "output_type": "stream",
     "text": [
      "Epoch 57:\n"
     ]
    },
    {
     "name": "stderr",
     "output_type": "stream",
     "text": [
      " lr 0.000095\t: 100%|██████████| 494/494 [03:32<00:00,  2.32it/s, Transformer_Loss=3.62]  \n"
     ]
    },
    {
     "name": "stdout",
     "output_type": "stream",
     "text": [
      "Epoch 58:\n"
     ]
    },
    {
     "name": "stderr",
     "output_type": "stream",
     "text": [
      " lr 0.000095\t: 100%|██████████| 494/494 [03:32<00:00,  2.33it/s, Transformer_Loss=2.42]  \n"
     ]
    },
    {
     "name": "stdout",
     "output_type": "stream",
     "text": [
      "Epoch 59:\n"
     ]
    },
    {
     "name": "stderr",
     "output_type": "stream",
     "text": [
      " lr 0.000095\t: 100%|██████████| 494/494 [03:32<00:00,  2.33it/s, Transformer_Loss=1.21]  \n"
     ]
    },
    {
     "name": "stdout",
     "output_type": "stream",
     "text": [
      "Epoch 60:\n"
     ]
    },
    {
     "name": "stderr",
     "output_type": "stream",
     "text": [
      " lr 0.000095\t: 100%|██████████| 494/494 [03:32<00:00,  2.33it/s, Transformer_Loss=3.99]  \n"
     ]
    },
    {
     "name": "stdout",
     "output_type": "stream",
     "text": [
      "Epoch 61:\n"
     ]
    },
    {
     "name": "stderr",
     "output_type": "stream",
     "text": [
      " lr 0.000095\t: 100%|██████████| 494/494 [03:32<00:00,  2.33it/s, Transformer_Loss=0.824] \n"
     ]
    },
    {
     "name": "stdout",
     "output_type": "stream",
     "text": [
      "Epoch 62:\n"
     ]
    },
    {
     "name": "stderr",
     "output_type": "stream",
     "text": [
      " lr 0.000095\t: 100%|██████████| 494/494 [03:32<00:00,  2.33it/s, Transformer_Loss=1.15]  \n"
     ]
    },
    {
     "name": "stdout",
     "output_type": "stream",
     "text": [
      "Epoch 63:\n"
     ]
    },
    {
     "name": "stderr",
     "output_type": "stream",
     "text": [
      " lr 0.000095\t: 100%|██████████| 494/494 [03:32<00:00,  2.32it/s, Transformer_Loss=0.0383]\n"
     ]
    },
    {
     "name": "stdout",
     "output_type": "stream",
     "text": [
      "Epoch 64:\n"
     ]
    },
    {
     "name": "stderr",
     "output_type": "stream",
     "text": [
      " lr 0.000095\t: 100%|██████████| 494/494 [03:32<00:00,  2.33it/s, Transformer_Loss=0.159] \n"
     ]
    },
    {
     "name": "stdout",
     "output_type": "stream",
     "text": [
      "Epoch 65:\n"
     ]
    },
    {
     "name": "stderr",
     "output_type": "stream",
     "text": [
      " lr 0.000095\t: 100%|██████████| 494/494 [03:32<00:00,  2.32it/s, Transformer_Loss=2.21]  \n"
     ]
    },
    {
     "name": "stdout",
     "output_type": "stream",
     "text": [
      "Epoch 66:\n"
     ]
    },
    {
     "name": "stderr",
     "output_type": "stream",
     "text": [
      " lr 0.000095\t: 100%|██████████| 494/494 [03:32<00:00,  2.33it/s, Transformer_Loss=0.848] \n"
     ]
    },
    {
     "name": "stdout",
     "output_type": "stream",
     "text": [
      "Epoch 67:\n"
     ]
    },
    {
     "name": "stderr",
     "output_type": "stream",
     "text": [
      " lr 0.000094\t: 100%|██████████| 494/494 [03:32<00:00,  2.32it/s, Transformer_Loss=0.39]  \n"
     ]
    },
    {
     "name": "stdout",
     "output_type": "stream",
     "text": [
      "Epoch 68:\n"
     ]
    },
    {
     "name": "stderr",
     "output_type": "stream",
     "text": [
      " lr 0.000094\t: 100%|██████████| 494/494 [03:32<00:00,  2.33it/s, Transformer_Loss=0.0841]\n"
     ]
    },
    {
     "name": "stdout",
     "output_type": "stream",
     "text": [
      "Epoch 69:\n"
     ]
    },
    {
     "name": "stderr",
     "output_type": "stream",
     "text": [
      " lr 0.000094\t: 100%|██████████| 494/494 [03:32<00:00,  2.32it/s, Transformer_Loss=0.186] \n"
     ]
    },
    {
     "name": "stdout",
     "output_type": "stream",
     "text": [
      "Epoch 70:\n"
     ]
    },
    {
     "name": "stderr",
     "output_type": "stream",
     "text": [
      " lr 0.000094\t: 100%|██████████| 494/494 [03:32<00:00,  2.33it/s, Transformer_Loss=0.0431]\n"
     ]
    },
    {
     "name": "stdout",
     "output_type": "stream",
     "text": [
      "Epoch 71:\n"
     ]
    },
    {
     "name": "stderr",
     "output_type": "stream",
     "text": [
      " lr 0.000094\t: 100%|██████████| 494/494 [03:32<00:00,  2.33it/s, Transformer_Loss=3.97]  \n"
     ]
    },
    {
     "name": "stdout",
     "output_type": "stream",
     "text": [
      "Epoch 72:\n"
     ]
    },
    {
     "name": "stderr",
     "output_type": "stream",
     "text": [
      " lr 0.000094\t: 100%|██████████| 494/494 [03:32<00:00,  2.33it/s, Transformer_Loss=0.705] \n"
     ]
    },
    {
     "name": "stdout",
     "output_type": "stream",
     "text": [
      "Epoch 73:\n"
     ]
    },
    {
     "name": "stderr",
     "output_type": "stream",
     "text": [
      " lr 0.000094\t: 100%|██████████| 494/494 [03:32<00:00,  2.32it/s, Transformer_Loss=3.32]  \n"
     ]
    },
    {
     "name": "stdout",
     "output_type": "stream",
     "text": [
      "Epoch 74:\n"
     ]
    },
    {
     "name": "stderr",
     "output_type": "stream",
     "text": [
      " lr 0.000094\t: 100%|██████████| 494/494 [03:32<00:00,  2.33it/s, Transformer_Loss=0.683] \n"
     ]
    },
    {
     "name": "stdout",
     "output_type": "stream",
     "text": [
      "Epoch 75:\n"
     ]
    },
    {
     "name": "stderr",
     "output_type": "stream",
     "text": [
      " lr 0.000094\t: 100%|██████████| 494/494 [03:32<00:00,  2.33it/s, Transformer_Loss=1.79]  \n"
     ]
    },
    {
     "name": "stdout",
     "output_type": "stream",
     "text": [
      "Epoch 76:\n"
     ]
    },
    {
     "name": "stderr",
     "output_type": "stream",
     "text": [
      " lr 0.000094\t: 100%|██████████| 494/494 [03:32<00:00,  2.33it/s, Transformer_Loss=3.67]  \n"
     ]
    },
    {
     "name": "stdout",
     "output_type": "stream",
     "text": [
      "Epoch 77:\n"
     ]
    },
    {
     "name": "stderr",
     "output_type": "stream",
     "text": [
      " lr 0.000093\t: 100%|██████████| 494/494 [03:32<00:00,  2.33it/s, Transformer_Loss=3.45]  \n"
     ]
    },
    {
     "name": "stdout",
     "output_type": "stream",
     "text": [
      "Epoch 78:\n"
     ]
    },
    {
     "name": "stderr",
     "output_type": "stream",
     "text": [
      " lr 0.000093\t: 100%|██████████| 494/494 [03:32<00:00,  2.33it/s, Transformer_Loss=0.0531]\n"
     ]
    },
    {
     "name": "stdout",
     "output_type": "stream",
     "text": [
      "Epoch 79:\n"
     ]
    },
    {
     "name": "stderr",
     "output_type": "stream",
     "text": [
      " lr 0.000093\t: 100%|██████████| 494/494 [03:32<00:00,  2.33it/s, Transformer_Loss=2.5]   \n"
     ]
    },
    {
     "name": "stdout",
     "output_type": "stream",
     "text": [
      "Epoch 80:\n"
     ]
    },
    {
     "name": "stderr",
     "output_type": "stream",
     "text": [
      " lr 0.000093\t: 100%|██████████| 494/494 [03:31<00:00,  2.33it/s, Transformer_Loss=0.0845]\n"
     ]
    },
    {
     "name": "stdout",
     "output_type": "stream",
     "text": [
      "Epoch 81:\n"
     ]
    },
    {
     "name": "stderr",
     "output_type": "stream",
     "text": [
      " lr 0.000093\t: 100%|██████████| 494/494 [03:32<00:00,  2.32it/s, Transformer_Loss=0.0643]\n"
     ]
    },
    {
     "name": "stdout",
     "output_type": "stream",
     "text": [
      "Epoch 82:\n"
     ]
    },
    {
     "name": "stderr",
     "output_type": "stream",
     "text": [
      " lr 0.000093\t: 100%|██████████| 494/494 [03:32<00:00,  2.33it/s, Transformer_Loss=4.19]  \n"
     ]
    },
    {
     "name": "stdout",
     "output_type": "stream",
     "text": [
      "Epoch 83:\n"
     ]
    },
    {
     "name": "stderr",
     "output_type": "stream",
     "text": [
      " lr 0.000093\t: 100%|██████████| 494/494 [03:32<00:00,  2.33it/s, Transformer_Loss=0.756] \n"
     ]
    },
    {
     "name": "stdout",
     "output_type": "stream",
     "text": [
      "Epoch 84:\n"
     ]
    },
    {
     "name": "stderr",
     "output_type": "stream",
     "text": [
      " lr 0.000093\t: 100%|██████████| 494/494 [03:32<00:00,  2.33it/s, Transformer_Loss=0.0833]\n"
     ]
    },
    {
     "name": "stdout",
     "output_type": "stream",
     "text": [
      "Epoch 85:\n"
     ]
    },
    {
     "name": "stderr",
     "output_type": "stream",
     "text": [
      " lr 0.000093\t: 100%|██████████| 494/494 [03:32<00:00,  2.33it/s, Transformer_Loss=3.03]  \n"
     ]
    },
    {
     "name": "stdout",
     "output_type": "stream",
     "text": [
      "Epoch 86:\n"
     ]
    },
    {
     "name": "stderr",
     "output_type": "stream",
     "text": [
      " lr 0.000093\t: 100%|██████████| 494/494 [03:32<00:00,  2.32it/s, Transformer_Loss=0.653] \n"
     ]
    },
    {
     "name": "stdout",
     "output_type": "stream",
     "text": [
      "Epoch 87:\n"
     ]
    },
    {
     "name": "stderr",
     "output_type": "stream",
     "text": [
      " lr 0.000092\t: 100%|██████████| 494/494 [03:32<00:00,  2.33it/s, Transformer_Loss=1.88]  \n"
     ]
    },
    {
     "name": "stdout",
     "output_type": "stream",
     "text": [
      "Epoch 88:\n"
     ]
    },
    {
     "name": "stderr",
     "output_type": "stream",
     "text": [
      " lr 0.000092\t: 100%|██████████| 494/494 [03:32<00:00,  2.32it/s, Transformer_Loss=0.637] \n"
     ]
    },
    {
     "name": "stdout",
     "output_type": "stream",
     "text": [
      "Epoch 89:\n"
     ]
    },
    {
     "name": "stderr",
     "output_type": "stream",
     "text": [
      " lr 0.000092\t: 100%|██████████| 494/494 [03:32<00:00,  2.33it/s, Transformer_Loss=2.11]  \n"
     ]
    },
    {
     "name": "stdout",
     "output_type": "stream",
     "text": [
      "Epoch 90:\n"
     ]
    },
    {
     "name": "stderr",
     "output_type": "stream",
     "text": [
      " lr 0.000092\t: 100%|██████████| 494/494 [03:32<00:00,  2.32it/s, Transformer_Loss=2.08]  \n"
     ]
    },
    {
     "name": "stdout",
     "output_type": "stream",
     "text": [
      "Epoch 91:\n"
     ]
    },
    {
     "name": "stderr",
     "output_type": "stream",
     "text": [
      " lr 0.000092\t: 100%|██████████| 494/494 [03:32<00:00,  2.33it/s, Transformer_Loss=0.075] \n"
     ]
    },
    {
     "name": "stdout",
     "output_type": "stream",
     "text": [
      "Epoch 92:\n"
     ]
    },
    {
     "name": "stderr",
     "output_type": "stream",
     "text": [
      " lr 0.000092\t: 100%|██████████| 494/494 [03:32<00:00,  2.32it/s, Transformer_Loss=2.03]  \n"
     ]
    },
    {
     "name": "stdout",
     "output_type": "stream",
     "text": [
      "Epoch 93:\n"
     ]
    },
    {
     "name": "stderr",
     "output_type": "stream",
     "text": [
      " lr 0.000092\t: 100%|██████████| 494/494 [03:32<00:00,  2.33it/s, Transformer_Loss=0.14]  \n"
     ]
    },
    {
     "name": "stdout",
     "output_type": "stream",
     "text": [
      "Epoch 94:\n"
     ]
    },
    {
     "name": "stderr",
     "output_type": "stream",
     "text": [
      " lr 0.000092\t: 100%|██████████| 494/494 [03:32<00:00,  2.32it/s, Transformer_Loss=1.63]  \n"
     ]
    },
    {
     "name": "stdout",
     "output_type": "stream",
     "text": [
      "Epoch 95:\n"
     ]
    },
    {
     "name": "stderr",
     "output_type": "stream",
     "text": [
      " lr 0.000092\t: 100%|██████████| 494/494 [03:32<00:00,  2.33it/s, Transformer_Loss=1.62]  \n"
     ]
    },
    {
     "name": "stdout",
     "output_type": "stream",
     "text": [
      "Epoch 96:\n"
     ]
    },
    {
     "name": "stderr",
     "output_type": "stream",
     "text": [
      " lr 0.000092\t: 100%|██████████| 494/494 [03:32<00:00,  2.33it/s, Transformer_Loss=2.37]  \n"
     ]
    },
    {
     "name": "stdout",
     "output_type": "stream",
     "text": [
      "Epoch 97:\n"
     ]
    },
    {
     "name": "stderr",
     "output_type": "stream",
     "text": [
      " lr 0.000091\t: 100%|██████████| 494/494 [03:32<00:00,  2.32it/s, Transformer_Loss=1.6]   \n"
     ]
    },
    {
     "name": "stdout",
     "output_type": "stream",
     "text": [
      "Epoch 98:\n"
     ]
    },
    {
     "name": "stderr",
     "output_type": "stream",
     "text": [
      " lr 0.000091\t: 100%|██████████| 494/494 [03:32<00:00,  2.32it/s, Transformer_Loss=1.39]  \n"
     ]
    },
    {
     "name": "stdout",
     "output_type": "stream",
     "text": [
      "Epoch 99:\n"
     ]
    },
    {
     "name": "stderr",
     "output_type": "stream",
     "text": [
      " lr 0.000091\t: 100%|██████████| 494/494 [03:32<00:00,  2.33it/s, Transformer_Loss=2.34]  \n"
     ]
    },
    {
     "name": "stdout",
     "output_type": "stream",
     "text": [
      "Epoch 100:\n"
     ]
    },
    {
     "name": "stderr",
     "output_type": "stream",
     "text": [
      " lr 0.000091\t: 100%|██████████| 494/494 [03:32<00:00,  2.33it/s, Transformer_Loss=1.95]  \n"
     ]
    },
    {
     "name": "stdout",
     "output_type": "stream",
     "text": [
      "Epoch 101:\n"
     ]
    },
    {
     "name": "stderr",
     "output_type": "stream",
     "text": [
      " lr 0.000091\t: 100%|██████████| 494/494 [03:31<00:00,  2.33it/s, Transformer_Loss=1.04]  \n"
     ]
    },
    {
     "name": "stdout",
     "output_type": "stream",
     "text": [
      "Epoch 102:\n"
     ]
    },
    {
     "name": "stderr",
     "output_type": "stream",
     "text": [
      " lr 0.000091\t: 100%|██████████| 494/494 [03:32<00:00,  2.33it/s, Transformer_Loss=0.237] \n"
     ]
    },
    {
     "name": "stdout",
     "output_type": "stream",
     "text": [
      "Epoch 103:\n"
     ]
    },
    {
     "name": "stderr",
     "output_type": "stream",
     "text": [
      " lr 0.000091\t: 100%|██████████| 494/494 [03:32<00:00,  2.33it/s, Transformer_Loss=0.234] \n"
     ]
    },
    {
     "name": "stdout",
     "output_type": "stream",
     "text": [
      "Epoch 104:\n"
     ]
    },
    {
     "name": "stderr",
     "output_type": "stream",
     "text": [
      " lr 0.000091\t: 100%|██████████| 494/494 [03:32<00:00,  2.33it/s, Transformer_Loss=1.73]  \n"
     ]
    },
    {
     "name": "stdout",
     "output_type": "stream",
     "text": [
      "Epoch 105:\n"
     ]
    },
    {
     "name": "stderr",
     "output_type": "stream",
     "text": [
      " lr 0.000091\t: 100%|██████████| 494/494 [03:32<00:00,  2.33it/s, Transformer_Loss=0.339] \n"
     ]
    },
    {
     "name": "stdout",
     "output_type": "stream",
     "text": [
      "Epoch 106:\n"
     ]
    },
    {
     "name": "stderr",
     "output_type": "stream",
     "text": [
      " lr 0.000091\t: 100%|██████████| 494/494 [03:32<00:00,  2.32it/s, Transformer_Loss=0.269] \n"
     ]
    },
    {
     "name": "stdout",
     "output_type": "stream",
     "text": [
      "Epoch 107:\n"
     ]
    },
    {
     "name": "stderr",
     "output_type": "stream",
     "text": [
      " lr 0.000090\t: 100%|██████████| 494/494 [03:32<00:00,  2.33it/s, Transformer_Loss=0.0477]\n"
     ]
    },
    {
     "name": "stdout",
     "output_type": "stream",
     "text": [
      "Epoch 108:\n"
     ]
    },
    {
     "name": "stderr",
     "output_type": "stream",
     "text": [
      " lr 0.000090\t: 100%|██████████| 494/494 [03:32<00:00,  2.33it/s, Transformer_Loss=0.434] \n"
     ]
    },
    {
     "name": "stdout",
     "output_type": "stream",
     "text": [
      "Epoch 109:\n"
     ]
    },
    {
     "name": "stderr",
     "output_type": "stream",
     "text": [
      " lr 0.000090\t: 100%|██████████| 494/494 [03:32<00:00,  2.33it/s, Transformer_Loss=0.438] \n"
     ]
    },
    {
     "name": "stdout",
     "output_type": "stream",
     "text": [
      "Epoch 110:\n"
     ]
    },
    {
     "name": "stderr",
     "output_type": "stream",
     "text": [
      " lr 0.000090\t: 100%|██████████| 494/494 [03:32<00:00,  2.32it/s, Transformer_Loss=0.0604]\n"
     ]
    },
    {
     "name": "stdout",
     "output_type": "stream",
     "text": [
      "Epoch 111:\n"
     ]
    },
    {
     "name": "stderr",
     "output_type": "stream",
     "text": [
      " lr 0.000090\t: 100%|██████████| 494/494 [03:32<00:00,  2.33it/s, Transformer_Loss=0.583] \n"
     ]
    },
    {
     "name": "stdout",
     "output_type": "stream",
     "text": [
      "Epoch 112:\n"
     ]
    },
    {
     "name": "stderr",
     "output_type": "stream",
     "text": [
      " lr 0.000090\t: 100%|██████████| 494/494 [03:32<00:00,  2.32it/s, Transformer_Loss=2.5]   \n"
     ]
    },
    {
     "name": "stdout",
     "output_type": "stream",
     "text": [
      "Epoch 113:\n"
     ]
    },
    {
     "name": "stderr",
     "output_type": "stream",
     "text": [
      " lr 0.000090\t: 100%|██████████| 494/494 [03:32<00:00,  2.33it/s, Transformer_Loss=1.47]  \n"
     ]
    },
    {
     "name": "stdout",
     "output_type": "stream",
     "text": [
      "Epoch 114:\n"
     ]
    },
    {
     "name": "stderr",
     "output_type": "stream",
     "text": [
      " lr 0.000090\t: 100%|██████████| 494/494 [03:32<00:00,  2.32it/s, Transformer_Loss=2.34]  \n"
     ]
    },
    {
     "name": "stdout",
     "output_type": "stream",
     "text": [
      "Epoch 115:\n"
     ]
    },
    {
     "name": "stderr",
     "output_type": "stream",
     "text": [
      " lr 0.000090\t: 100%|██████████| 494/494 [03:32<00:00,  2.33it/s, Transformer_Loss=3.09]  \n"
     ]
    },
    {
     "name": "stdout",
     "output_type": "stream",
     "text": [
      "Epoch 116:\n"
     ]
    },
    {
     "name": "stderr",
     "output_type": "stream",
     "text": [
      " lr 0.000089\t: 100%|██████████| 494/494 [03:32<00:00,  2.32it/s, Transformer_Loss=0.25]  \n"
     ]
    },
    {
     "name": "stdout",
     "output_type": "stream",
     "text": [
      "Epoch 117:\n"
     ]
    },
    {
     "name": "stderr",
     "output_type": "stream",
     "text": [
      " lr 0.000089\t: 100%|██████████| 494/494 [03:32<00:00,  2.33it/s, Transformer_Loss=1.02]  \n"
     ]
    },
    {
     "name": "stdout",
     "output_type": "stream",
     "text": [
      "Epoch 118:\n"
     ]
    },
    {
     "name": "stderr",
     "output_type": "stream",
     "text": [
      " lr 0.000089\t: 100%|██████████| 494/494 [03:32<00:00,  2.32it/s, Transformer_Loss=1.67]  \n"
     ]
    },
    {
     "name": "stdout",
     "output_type": "stream",
     "text": [
      "Epoch 119:\n"
     ]
    },
    {
     "name": "stderr",
     "output_type": "stream",
     "text": [
      " lr 0.000089\t: 100%|██████████| 494/494 [03:32<00:00,  2.32it/s, Transformer_Loss=2.5]   \n"
     ]
    },
    {
     "name": "stdout",
     "output_type": "stream",
     "text": [
      "Epoch 120:\n"
     ]
    },
    {
     "name": "stderr",
     "output_type": "stream",
     "text": [
      " lr 0.000089\t: 100%|██████████| 494/494 [03:32<00:00,  2.32it/s, Transformer_Loss=2.65]  \n"
     ]
    },
    {
     "name": "stdout",
     "output_type": "stream",
     "text": [
      "Epoch 121:\n"
     ]
    },
    {
     "name": "stderr",
     "output_type": "stream",
     "text": [
      " lr 0.000089\t: 100%|██████████| 494/494 [03:32<00:00,  2.33it/s, Transformer_Loss=2.6]   \n"
     ]
    },
    {
     "name": "stdout",
     "output_type": "stream",
     "text": [
      "Epoch 122:\n"
     ]
    },
    {
     "name": "stderr",
     "output_type": "stream",
     "text": [
      " lr 0.000089\t: 100%|██████████| 494/494 [03:32<00:00,  2.32it/s, Transformer_Loss=2.71]  \n"
     ]
    },
    {
     "name": "stdout",
     "output_type": "stream",
     "text": [
      "Epoch 123:\n"
     ]
    },
    {
     "name": "stderr",
     "output_type": "stream",
     "text": [
      " lr 0.000089\t: 100%|██████████| 494/494 [03:32<00:00,  2.33it/s, Transformer_Loss=0.964] \n"
     ]
    },
    {
     "name": "stdout",
     "output_type": "stream",
     "text": [
      "Epoch 124:\n"
     ]
    },
    {
     "name": "stderr",
     "output_type": "stream",
     "text": [
      " lr 0.000089\t: 100%|██████████| 494/494 [03:32<00:00,  2.32it/s, Transformer_Loss=0.175] \n"
     ]
    },
    {
     "name": "stdout",
     "output_type": "stream",
     "text": [
      "Epoch 125:\n"
     ]
    },
    {
     "name": "stderr",
     "output_type": "stream",
     "text": [
      " lr 0.000089\t: 100%|██████████| 494/494 [03:32<00:00,  2.33it/s, Transformer_Loss=2.68]  \n"
     ]
    },
    {
     "name": "stdout",
     "output_type": "stream",
     "text": [
      "Epoch 126:\n"
     ]
    },
    {
     "name": "stderr",
     "output_type": "stream",
     "text": [
      " lr 0.000088\t: 100%|██████████| 494/494 [03:33<00:00,  2.32it/s, Transformer_Loss=1.16]  \n"
     ]
    },
    {
     "name": "stdout",
     "output_type": "stream",
     "text": [
      "Epoch 127:\n"
     ]
    },
    {
     "name": "stderr",
     "output_type": "stream",
     "text": [
      " lr 0.000088\t: 100%|██████████| 494/494 [03:33<00:00,  2.31it/s, Transformer_Loss=1.03]  \n"
     ]
    },
    {
     "name": "stdout",
     "output_type": "stream",
     "text": [
      "Epoch 128:\n"
     ]
    },
    {
     "name": "stderr",
     "output_type": "stream",
     "text": [
      " lr 0.000088\t: 100%|██████████| 494/494 [03:33<00:00,  2.31it/s, Transformer_Loss=2.41]  \n"
     ]
    },
    {
     "name": "stdout",
     "output_type": "stream",
     "text": [
      "Epoch 129:\n"
     ]
    },
    {
     "name": "stderr",
     "output_type": "stream",
     "text": [
      " lr 0.000088\t: 100%|██████████| 494/494 [03:32<00:00,  2.33it/s, Transformer_Loss=0.406] \n"
     ]
    },
    {
     "name": "stdout",
     "output_type": "stream",
     "text": [
      "Epoch 130:\n"
     ]
    },
    {
     "name": "stderr",
     "output_type": "stream",
     "text": [
      " lr 0.000088\t: 100%|██████████| 494/494 [03:32<00:00,  2.32it/s, Transformer_Loss=1.49]  \n"
     ]
    },
    {
     "name": "stdout",
     "output_type": "stream",
     "text": [
      "Epoch 131:\n"
     ]
    },
    {
     "name": "stderr",
     "output_type": "stream",
     "text": [
      " lr 0.000088\t: 100%|██████████| 494/494 [03:32<00:00,  2.33it/s, Transformer_Loss=0.692] \n"
     ]
    },
    {
     "name": "stdout",
     "output_type": "stream",
     "text": [
      "Epoch 132:\n"
     ]
    },
    {
     "name": "stderr",
     "output_type": "stream",
     "text": [
      " lr 0.000088\t: 100%|██████████| 494/494 [03:32<00:00,  2.32it/s, Transformer_Loss=1.63]  \n"
     ]
    },
    {
     "name": "stdout",
     "output_type": "stream",
     "text": [
      "Epoch 133:\n"
     ]
    },
    {
     "name": "stderr",
     "output_type": "stream",
     "text": [
      " lr 0.000088\t: 100%|██████████| 494/494 [03:32<00:00,  2.32it/s, Transformer_Loss=0.284] \n"
     ]
    },
    {
     "name": "stdout",
     "output_type": "stream",
     "text": [
      "Epoch 134:\n"
     ]
    },
    {
     "name": "stderr",
     "output_type": "stream",
     "text": [
      " lr 0.000088\t: 100%|██████████| 494/494 [03:32<00:00,  2.32it/s, Transformer_Loss=1.39]  \n"
     ]
    },
    {
     "name": "stdout",
     "output_type": "stream",
     "text": [
      "Epoch 135:\n"
     ]
    },
    {
     "name": "stderr",
     "output_type": "stream",
     "text": [
      " lr 0.000088\t: 100%|██████████| 494/494 [03:32<00:00,  2.33it/s, Transformer_Loss=3.42]  \n"
     ]
    },
    {
     "name": "stdout",
     "output_type": "stream",
     "text": [
      "Epoch 136:\n"
     ]
    },
    {
     "name": "stderr",
     "output_type": "stream",
     "text": [
      " lr 0.000087\t: 100%|██████████| 494/494 [03:32<00:00,  2.32it/s, Transformer_Loss=3.05]  \n"
     ]
    },
    {
     "name": "stdout",
     "output_type": "stream",
     "text": [
      "Epoch 137:\n"
     ]
    },
    {
     "name": "stderr",
     "output_type": "stream",
     "text": [
      " lr 0.000087\t: 100%|██████████| 494/494 [03:32<00:00,  2.33it/s, Transformer_Loss=0.847] \n"
     ]
    },
    {
     "name": "stdout",
     "output_type": "stream",
     "text": [
      "Epoch 138:\n"
     ]
    },
    {
     "name": "stderr",
     "output_type": "stream",
     "text": [
      " lr 0.000087\t: 100%|██████████| 494/494 [03:32<00:00,  2.32it/s, Transformer_Loss=3.18]  \n"
     ]
    },
    {
     "name": "stdout",
     "output_type": "stream",
     "text": [
      "Epoch 139:\n"
     ]
    },
    {
     "name": "stderr",
     "output_type": "stream",
     "text": [
      " lr 0.000087\t: 100%|██████████| 494/494 [03:32<00:00,  2.33it/s, Transformer_Loss=2.48]  \n"
     ]
    },
    {
     "name": "stdout",
     "output_type": "stream",
     "text": [
      "Epoch 140:\n"
     ]
    },
    {
     "name": "stderr",
     "output_type": "stream",
     "text": [
      " lr 0.000087\t: 100%|██████████| 494/494 [03:32<00:00,  2.32it/s, Transformer_Loss=2.56]  \n"
     ]
    },
    {
     "name": "stdout",
     "output_type": "stream",
     "text": [
      "Epoch 141:\n"
     ]
    },
    {
     "name": "stderr",
     "output_type": "stream",
     "text": [
      " lr 0.000087\t: 100%|██████████| 494/494 [03:32<00:00,  2.33it/s, Transformer_Loss=0.736] \n"
     ]
    },
    {
     "name": "stdout",
     "output_type": "stream",
     "text": [
      "Epoch 142:\n"
     ]
    },
    {
     "name": "stderr",
     "output_type": "stream",
     "text": [
      " lr 0.000087\t: 100%|██████████| 494/494 [03:32<00:00,  2.32it/s, Transformer_Loss=0.242] \n"
     ]
    },
    {
     "name": "stdout",
     "output_type": "stream",
     "text": [
      "Epoch 143:\n"
     ]
    },
    {
     "name": "stderr",
     "output_type": "stream",
     "text": [
      " lr 0.000087\t: 100%|██████████| 494/494 [03:32<00:00,  2.33it/s, Transformer_Loss=2]     \n"
     ]
    },
    {
     "name": "stdout",
     "output_type": "stream",
     "text": [
      "Epoch 144:\n"
     ]
    },
    {
     "name": "stderr",
     "output_type": "stream",
     "text": [
      " lr 0.000087\t: 100%|██████████| 494/494 [03:32<00:00,  2.33it/s, Transformer_Loss=0.293] \n"
     ]
    },
    {
     "name": "stdout",
     "output_type": "stream",
     "text": [
      "Epoch 145:\n"
     ]
    },
    {
     "name": "stderr",
     "output_type": "stream",
     "text": [
      " lr 0.000087\t: 100%|██████████| 494/494 [03:32<00:00,  2.33it/s, Transformer_Loss=2.09]  \n"
     ]
    },
    {
     "name": "stdout",
     "output_type": "stream",
     "text": [
      "Epoch 146:\n"
     ]
    },
    {
     "name": "stderr",
     "output_type": "stream",
     "text": [
      " lr 0.000086\t: 100%|██████████| 494/494 [03:32<00:00,  2.32it/s, Transformer_Loss=0.238] \n"
     ]
    },
    {
     "name": "stdout",
     "output_type": "stream",
     "text": [
      "Epoch 147:\n"
     ]
    },
    {
     "name": "stderr",
     "output_type": "stream",
     "text": [
      " lr 0.000086\t: 100%|██████████| 494/494 [03:32<00:00,  2.33it/s, Transformer_Loss=2.48]  \n"
     ]
    },
    {
     "name": "stdout",
     "output_type": "stream",
     "text": [
      "Epoch 148:\n"
     ]
    },
    {
     "name": "stderr",
     "output_type": "stream",
     "text": [
      " lr 0.000086\t: 100%|██████████| 494/494 [03:32<00:00,  2.33it/s, Transformer_Loss=0.877] \n"
     ]
    },
    {
     "name": "stdout",
     "output_type": "stream",
     "text": [
      "Epoch 149:\n"
     ]
    },
    {
     "name": "stderr",
     "output_type": "stream",
     "text": [
      " lr 0.000086\t: 100%|██████████| 494/494 [03:32<00:00,  2.33it/s, Transformer_Loss=0.348] \n"
     ]
    },
    {
     "name": "stdout",
     "output_type": "stream",
     "text": [
      "Epoch 150:\n"
     ]
    },
    {
     "name": "stderr",
     "output_type": "stream",
     "text": [
      " lr 0.000086\t: 100%|██████████| 494/494 [03:32<00:00,  2.32it/s, Transformer_Loss=0.598] \n"
     ]
    },
    {
     "name": "stdout",
     "output_type": "stream",
     "text": [
      "Epoch 151:\n"
     ]
    },
    {
     "name": "stderr",
     "output_type": "stream",
     "text": [
      " lr 0.000086\t: 100%|██████████| 494/494 [03:32<00:00,  2.32it/s, Transformer_Loss=4.12]  \n"
     ]
    },
    {
     "name": "stdout",
     "output_type": "stream",
     "text": [
      "Epoch 152:\n"
     ]
    },
    {
     "name": "stderr",
     "output_type": "stream",
     "text": [
      " lr 0.000086\t: 100%|██████████| 494/494 [03:32<00:00,  2.32it/s, Transformer_Loss=0.592] \n"
     ]
    },
    {
     "name": "stdout",
     "output_type": "stream",
     "text": [
      "Epoch 153:\n"
     ]
    },
    {
     "name": "stderr",
     "output_type": "stream",
     "text": [
      " lr 0.000086\t: 100%|██████████| 494/494 [03:32<00:00,  2.33it/s, Transformer_Loss=0.0697]\n"
     ]
    },
    {
     "name": "stdout",
     "output_type": "stream",
     "text": [
      "Epoch 154:\n"
     ]
    },
    {
     "name": "stderr",
     "output_type": "stream",
     "text": [
      " lr 0.000086\t: 100%|██████████| 494/494 [03:32<00:00,  2.32it/s, Transformer_Loss=0.967] \n"
     ]
    },
    {
     "name": "stdout",
     "output_type": "stream",
     "text": [
      "Epoch 155:\n"
     ]
    },
    {
     "name": "stderr",
     "output_type": "stream",
     "text": [
      " lr 0.000086\t: 100%|██████████| 494/494 [03:32<00:00,  2.33it/s, Transformer_Loss=3.91]  \n"
     ]
    },
    {
     "name": "stdout",
     "output_type": "stream",
     "text": [
      "Epoch 156:\n"
     ]
    },
    {
     "name": "stderr",
     "output_type": "stream",
     "text": [
      " lr 0.000085\t: 100%|██████████| 494/494 [03:32<00:00,  2.32it/s, Transformer_Loss=0.667] \n"
     ]
    },
    {
     "name": "stdout",
     "output_type": "stream",
     "text": [
      "Epoch 157:\n"
     ]
    },
    {
     "name": "stderr",
     "output_type": "stream",
     "text": [
      " lr 0.000085\t: 100%|██████████| 494/494 [03:32<00:00,  2.33it/s, Transformer_Loss=2.84]  \n"
     ]
    },
    {
     "name": "stdout",
     "output_type": "stream",
     "text": [
      "Epoch 158:\n"
     ]
    },
    {
     "name": "stderr",
     "output_type": "stream",
     "text": [
      " lr 0.000085\t: 100%|██████████| 494/494 [03:32<00:00,  2.32it/s, Transformer_Loss=2.38]  \n"
     ]
    },
    {
     "name": "stdout",
     "output_type": "stream",
     "text": [
      "Epoch 159:\n"
     ]
    },
    {
     "name": "stderr",
     "output_type": "stream",
     "text": [
      " lr 0.000085\t: 100%|██████████| 494/494 [03:32<00:00,  2.32it/s, Transformer_Loss=2.01]  \n"
     ]
    },
    {
     "name": "stdout",
     "output_type": "stream",
     "text": [
      "Epoch 160:\n"
     ]
    },
    {
     "name": "stderr",
     "output_type": "stream",
     "text": [
      " lr 0.000085\t: 100%|██████████| 494/494 [03:32<00:00,  2.32it/s, Transformer_Loss=1.93]  \n"
     ]
    },
    {
     "name": "stdout",
     "output_type": "stream",
     "text": [
      "Epoch 161:\n"
     ]
    },
    {
     "name": "stderr",
     "output_type": "stream",
     "text": [
      " lr 0.000085\t: 100%|██████████| 494/494 [03:32<00:00,  2.32it/s, Transformer_Loss=3.01]  \n"
     ]
    },
    {
     "name": "stdout",
     "output_type": "stream",
     "text": [
      "Epoch 162:\n"
     ]
    },
    {
     "name": "stderr",
     "output_type": "stream",
     "text": [
      " lr 0.000085\t: 100%|██████████| 494/494 [03:32<00:00,  2.32it/s, Transformer_Loss=2.52]  \n"
     ]
    },
    {
     "name": "stdout",
     "output_type": "stream",
     "text": [
      "Epoch 163:\n"
     ]
    },
    {
     "name": "stderr",
     "output_type": "stream",
     "text": [
      " lr 0.000085\t: 100%|██████████| 494/494 [03:32<00:00,  2.33it/s, Transformer_Loss=3.43]  \n"
     ]
    },
    {
     "name": "stdout",
     "output_type": "stream",
     "text": [
      "Epoch 164:\n"
     ]
    },
    {
     "name": "stderr",
     "output_type": "stream",
     "text": [
      " lr 0.000085\t: 100%|██████████| 494/494 [03:32<00:00,  2.32it/s, Transformer_Loss=0.0695]\n"
     ]
    },
    {
     "name": "stdout",
     "output_type": "stream",
     "text": [
      "Epoch 165:\n"
     ]
    },
    {
     "name": "stderr",
     "output_type": "stream",
     "text": [
      " lr 0.000085\t: 100%|██████████| 494/494 [03:32<00:00,  2.33it/s, Transformer_Loss=0.408] \n"
     ]
    },
    {
     "name": "stdout",
     "output_type": "stream",
     "text": [
      "Epoch 166:\n"
     ]
    },
    {
     "name": "stderr",
     "output_type": "stream",
     "text": [
      " lr 0.000084\t: 100%|██████████| 494/494 [03:32<00:00,  2.33it/s, Transformer_Loss=1.1]   \n"
     ]
    },
    {
     "name": "stdout",
     "output_type": "stream",
     "text": [
      "Epoch 167:\n"
     ]
    },
    {
     "name": "stderr",
     "output_type": "stream",
     "text": [
      " lr 0.000084\t: 100%|██████████| 494/494 [03:32<00:00,  2.33it/s, Transformer_Loss=2.89]  \n"
     ]
    },
    {
     "name": "stdout",
     "output_type": "stream",
     "text": [
      "Epoch 168:\n"
     ]
    },
    {
     "name": "stderr",
     "output_type": "stream",
     "text": [
      " lr 0.000084\t: 100%|██████████| 494/494 [03:32<00:00,  2.33it/s, Transformer_Loss=2.15]  \n"
     ]
    },
    {
     "name": "stdout",
     "output_type": "stream",
     "text": [
      "Epoch 169:\n"
     ]
    },
    {
     "name": "stderr",
     "output_type": "stream",
     "text": [
      " lr 0.000084\t: 100%|██████████| 494/494 [03:32<00:00,  2.32it/s, Transformer_Loss=3.25]  \n"
     ]
    },
    {
     "name": "stdout",
     "output_type": "stream",
     "text": [
      "Epoch 170:\n"
     ]
    },
    {
     "name": "stderr",
     "output_type": "stream",
     "text": [
      " lr 0.000084\t: 100%|██████████| 494/494 [03:32<00:00,  2.33it/s, Transformer_Loss=2.72]  \n"
     ]
    },
    {
     "name": "stdout",
     "output_type": "stream",
     "text": [
      "Epoch 171:\n"
     ]
    },
    {
     "name": "stderr",
     "output_type": "stream",
     "text": [
      " lr 0.000084\t: 100%|██████████| 494/494 [03:32<00:00,  2.32it/s, Transformer_Loss=0.0642]\n"
     ]
    },
    {
     "name": "stdout",
     "output_type": "stream",
     "text": [
      "Epoch 172:\n"
     ]
    },
    {
     "name": "stderr",
     "output_type": "stream",
     "text": [
      " lr 0.000084\t: 100%|██████████| 494/494 [03:32<00:00,  2.32it/s, Transformer_Loss=3.58]  \n"
     ]
    },
    {
     "name": "stdout",
     "output_type": "stream",
     "text": [
      "Epoch 173:\n"
     ]
    },
    {
     "name": "stderr",
     "output_type": "stream",
     "text": [
      " lr 0.000084\t: 100%|██████████| 494/494 [03:32<00:00,  2.32it/s, Transformer_Loss=1.62]  \n"
     ]
    },
    {
     "name": "stdout",
     "output_type": "stream",
     "text": [
      "Epoch 174:\n"
     ]
    },
    {
     "name": "stderr",
     "output_type": "stream",
     "text": [
      " lr 0.000084\t: 100%|██████████| 494/494 [03:32<00:00,  2.33it/s, Transformer_Loss=2.07]  \n"
     ]
    },
    {
     "name": "stdout",
     "output_type": "stream",
     "text": [
      "Epoch 175:\n"
     ]
    },
    {
     "name": "stderr",
     "output_type": "stream",
     "text": [
      " lr 0.000084\t: 100%|██████████| 494/494 [03:32<00:00,  2.32it/s, Transformer_Loss=1.39]  \n"
     ]
    },
    {
     "name": "stdout",
     "output_type": "stream",
     "text": [
      "Epoch 176:\n"
     ]
    },
    {
     "name": "stderr",
     "output_type": "stream",
     "text": [
      " lr 0.000083\t: 100%|██████████| 494/494 [03:32<00:00,  2.33it/s, Transformer_Loss=0.26]  \n"
     ]
    },
    {
     "name": "stdout",
     "output_type": "stream",
     "text": [
      "Epoch 177:\n"
     ]
    },
    {
     "name": "stderr",
     "output_type": "stream",
     "text": [
      " lr 0.000083\t: 100%|██████████| 494/494 [03:32<00:00,  2.32it/s, Transformer_Loss=0.718] \n"
     ]
    },
    {
     "name": "stdout",
     "output_type": "stream",
     "text": [
      "Epoch 178:\n"
     ]
    },
    {
     "name": "stderr",
     "output_type": "stream",
     "text": [
      " lr 0.000083\t: 100%|██████████| 494/494 [03:32<00:00,  2.33it/s, Transformer_Loss=2.24]  \n"
     ]
    },
    {
     "name": "stdout",
     "output_type": "stream",
     "text": [
      "Epoch 179:\n"
     ]
    },
    {
     "name": "stderr",
     "output_type": "stream",
     "text": [
      " lr 0.000083\t: 100%|██████████| 494/494 [03:32<00:00,  2.33it/s, Transformer_Loss=2.68]  \n"
     ]
    },
    {
     "name": "stdout",
     "output_type": "stream",
     "text": [
      "Epoch 180:\n"
     ]
    },
    {
     "name": "stderr",
     "output_type": "stream",
     "text": [
      " lr 0.000083\t: 100%|██████████| 494/494 [03:32<00:00,  2.32it/s, Transformer_Loss=0.156] \n"
     ]
    },
    {
     "name": "stdout",
     "output_type": "stream",
     "text": [
      "Epoch 181:\n"
     ]
    },
    {
     "name": "stderr",
     "output_type": "stream",
     "text": [
      " lr 0.000083\t: 100%|██████████| 494/494 [03:32<00:00,  2.32it/s, Transformer_Loss=2.62]  \n"
     ]
    },
    {
     "name": "stdout",
     "output_type": "stream",
     "text": [
      "Epoch 182:\n"
     ]
    },
    {
     "name": "stderr",
     "output_type": "stream",
     "text": [
      " lr 0.000083\t: 100%|██████████| 494/494 [03:32<00:00,  2.33it/s, Transformer_Loss=0.393] \n"
     ]
    },
    {
     "name": "stdout",
     "output_type": "stream",
     "text": [
      "Epoch 183:\n"
     ]
    },
    {
     "name": "stderr",
     "output_type": "stream",
     "text": [
      " lr 0.000083\t: 100%|██████████| 494/494 [03:32<00:00,  2.32it/s, Transformer_Loss=3.9]   \n"
     ]
    },
    {
     "name": "stdout",
     "output_type": "stream",
     "text": [
      "Epoch 184:\n"
     ]
    },
    {
     "name": "stderr",
     "output_type": "stream",
     "text": [
      " lr 0.000083\t: 100%|██████████| 494/494 [03:32<00:00,  2.33it/s, Transformer_Loss=0.903] \n"
     ]
    },
    {
     "name": "stdout",
     "output_type": "stream",
     "text": [
      "Epoch 185:\n"
     ]
    },
    {
     "name": "stderr",
     "output_type": "stream",
     "text": [
      " lr 0.000083\t: 100%|██████████| 494/494 [03:32<00:00,  2.33it/s, Transformer_Loss=0.258] \n"
     ]
    },
    {
     "name": "stdout",
     "output_type": "stream",
     "text": [
      "Epoch 186:\n"
     ]
    },
    {
     "name": "stderr",
     "output_type": "stream",
     "text": [
      " lr 0.000082\t: 100%|██████████| 494/494 [03:32<00:00,  2.33it/s, Transformer_Loss=0.083] \n"
     ]
    },
    {
     "name": "stdout",
     "output_type": "stream",
     "text": [
      "Epoch 187:\n"
     ]
    },
    {
     "name": "stderr",
     "output_type": "stream",
     "text": [
      " lr 0.000082\t: 100%|██████████| 494/494 [03:32<00:00,  2.32it/s, Transformer_Loss=0.071] \n"
     ]
    },
    {
     "name": "stdout",
     "output_type": "stream",
     "text": [
      "Epoch 188:\n"
     ]
    },
    {
     "name": "stderr",
     "output_type": "stream",
     "text": [
      " lr 0.000082\t: 100%|██████████| 494/494 [03:32<00:00,  2.33it/s, Transformer_Loss=2.74]  \n"
     ]
    },
    {
     "name": "stdout",
     "output_type": "stream",
     "text": [
      "Epoch 189:\n"
     ]
    },
    {
     "name": "stderr",
     "output_type": "stream",
     "text": [
      " lr 0.000082\t: 100%|██████████| 494/494 [03:32<00:00,  2.32it/s, Transformer_Loss=0.146] \n"
     ]
    },
    {
     "name": "stdout",
     "output_type": "stream",
     "text": [
      "Epoch 190:\n"
     ]
    },
    {
     "name": "stderr",
     "output_type": "stream",
     "text": [
      " lr 0.000082\t: 100%|██████████| 494/494 [03:32<00:00,  2.33it/s, Transformer_Loss=0.532] \n"
     ]
    },
    {
     "name": "stdout",
     "output_type": "stream",
     "text": [
      "Epoch 191:\n"
     ]
    },
    {
     "name": "stderr",
     "output_type": "stream",
     "text": [
      " lr 0.000082\t: 100%|██████████| 494/494 [03:32<00:00,  2.32it/s, Transformer_Loss=0.165] \n"
     ]
    },
    {
     "name": "stdout",
     "output_type": "stream",
     "text": [
      "Epoch 192:\n"
     ]
    },
    {
     "name": "stderr",
     "output_type": "stream",
     "text": [
      " lr 0.000082\t: 100%|██████████| 494/494 [03:32<00:00,  2.32it/s, Transformer_Loss=1.08]  \n"
     ]
    },
    {
     "name": "stdout",
     "output_type": "stream",
     "text": [
      "Epoch 193:\n"
     ]
    },
    {
     "name": "stderr",
     "output_type": "stream",
     "text": [
      " lr 0.000082\t: 100%|██████████| 494/494 [03:32<00:00,  2.33it/s, Transformer_Loss=3.09]  \n"
     ]
    },
    {
     "name": "stdout",
     "output_type": "stream",
     "text": [
      "Epoch 194:\n"
     ]
    },
    {
     "name": "stderr",
     "output_type": "stream",
     "text": [
      " lr 0.000082\t: 100%|██████████| 494/494 [03:32<00:00,  2.33it/s, Transformer_Loss=0.131] \n"
     ]
    },
    {
     "name": "stdout",
     "output_type": "stream",
     "text": [
      "Epoch 195:\n"
     ]
    },
    {
     "name": "stderr",
     "output_type": "stream",
     "text": [
      " lr 0.000082\t: 100%|██████████| 494/494 [03:32<00:00,  2.32it/s, Transformer_Loss=0.151] \n"
     ]
    },
    {
     "name": "stdout",
     "output_type": "stream",
     "text": [
      "Epoch 196:\n"
     ]
    },
    {
     "name": "stderr",
     "output_type": "stream",
     "text": [
      " lr 0.000081\t: 100%|██████████| 494/494 [03:32<00:00,  2.33it/s, Transformer_Loss=0.247] \n"
     ]
    },
    {
     "name": "stdout",
     "output_type": "stream",
     "text": [
      "Epoch 197:\n"
     ]
    },
    {
     "name": "stderr",
     "output_type": "stream",
     "text": [
      " lr 0.000081\t: 100%|██████████| 494/494 [03:32<00:00,  2.32it/s, Transformer_Loss=2.92]  \n"
     ]
    },
    {
     "name": "stdout",
     "output_type": "stream",
     "text": [
      "Epoch 198:\n"
     ]
    },
    {
     "name": "stderr",
     "output_type": "stream",
     "text": [
      " lr 0.000081\t: 100%|██████████| 494/494 [03:32<00:00,  2.32it/s, Transformer_Loss=3.45]  \n"
     ]
    },
    {
     "name": "stdout",
     "output_type": "stream",
     "text": [
      "Epoch 199:\n"
     ]
    },
    {
     "name": "stderr",
     "output_type": "stream",
     "text": [
      " lr 0.000081\t: 100%|██████████| 494/494 [03:32<00:00,  2.32it/s, Transformer_Loss=1.97]  \n"
     ]
    },
    {
     "name": "stdout",
     "output_type": "stream",
     "text": [
      "Epoch 200:\n"
     ]
    },
    {
     "name": "stderr",
     "output_type": "stream",
     "text": [
      " lr 0.000081\t: 100%|██████████| 494/494 [03:32<00:00,  2.33it/s, Transformer_Loss=0.137] \n"
     ]
    },
    {
     "name": "stdout",
     "output_type": "stream",
     "text": [
      "Epoch 201:\n"
     ]
    },
    {
     "name": "stderr",
     "output_type": "stream",
     "text": [
      " lr 0.000081\t: 100%|██████████| 494/494 [03:32<00:00,  2.33it/s, Transformer_Loss=0.512] \n"
     ]
    },
    {
     "name": "stdout",
     "output_type": "stream",
     "text": [
      "Epoch 202:\n"
     ]
    },
    {
     "name": "stderr",
     "output_type": "stream",
     "text": [
      " lr 0.000081\t: 100%|██████████| 494/494 [03:32<00:00,  2.33it/s, Transformer_Loss=0.647] \n"
     ]
    },
    {
     "name": "stdout",
     "output_type": "stream",
     "text": [
      "Epoch 203:\n"
     ]
    },
    {
     "name": "stderr",
     "output_type": "stream",
     "text": [
      " lr 0.000081\t: 100%|██████████| 494/494 [03:32<00:00,  2.32it/s, Transformer_Loss=4.44]  \n"
     ]
    },
    {
     "name": "stdout",
     "output_type": "stream",
     "text": [
      "Epoch 204:\n"
     ]
    },
    {
     "name": "stderr",
     "output_type": "stream",
     "text": [
      " lr 0.000081\t: 100%|██████████| 494/494 [03:32<00:00,  2.32it/s, Transformer_Loss=3.53]  \n"
     ]
    },
    {
     "name": "stdout",
     "output_type": "stream",
     "text": [
      "Epoch 205:\n"
     ]
    },
    {
     "name": "stderr",
     "output_type": "stream",
     "text": [
      " lr 0.000081\t: 100%|██████████| 494/494 [03:32<00:00,  2.32it/s, Transformer_Loss=4.4]   \n"
     ]
    },
    {
     "name": "stdout",
     "output_type": "stream",
     "text": [
      "Epoch 206:\n"
     ]
    },
    {
     "name": "stderr",
     "output_type": "stream",
     "text": [
      " lr 0.000080\t: 100%|██████████| 494/494 [03:32<00:00,  2.33it/s, Transformer_Loss=1.32]  \n"
     ]
    },
    {
     "name": "stdout",
     "output_type": "stream",
     "text": [
      "Epoch 207:\n"
     ]
    },
    {
     "name": "stderr",
     "output_type": "stream",
     "text": [
      " lr 0.000080\t: 100%|██████████| 494/494 [03:32<00:00,  2.32it/s, Transformer_Loss=1.35]  \n"
     ]
    },
    {
     "name": "stdout",
     "output_type": "stream",
     "text": [
      "Epoch 208:\n"
     ]
    },
    {
     "name": "stderr",
     "output_type": "stream",
     "text": [
      " lr 0.000080\t: 100%|██████████| 494/494 [03:32<00:00,  2.33it/s, Transformer_Loss=0.111] \n"
     ]
    },
    {
     "name": "stdout",
     "output_type": "stream",
     "text": [
      "Epoch 209:\n"
     ]
    },
    {
     "name": "stderr",
     "output_type": "stream",
     "text": [
      " lr 0.000080\t: 100%|██████████| 494/494 [03:32<00:00,  2.32it/s, Transformer_Loss=0.196] \n"
     ]
    },
    {
     "name": "stdout",
     "output_type": "stream",
     "text": [
      "Epoch 210:\n"
     ]
    },
    {
     "name": "stderr",
     "output_type": "stream",
     "text": [
      " lr 0.000080\t: 100%|██████████| 494/494 [03:32<00:00,  2.33it/s, Transformer_Loss=3.76]  \n"
     ]
    },
    {
     "name": "stdout",
     "output_type": "stream",
     "text": [
      "Epoch 211:\n"
     ]
    },
    {
     "name": "stderr",
     "output_type": "stream",
     "text": [
      " lr 0.000080\t: 100%|██████████| 494/494 [03:32<00:00,  2.32it/s, Transformer_Loss=0.124] \n"
     ]
    },
    {
     "name": "stdout",
     "output_type": "stream",
     "text": [
      "Epoch 212:\n"
     ]
    },
    {
     "name": "stderr",
     "output_type": "stream",
     "text": [
      " lr 0.000080\t: 100%|██████████| 494/494 [03:32<00:00,  2.33it/s, Transformer_Loss=4.66]  \n"
     ]
    },
    {
     "name": "stdout",
     "output_type": "stream",
     "text": [
      "Epoch 213:\n"
     ]
    },
    {
     "name": "stderr",
     "output_type": "stream",
     "text": [
      " lr 0.000080\t: 100%|██████████| 494/494 [03:32<00:00,  2.32it/s, Transformer_Loss=2.27]  \n"
     ]
    },
    {
     "name": "stdout",
     "output_type": "stream",
     "text": [
      "Epoch 214:\n"
     ]
    },
    {
     "name": "stderr",
     "output_type": "stream",
     "text": [
      " lr 0.000080\t: 100%|██████████| 494/494 [03:32<00:00,  2.33it/s, Transformer_Loss=4.74]  \n"
     ]
    },
    {
     "name": "stdout",
     "output_type": "stream",
     "text": [
      "Epoch 215:\n"
     ]
    },
    {
     "name": "stderr",
     "output_type": "stream",
     "text": [
      " lr 0.000079\t: 100%|██████████| 494/494 [03:32<00:00,  2.32it/s, Transformer_Loss=1.36]  \n"
     ]
    },
    {
     "name": "stdout",
     "output_type": "stream",
     "text": [
      "Epoch 216:\n"
     ]
    },
    {
     "name": "stderr",
     "output_type": "stream",
     "text": [
      " lr 0.000079\t: 100%|██████████| 494/494 [03:32<00:00,  2.32it/s, Transformer_Loss=0.927] \n"
     ]
    },
    {
     "name": "stdout",
     "output_type": "stream",
     "text": [
      "Epoch 217:\n"
     ]
    },
    {
     "name": "stderr",
     "output_type": "stream",
     "text": [
      " lr 0.000079\t: 100%|██████████| 494/494 [03:32<00:00,  2.32it/s, Transformer_Loss=0.127] \n"
     ]
    },
    {
     "name": "stdout",
     "output_type": "stream",
     "text": [
      "Epoch 218:\n"
     ]
    },
    {
     "name": "stderr",
     "output_type": "stream",
     "text": [
      " lr 0.000079\t: 100%|██████████| 494/494 [03:32<00:00,  2.32it/s, Transformer_Loss=0.503] \n"
     ]
    },
    {
     "name": "stdout",
     "output_type": "stream",
     "text": [
      "Epoch 219:\n"
     ]
    },
    {
     "name": "stderr",
     "output_type": "stream",
     "text": [
      " lr 0.000079\t: 100%|██████████| 494/494 [03:32<00:00,  2.32it/s, Transformer_Loss=2.96]  \n"
     ]
    },
    {
     "name": "stdout",
     "output_type": "stream",
     "text": [
      "Epoch 220:\n"
     ]
    },
    {
     "name": "stderr",
     "output_type": "stream",
     "text": [
      " lr 0.000079\t: 100%|██████████| 494/494 [03:32<00:00,  2.33it/s, Transformer_Loss=1.1]   \n"
     ]
    },
    {
     "name": "stdout",
     "output_type": "stream",
     "text": [
      "Epoch 221:\n"
     ]
    },
    {
     "name": "stderr",
     "output_type": "stream",
     "text": [
      " lr 0.000079\t: 100%|██████████| 494/494 [03:32<00:00,  2.32it/s, Transformer_Loss=2.19]  \n"
     ]
    },
    {
     "name": "stdout",
     "output_type": "stream",
     "text": [
      "Epoch 222:\n"
     ]
    },
    {
     "name": "stderr",
     "output_type": "stream",
     "text": [
      " lr 0.000079\t: 100%|██████████| 494/494 [03:32<00:00,  2.32it/s, Transformer_Loss=0.0745]\n"
     ]
    },
    {
     "name": "stdout",
     "output_type": "stream",
     "text": [
      "Epoch 223:\n"
     ]
    },
    {
     "name": "stderr",
     "output_type": "stream",
     "text": [
      " lr 0.000079\t: 100%|██████████| 494/494 [03:32<00:00,  2.32it/s, Transformer_Loss=1.97]  \n"
     ]
    },
    {
     "name": "stdout",
     "output_type": "stream",
     "text": [
      "Epoch 224:\n"
     ]
    },
    {
     "name": "stderr",
     "output_type": "stream",
     "text": [
      " lr 0.000079\t: 100%|██████████| 494/494 [03:32<00:00,  2.33it/s, Transformer_Loss=0.901] \n"
     ]
    },
    {
     "name": "stdout",
     "output_type": "stream",
     "text": [
      "Epoch 225:\n"
     ]
    },
    {
     "name": "stderr",
     "output_type": "stream",
     "text": [
      " lr 0.000078\t: 100%|██████████| 494/494 [03:32<00:00,  2.32it/s, Transformer_Loss=0.395] \n"
     ]
    },
    {
     "name": "stdout",
     "output_type": "stream",
     "text": [
      "Epoch 226:\n"
     ]
    },
    {
     "name": "stderr",
     "output_type": "stream",
     "text": [
      " lr 0.000078\t: 100%|██████████| 494/494 [03:32<00:00,  2.32it/s, Transformer_Loss=0.254] \n"
     ]
    },
    {
     "name": "stdout",
     "output_type": "stream",
     "text": [
      "Epoch 227:\n"
     ]
    },
    {
     "name": "stderr",
     "output_type": "stream",
     "text": [
      " lr 0.000078\t: 100%|██████████| 494/494 [03:32<00:00,  2.32it/s, Transformer_Loss=3.33]  \n"
     ]
    },
    {
     "name": "stdout",
     "output_type": "stream",
     "text": [
      "Epoch 228:\n"
     ]
    },
    {
     "name": "stderr",
     "output_type": "stream",
     "text": [
      " lr 0.000078\t: 100%|██████████| 494/494 [03:32<00:00,  2.33it/s, Transformer_Loss=3.53]  \n"
     ]
    },
    {
     "name": "stdout",
     "output_type": "stream",
     "text": [
      "Epoch 229:\n"
     ]
    },
    {
     "name": "stderr",
     "output_type": "stream",
     "text": [
      " lr 0.000078\t: 100%|██████████| 494/494 [03:32<00:00,  2.32it/s, Transformer_Loss=0.0749]\n"
     ]
    },
    {
     "name": "stdout",
     "output_type": "stream",
     "text": [
      "Epoch 230:\n"
     ]
    },
    {
     "name": "stderr",
     "output_type": "stream",
     "text": [
      " lr 0.000078\t: 100%|██████████| 494/494 [03:32<00:00,  2.32it/s, Transformer_Loss=2.97]  \n"
     ]
    },
    {
     "name": "stdout",
     "output_type": "stream",
     "text": [
      "Epoch 231:\n"
     ]
    },
    {
     "name": "stderr",
     "output_type": "stream",
     "text": [
      " lr 0.000078\t: 100%|██████████| 494/494 [03:32<00:00,  2.33it/s, Transformer_Loss=1.78]  \n"
     ]
    },
    {
     "name": "stdout",
     "output_type": "stream",
     "text": [
      "Epoch 232:\n"
     ]
    },
    {
     "name": "stderr",
     "output_type": "stream",
     "text": [
      " lr 0.000078\t: 100%|██████████| 494/494 [03:32<00:00,  2.33it/s, Transformer_Loss=0.0579]\n"
     ]
    },
    {
     "name": "stdout",
     "output_type": "stream",
     "text": [
      "Epoch 233:\n"
     ]
    },
    {
     "name": "stderr",
     "output_type": "stream",
     "text": [
      " lr 0.000078\t: 100%|██████████| 494/494 [03:32<00:00,  2.32it/s, Transformer_Loss=0.402] \n"
     ]
    },
    {
     "name": "stdout",
     "output_type": "stream",
     "text": [
      "Epoch 234:\n"
     ]
    },
    {
     "name": "stderr",
     "output_type": "stream",
     "text": [
      " lr 0.000078\t: 100%|██████████| 494/494 [03:32<00:00,  2.33it/s, Transformer_Loss=2.65]  \n"
     ]
    },
    {
     "name": "stdout",
     "output_type": "stream",
     "text": [
      "Epoch 235:\n"
     ]
    },
    {
     "name": "stderr",
     "output_type": "stream",
     "text": [
      " lr 0.000077\t: 100%|██████████| 494/494 [03:32<00:00,  2.33it/s, Transformer_Loss=0.471] \n"
     ]
    },
    {
     "name": "stdout",
     "output_type": "stream",
     "text": [
      "Epoch 236:\n"
     ]
    },
    {
     "name": "stderr",
     "output_type": "stream",
     "text": [
      " lr 0.000077\t: 100%|██████████| 494/494 [03:32<00:00,  2.33it/s, Transformer_Loss=1.49]  \n"
     ]
    },
    {
     "name": "stdout",
     "output_type": "stream",
     "text": [
      "Epoch 237:\n"
     ]
    },
    {
     "name": "stderr",
     "output_type": "stream",
     "text": [
      " lr 0.000077\t: 100%|██████████| 494/494 [03:32<00:00,  2.32it/s, Transformer_Loss=0.107] \n"
     ]
    },
    {
     "name": "stdout",
     "output_type": "stream",
     "text": [
      "Epoch 238:\n"
     ]
    },
    {
     "name": "stderr",
     "output_type": "stream",
     "text": [
      " lr 0.000077\t: 100%|██████████| 494/494 [03:32<00:00,  2.33it/s, Transformer_Loss=0.686] \n"
     ]
    },
    {
     "name": "stdout",
     "output_type": "stream",
     "text": [
      "Epoch 239:\n"
     ]
    },
    {
     "name": "stderr",
     "output_type": "stream",
     "text": [
      " lr 0.000077\t: 100%|██████████| 494/494 [03:32<00:00,  2.32it/s, Transformer_Loss=3.19]  \n"
     ]
    },
    {
     "name": "stdout",
     "output_type": "stream",
     "text": [
      "Epoch 240:\n"
     ]
    },
    {
     "name": "stderr",
     "output_type": "stream",
     "text": [
      " lr 0.000077\t: 100%|██████████| 494/494 [03:32<00:00,  2.33it/s, Transformer_Loss=1.3]   \n"
     ]
    },
    {
     "name": "stdout",
     "output_type": "stream",
     "text": [
      "Epoch 241:\n"
     ]
    },
    {
     "name": "stderr",
     "output_type": "stream",
     "text": [
      " lr 0.000077\t: 100%|██████████| 494/494 [03:32<00:00,  2.32it/s, Transformer_Loss=0.0632]\n"
     ]
    },
    {
     "name": "stdout",
     "output_type": "stream",
     "text": [
      "Epoch 242:\n"
     ]
    },
    {
     "name": "stderr",
     "output_type": "stream",
     "text": [
      " lr 0.000077\t: 100%|██████████| 494/494 [03:32<00:00,  2.33it/s, Transformer_Loss=1.83]  \n"
     ]
    },
    {
     "name": "stdout",
     "output_type": "stream",
     "text": [
      "Epoch 243:\n"
     ]
    },
    {
     "name": "stderr",
     "output_type": "stream",
     "text": [
      " lr 0.000077\t: 100%|██████████| 494/494 [03:32<00:00,  2.32it/s, Transformer_Loss=0.395] \n"
     ]
    },
    {
     "name": "stdout",
     "output_type": "stream",
     "text": [
      "Epoch 244:\n"
     ]
    },
    {
     "name": "stderr",
     "output_type": "stream",
     "text": [
      " lr 0.000077\t: 100%|██████████| 494/494 [03:32<00:00,  2.33it/s, Transformer_Loss=0.64]  \n"
     ]
    },
    {
     "name": "stdout",
     "output_type": "stream",
     "text": [
      "Epoch 245:\n"
     ]
    },
    {
     "name": "stderr",
     "output_type": "stream",
     "text": [
      " lr 0.000076\t: 100%|██████████| 494/494 [03:32<00:00,  2.32it/s, Transformer_Loss=3.53]  \n"
     ]
    },
    {
     "name": "stdout",
     "output_type": "stream",
     "text": [
      "Epoch 246:\n"
     ]
    },
    {
     "name": "stderr",
     "output_type": "stream",
     "text": [
      " lr 0.000076\t: 100%|██████████| 494/494 [03:31<00:00,  2.33it/s, Transformer_Loss=0.991] \n"
     ]
    },
    {
     "name": "stdout",
     "output_type": "stream",
     "text": [
      "Epoch 247:\n"
     ]
    },
    {
     "name": "stderr",
     "output_type": "stream",
     "text": [
      " lr 0.000076\t: 100%|██████████| 494/494 [03:32<00:00,  2.33it/s, Transformer_Loss=1.44]  \n"
     ]
    },
    {
     "name": "stdout",
     "output_type": "stream",
     "text": [
      "Epoch 248:\n"
     ]
    },
    {
     "name": "stderr",
     "output_type": "stream",
     "text": [
      " lr 0.000076\t: 100%|██████████| 494/494 [03:32<00:00,  2.33it/s, Transformer_Loss=2.98]  \n"
     ]
    },
    {
     "name": "stdout",
     "output_type": "stream",
     "text": [
      "Epoch 249:\n"
     ]
    },
    {
     "name": "stderr",
     "output_type": "stream",
     "text": [
      " lr 0.000076\t: 100%|██████████| 494/494 [03:32<00:00,  2.32it/s, Transformer_Loss=1.11]  \n"
     ]
    },
    {
     "name": "stdout",
     "output_type": "stream",
     "text": [
      "Epoch 250:\n"
     ]
    },
    {
     "name": "stderr",
     "output_type": "stream",
     "text": [
      " lr 0.000076\t: 100%|██████████| 494/494 [03:32<00:00,  2.33it/s, Transformer_Loss=3.82]  \n"
     ]
    },
    {
     "name": "stdout",
     "output_type": "stream",
     "text": [
      "Epoch 251:\n"
     ]
    },
    {
     "name": "stderr",
     "output_type": "stream",
     "text": [
      " lr 0.000076\t: 100%|██████████| 494/494 [03:32<00:00,  2.33it/s, Transformer_Loss=0.131] \n"
     ]
    },
    {
     "name": "stdout",
     "output_type": "stream",
     "text": [
      "Epoch 252:\n"
     ]
    },
    {
     "name": "stderr",
     "output_type": "stream",
     "text": [
      " lr 0.000076\t: 100%|██████████| 494/494 [03:32<00:00,  2.33it/s, Transformer_Loss=0.849] \n"
     ]
    },
    {
     "name": "stdout",
     "output_type": "stream",
     "text": [
      "Epoch 253:\n"
     ]
    },
    {
     "name": "stderr",
     "output_type": "stream",
     "text": [
      " lr 0.000076\t: 100%|██████████| 494/494 [03:32<00:00,  2.33it/s, Transformer_Loss=0.692] \n"
     ]
    },
    {
     "name": "stdout",
     "output_type": "stream",
     "text": [
      "Epoch 254:\n"
     ]
    },
    {
     "name": "stderr",
     "output_type": "stream",
     "text": [
      " lr 0.000076\t: 100%|██████████| 494/494 [03:32<00:00,  2.33it/s, Transformer_Loss=2.61]  \n"
     ]
    },
    {
     "name": "stdout",
     "output_type": "stream",
     "text": [
      "Epoch 255:\n"
     ]
    },
    {
     "name": "stderr",
     "output_type": "stream",
     "text": [
      " lr 0.000075\t: 100%|██████████| 494/494 [03:32<00:00,  2.33it/s, Transformer_Loss=1.32]  \n"
     ]
    },
    {
     "name": "stdout",
     "output_type": "stream",
     "text": [
      "Epoch 256:\n"
     ]
    },
    {
     "name": "stderr",
     "output_type": "stream",
     "text": [
      " lr 0.000075\t: 100%|██████████| 494/494 [03:32<00:00,  2.33it/s, Transformer_Loss=0.0682]\n"
     ]
    },
    {
     "name": "stdout",
     "output_type": "stream",
     "text": [
      "Epoch 257:\n"
     ]
    },
    {
     "name": "stderr",
     "output_type": "stream",
     "text": [
      " lr 0.000075\t: 100%|██████████| 494/494 [03:31<00:00,  2.33it/s, Transformer_Loss=0.318] \n"
     ]
    },
    {
     "name": "stdout",
     "output_type": "stream",
     "text": [
      "Epoch 258:\n"
     ]
    },
    {
     "name": "stderr",
     "output_type": "stream",
     "text": [
      " lr 0.000075\t: 100%|██████████| 494/494 [03:32<00:00,  2.33it/s, Transformer_Loss=3.04]  \n"
     ]
    },
    {
     "name": "stdout",
     "output_type": "stream",
     "text": [
      "Epoch 259:\n"
     ]
    },
    {
     "name": "stderr",
     "output_type": "stream",
     "text": [
      " lr 0.000075\t: 100%|██████████| 494/494 [03:32<00:00,  2.33it/s, Transformer_Loss=0.739] \n"
     ]
    },
    {
     "name": "stdout",
     "output_type": "stream",
     "text": [
      "Epoch 260:\n"
     ]
    },
    {
     "name": "stderr",
     "output_type": "stream",
     "text": [
      " lr 0.000075\t: 100%|██████████| 494/494 [03:32<00:00,  2.32it/s, Transformer_Loss=0.247] \n"
     ]
    },
    {
     "name": "stdout",
     "output_type": "stream",
     "text": [
      "Epoch 261:\n"
     ]
    },
    {
     "name": "stderr",
     "output_type": "stream",
     "text": [
      " lr 0.000075\t: 100%|██████████| 494/494 [03:32<00:00,  2.33it/s, Transformer_Loss=2.94]  \n"
     ]
    },
    {
     "name": "stdout",
     "output_type": "stream",
     "text": [
      "Epoch 262:\n"
     ]
    },
    {
     "name": "stderr",
     "output_type": "stream",
     "text": [
      " lr 0.000075\t: 100%|██████████| 494/494 [03:32<00:00,  2.33it/s, Transformer_Loss=2.74]  \n"
     ]
    },
    {
     "name": "stdout",
     "output_type": "stream",
     "text": [
      "Epoch 263:\n"
     ]
    },
    {
     "name": "stderr",
     "output_type": "stream",
     "text": [
      " lr 0.000075\t: 100%|██████████| 494/494 [03:31<00:00,  2.33it/s, Transformer_Loss=2.27]  \n"
     ]
    },
    {
     "name": "stdout",
     "output_type": "stream",
     "text": [
      "Epoch 264:\n"
     ]
    },
    {
     "name": "stderr",
     "output_type": "stream",
     "text": [
      " lr 0.000075\t: 100%|██████████| 494/494 [03:32<00:00,  2.33it/s, Transformer_Loss=0.0822]\n"
     ]
    },
    {
     "name": "stdout",
     "output_type": "stream",
     "text": [
      "Epoch 265:\n"
     ]
    },
    {
     "name": "stderr",
     "output_type": "stream",
     "text": [
      " lr 0.000074\t: 100%|██████████| 494/494 [03:32<00:00,  2.33it/s, Transformer_Loss=2.21]  \n"
     ]
    },
    {
     "name": "stdout",
     "output_type": "stream",
     "text": [
      "Epoch 266:\n"
     ]
    },
    {
     "name": "stderr",
     "output_type": "stream",
     "text": [
      " lr 0.000074\t: 100%|██████████| 494/494 [03:32<00:00,  2.33it/s, Transformer_Loss=2.12]  \n"
     ]
    },
    {
     "name": "stdout",
     "output_type": "stream",
     "text": [
      "Epoch 267:\n"
     ]
    },
    {
     "name": "stderr",
     "output_type": "stream",
     "text": [
      " lr 0.000074\t: 100%|██████████| 494/494 [03:32<00:00,  2.33it/s, Transformer_Loss=0.415] \n"
     ]
    },
    {
     "name": "stdout",
     "output_type": "stream",
     "text": [
      "Epoch 268:\n"
     ]
    },
    {
     "name": "stderr",
     "output_type": "stream",
     "text": [
      " lr 0.000074\t: 100%|██████████| 494/494 [03:32<00:00,  2.32it/s, Transformer_Loss=0.557] \n"
     ]
    },
    {
     "name": "stdout",
     "output_type": "stream",
     "text": [
      "Epoch 269:\n"
     ]
    },
    {
     "name": "stderr",
     "output_type": "stream",
     "text": [
      " lr 0.000074\t: 100%|██████████| 494/494 [03:32<00:00,  2.33it/s, Transformer_Loss=1.16]  \n"
     ]
    },
    {
     "name": "stdout",
     "output_type": "stream",
     "text": [
      "Epoch 270:\n"
     ]
    },
    {
     "name": "stderr",
     "output_type": "stream",
     "text": [
      " lr 0.000074\t: 100%|██████████| 494/494 [03:32<00:00,  2.32it/s, Transformer_Loss=1.24]  \n"
     ]
    },
    {
     "name": "stdout",
     "output_type": "stream",
     "text": [
      "Epoch 271:\n"
     ]
    },
    {
     "name": "stderr",
     "output_type": "stream",
     "text": [
      " lr 0.000074\t: 100%|██████████| 494/494 [03:32<00:00,  2.33it/s, Transformer_Loss=0.466] \n"
     ]
    },
    {
     "name": "stdout",
     "output_type": "stream",
     "text": [
      "Epoch 272:\n"
     ]
    },
    {
     "name": "stderr",
     "output_type": "stream",
     "text": [
      " lr 0.000074\t: 100%|██████████| 494/494 [03:32<00:00,  2.33it/s, Transformer_Loss=0.116] \n"
     ]
    },
    {
     "name": "stdout",
     "output_type": "stream",
     "text": [
      "Epoch 273:\n"
     ]
    },
    {
     "name": "stderr",
     "output_type": "stream",
     "text": [
      " lr 0.000074\t: 100%|██████████| 494/494 [03:31<00:00,  2.33it/s, Transformer_Loss=0.447] \n"
     ]
    },
    {
     "name": "stdout",
     "output_type": "stream",
     "text": [
      "Epoch 274:\n"
     ]
    },
    {
     "name": "stderr",
     "output_type": "stream",
     "text": [
      " lr 0.000074\t: 100%|██████████| 494/494 [03:32<00:00,  2.33it/s, Transformer_Loss=0.422] \n"
     ]
    },
    {
     "name": "stdout",
     "output_type": "stream",
     "text": [
      "Epoch 275:\n"
     ]
    },
    {
     "name": "stderr",
     "output_type": "stream",
     "text": [
      " lr 0.000073\t: 100%|██████████| 494/494 [03:32<00:00,  2.33it/s, Transformer_Loss=0.284] \n"
     ]
    },
    {
     "name": "stdout",
     "output_type": "stream",
     "text": [
      "Epoch 276:\n"
     ]
    },
    {
     "name": "stderr",
     "output_type": "stream",
     "text": [
      " lr 0.000073\t: 100%|██████████| 494/494 [03:32<00:00,  2.32it/s, Transformer_Loss=1.16]  \n"
     ]
    },
    {
     "name": "stdout",
     "output_type": "stream",
     "text": [
      "Epoch 277:\n"
     ]
    },
    {
     "name": "stderr",
     "output_type": "stream",
     "text": [
      " lr 0.000073\t: 100%|██████████| 494/494 [03:32<00:00,  2.33it/s, Transformer_Loss=2.42]  \n"
     ]
    },
    {
     "name": "stdout",
     "output_type": "stream",
     "text": [
      "Epoch 278:\n"
     ]
    },
    {
     "name": "stderr",
     "output_type": "stream",
     "text": [
      " lr 0.000073\t: 100%|██████████| 494/494 [03:32<00:00,  2.32it/s, Transformer_Loss=1.79]  \n"
     ]
    },
    {
     "name": "stdout",
     "output_type": "stream",
     "text": [
      "Epoch 279:\n"
     ]
    },
    {
     "name": "stderr",
     "output_type": "stream",
     "text": [
      " lr 0.000073\t: 100%|██████████| 494/494 [03:32<00:00,  2.33it/s, Transformer_Loss=2.45]  \n"
     ]
    },
    {
     "name": "stdout",
     "output_type": "stream",
     "text": [
      "Epoch 280:\n"
     ]
    },
    {
     "name": "stderr",
     "output_type": "stream",
     "text": [
      " lr 0.000073\t: 100%|██████████| 494/494 [03:32<00:00,  2.33it/s, Transformer_Loss=0.0553]\n"
     ]
    },
    {
     "name": "stdout",
     "output_type": "stream",
     "text": [
      "Epoch 281:\n"
     ]
    },
    {
     "name": "stderr",
     "output_type": "stream",
     "text": [
      " lr 0.000073\t: 100%|██████████| 494/494 [03:32<00:00,  2.33it/s, Transformer_Loss=0.462] \n"
     ]
    },
    {
     "name": "stdout",
     "output_type": "stream",
     "text": [
      "Epoch 282:\n"
     ]
    },
    {
     "name": "stderr",
     "output_type": "stream",
     "text": [
      " lr 0.000073\t: 100%|██████████| 494/494 [03:32<00:00,  2.32it/s, Transformer_Loss=0.135] \n"
     ]
    },
    {
     "name": "stdout",
     "output_type": "stream",
     "text": [
      "Epoch 283:\n"
     ]
    },
    {
     "name": "stderr",
     "output_type": "stream",
     "text": [
      " lr 0.000073\t: 100%|██████████| 494/494 [03:32<00:00,  2.33it/s, Transformer_Loss=0.403] \n"
     ]
    },
    {
     "name": "stdout",
     "output_type": "stream",
     "text": [
      "Epoch 284:\n"
     ]
    },
    {
     "name": "stderr",
     "output_type": "stream",
     "text": [
      " lr 0.000073\t: 100%|██████████| 494/494 [03:32<00:00,  2.33it/s, Transformer_Loss=0.151] \n"
     ]
    },
    {
     "name": "stdout",
     "output_type": "stream",
     "text": [
      "Epoch 285:\n"
     ]
    },
    {
     "name": "stderr",
     "output_type": "stream",
     "text": [
      " lr 0.000072\t: 100%|██████████| 494/494 [03:32<00:00,  2.33it/s, Transformer_Loss=1.01]  \n"
     ]
    },
    {
     "name": "stdout",
     "output_type": "stream",
     "text": [
      "Epoch 286:\n"
     ]
    },
    {
     "name": "stderr",
     "output_type": "stream",
     "text": [
      " lr 0.000072\t: 100%|██████████| 494/494 [03:32<00:00,  2.32it/s, Transformer_Loss=0.0677]\n"
     ]
    },
    {
     "name": "stdout",
     "output_type": "stream",
     "text": [
      "Epoch 287:\n"
     ]
    },
    {
     "name": "stderr",
     "output_type": "stream",
     "text": [
      " lr 0.000072\t: 100%|██████████| 494/494 [03:32<00:00,  2.33it/s, Transformer_Loss=3.4]   \n"
     ]
    },
    {
     "name": "stdout",
     "output_type": "stream",
     "text": [
      "Epoch 288:\n"
     ]
    },
    {
     "name": "stderr",
     "output_type": "stream",
     "text": [
      " lr 0.000072\t: 100%|██████████| 494/494 [03:32<00:00,  2.33it/s, Transformer_Loss=1.09]  \n"
     ]
    },
    {
     "name": "stdout",
     "output_type": "stream",
     "text": [
      "Epoch 289:\n"
     ]
    },
    {
     "name": "stderr",
     "output_type": "stream",
     "text": [
      " lr 0.000072\t: 100%|██████████| 494/494 [03:32<00:00,  2.33it/s, Transformer_Loss=0.0673]\n"
     ]
    },
    {
     "name": "stdout",
     "output_type": "stream",
     "text": [
      "Epoch 290:\n"
     ]
    },
    {
     "name": "stderr",
     "output_type": "stream",
     "text": [
      " lr 0.000072\t: 100%|██████████| 494/494 [03:32<00:00,  2.32it/s, Transformer_Loss=2.95]  \n"
     ]
    },
    {
     "name": "stdout",
     "output_type": "stream",
     "text": [
      "Epoch 291:\n"
     ]
    },
    {
     "name": "stderr",
     "output_type": "stream",
     "text": [
      " lr 0.000072\t: 100%|██████████| 494/494 [03:31<00:00,  2.33it/s, Transformer_Loss=1.01]  \n"
     ]
    },
    {
     "name": "stdout",
     "output_type": "stream",
     "text": [
      "Epoch 292:\n"
     ]
    },
    {
     "name": "stderr",
     "output_type": "stream",
     "text": [
      " lr 0.000072\t: 100%|██████████| 494/494 [03:32<00:00,  2.32it/s, Transformer_Loss=2.23]  \n"
     ]
    },
    {
     "name": "stdout",
     "output_type": "stream",
     "text": [
      "Epoch 293:\n"
     ]
    },
    {
     "name": "stderr",
     "output_type": "stream",
     "text": [
      " lr 0.000072\t: 100%|██████████| 494/494 [03:32<00:00,  2.33it/s, Transformer_Loss=1.02]  \n"
     ]
    },
    {
     "name": "stdout",
     "output_type": "stream",
     "text": [
      "Epoch 294:\n"
     ]
    },
    {
     "name": "stderr",
     "output_type": "stream",
     "text": [
      " lr 0.000072\t: 100%|██████████| 494/494 [03:32<00:00,  2.33it/s, Transformer_Loss=2.89]  \n"
     ]
    },
    {
     "name": "stdout",
     "output_type": "stream",
     "text": [
      "Epoch 295:\n"
     ]
    },
    {
     "name": "stderr",
     "output_type": "stream",
     "text": [
      " lr 0.000071\t: 100%|██████████| 494/494 [03:32<00:00,  2.33it/s, Transformer_Loss=0.727] \n"
     ]
    },
    {
     "name": "stdout",
     "output_type": "stream",
     "text": [
      "Epoch 296:\n"
     ]
    },
    {
     "name": "stderr",
     "output_type": "stream",
     "text": [
      " lr 0.000071\t: 100%|██████████| 494/494 [03:32<00:00,  2.32it/s, Transformer_Loss=1.1]   \n"
     ]
    },
    {
     "name": "stdout",
     "output_type": "stream",
     "text": [
      "Epoch 297:\n"
     ]
    },
    {
     "name": "stderr",
     "output_type": "stream",
     "text": [
      " lr 0.000071\t: 100%|██████████| 494/494 [03:32<00:00,  2.33it/s, Transformer_Loss=0.215] \n"
     ]
    },
    {
     "name": "stdout",
     "output_type": "stream",
     "text": [
      "Epoch 298:\n"
     ]
    },
    {
     "name": "stderr",
     "output_type": "stream",
     "text": [
      " lr 0.000071\t: 100%|██████████| 494/494 [03:32<00:00,  2.32it/s, Transformer_Loss=0.28]  \n"
     ]
    },
    {
     "name": "stdout",
     "output_type": "stream",
     "text": [
      "Epoch 299:\n"
     ]
    },
    {
     "name": "stderr",
     "output_type": "stream",
     "text": [
      " lr 0.000071\t: 100%|██████████| 494/494 [03:32<00:00,  2.33it/s, Transformer_Loss=2.86]  \n"
     ]
    },
    {
     "name": "stdout",
     "output_type": "stream",
     "text": [
      "Epoch 300:\n"
     ]
    },
    {
     "name": "stderr",
     "output_type": "stream",
     "text": [
      " lr 0.000071\t: 100%|██████████| 494/494 [03:32<00:00,  2.32it/s, Transformer_Loss=0.0777]\n"
     ]
    },
    {
     "name": "stdout",
     "output_type": "stream",
     "text": [
      "Epoch 301:\n"
     ]
    },
    {
     "name": "stderr",
     "output_type": "stream",
     "text": [
      " lr 0.000071\t: 100%|██████████| 494/494 [03:32<00:00,  2.33it/s, Transformer_Loss=2.65]  \n"
     ]
    },
    {
     "name": "stdout",
     "output_type": "stream",
     "text": [
      "Epoch 302:\n"
     ]
    },
    {
     "name": "stderr",
     "output_type": "stream",
     "text": [
      " lr 0.000071\t: 100%|██████████| 494/494 [03:32<00:00,  2.32it/s, Transformer_Loss=2.45]  \n"
     ]
    },
    {
     "name": "stdout",
     "output_type": "stream",
     "text": [
      "Epoch 303:\n"
     ]
    },
    {
     "name": "stderr",
     "output_type": "stream",
     "text": [
      " lr 0.000071\t: 100%|██████████| 494/494 [03:32<00:00,  2.32it/s, Transformer_Loss=2.91]  \n"
     ]
    },
    {
     "name": "stdout",
     "output_type": "stream",
     "text": [
      "Epoch 304:\n"
     ]
    },
    {
     "name": "stderr",
     "output_type": "stream",
     "text": [
      " lr 0.000071\t: 100%|██████████| 494/494 [03:32<00:00,  2.33it/s, Transformer_Loss=0.648] \n"
     ]
    },
    {
     "name": "stdout",
     "output_type": "stream",
     "text": [
      "Epoch 305:\n"
     ]
    },
    {
     "name": "stderr",
     "output_type": "stream",
     "text": [
      " lr 0.000070\t: 100%|██████████| 494/494 [03:32<00:00,  2.33it/s, Transformer_Loss=0.0506]\n"
     ]
    },
    {
     "name": "stdout",
     "output_type": "stream",
     "text": [
      "Epoch 306:\n"
     ]
    },
    {
     "name": "stderr",
     "output_type": "stream",
     "text": [
      " lr 0.000070\t: 100%|██████████| 494/494 [03:32<00:00,  2.32it/s, Transformer_Loss=0.0453]\n"
     ]
    },
    {
     "name": "stdout",
     "output_type": "stream",
     "text": [
      "Epoch 307:\n"
     ]
    },
    {
     "name": "stderr",
     "output_type": "stream",
     "text": [
      " lr 0.000070\t: 100%|██████████| 494/494 [03:32<00:00,  2.33it/s, Transformer_Loss=0.353] \n"
     ]
    },
    {
     "name": "stdout",
     "output_type": "stream",
     "text": [
      "Epoch 308:\n"
     ]
    },
    {
     "name": "stderr",
     "output_type": "stream",
     "text": [
      " lr 0.000070\t: 100%|██████████| 494/494 [03:32<00:00,  2.32it/s, Transformer_Loss=3.77]  \n"
     ]
    },
    {
     "name": "stdout",
     "output_type": "stream",
     "text": [
      "Epoch 309:\n"
     ]
    },
    {
     "name": "stderr",
     "output_type": "stream",
     "text": [
      " lr 0.000070\t: 100%|██████████| 494/494 [03:32<00:00,  2.33it/s, Transformer_Loss=0.523] \n"
     ]
    },
    {
     "name": "stdout",
     "output_type": "stream",
     "text": [
      "Epoch 310:\n"
     ]
    },
    {
     "name": "stderr",
     "output_type": "stream",
     "text": [
      " lr 0.000070\t: 100%|██████████| 494/494 [03:32<00:00,  2.32it/s, Transformer_Loss=0.0718]\n"
     ]
    },
    {
     "name": "stdout",
     "output_type": "stream",
     "text": [
      "Epoch 311:\n"
     ]
    },
    {
     "name": "stderr",
     "output_type": "stream",
     "text": [
      " lr 0.000070\t: 100%|██████████| 494/494 [03:32<00:00,  2.32it/s, Transformer_Loss=0.352] \n"
     ]
    },
    {
     "name": "stdout",
     "output_type": "stream",
     "text": [
      "Epoch 312:\n"
     ]
    },
    {
     "name": "stderr",
     "output_type": "stream",
     "text": [
      " lr 0.000070\t: 100%|██████████| 494/494 [03:32<00:00,  2.32it/s, Transformer_Loss=3.44]  \n"
     ]
    },
    {
     "name": "stdout",
     "output_type": "stream",
     "text": [
      "Epoch 313:\n"
     ]
    },
    {
     "name": "stderr",
     "output_type": "stream",
     "text": [
      " lr 0.000070\t: 100%|██████████| 494/494 [03:32<00:00,  2.32it/s, Transformer_Loss=0.449] \n"
     ]
    },
    {
     "name": "stdout",
     "output_type": "stream",
     "text": [
      "Epoch 314:\n"
     ]
    },
    {
     "name": "stderr",
     "output_type": "stream",
     "text": [
      " lr 0.000069\t: 100%|██████████| 494/494 [03:32<00:00,  2.32it/s, Transformer_Loss=0.135] \n"
     ]
    },
    {
     "name": "stdout",
     "output_type": "stream",
     "text": [
      "Epoch 315:\n"
     ]
    },
    {
     "name": "stderr",
     "output_type": "stream",
     "text": [
      " lr 0.000069\t: 100%|██████████| 494/494 [03:32<00:00,  2.33it/s, Transformer_Loss=2.12]  \n"
     ]
    },
    {
     "name": "stdout",
     "output_type": "stream",
     "text": [
      "Epoch 316:\n"
     ]
    },
    {
     "name": "stderr",
     "output_type": "stream",
     "text": [
      " lr 0.000069\t: 100%|██████████| 494/494 [03:32<00:00,  2.32it/s, Transformer_Loss=0.485] \n"
     ]
    },
    {
     "name": "stdout",
     "output_type": "stream",
     "text": [
      "Epoch 317:\n"
     ]
    },
    {
     "name": "stderr",
     "output_type": "stream",
     "text": [
      " lr 0.000069\t: 100%|██████████| 494/494 [03:32<00:00,  2.32it/s, Transformer_Loss=0.0814]\n"
     ]
    },
    {
     "name": "stdout",
     "output_type": "stream",
     "text": [
      "Epoch 318:\n"
     ]
    },
    {
     "name": "stderr",
     "output_type": "stream",
     "text": [
      " lr 0.000069\t: 100%|██████████| 494/494 [03:32<00:00,  2.33it/s, Transformer_Loss=0.111] \n"
     ]
    },
    {
     "name": "stdout",
     "output_type": "stream",
     "text": [
      "Epoch 319:\n"
     ]
    },
    {
     "name": "stderr",
     "output_type": "stream",
     "text": [
      " lr 0.000069\t: 100%|██████████| 494/494 [03:32<00:00,  2.33it/s, Transformer_Loss=0.735] \n"
     ]
    },
    {
     "name": "stdout",
     "output_type": "stream",
     "text": [
      "Epoch 320:\n"
     ]
    },
    {
     "name": "stderr",
     "output_type": "stream",
     "text": [
      " lr 0.000069\t: 100%|██████████| 494/494 [03:32<00:00,  2.33it/s, Transformer_Loss=0.142] \n"
     ]
    },
    {
     "name": "stdout",
     "output_type": "stream",
     "text": [
      "Epoch 321:\n"
     ]
    },
    {
     "name": "stderr",
     "output_type": "stream",
     "text": [
      " lr 0.000069\t: 100%|██████████| 494/494 [03:32<00:00,  2.33it/s, Transformer_Loss=0.0785]\n"
     ]
    },
    {
     "name": "stdout",
     "output_type": "stream",
     "text": [
      "Epoch 322:\n"
     ]
    },
    {
     "name": "stderr",
     "output_type": "stream",
     "text": [
      " lr 0.000069\t: 100%|██████████| 494/494 [03:32<00:00,  2.33it/s, Transformer_Loss=1.68]  \n"
     ]
    },
    {
     "name": "stdout",
     "output_type": "stream",
     "text": [
      "Epoch 323:\n"
     ]
    },
    {
     "name": "stderr",
     "output_type": "stream",
     "text": [
      " lr 0.000069\t: 100%|██████████| 494/494 [03:32<00:00,  2.33it/s, Transformer_Loss=0.782] \n"
     ]
    },
    {
     "name": "stdout",
     "output_type": "stream",
     "text": [
      "Epoch 324:\n"
     ]
    },
    {
     "name": "stderr",
     "output_type": "stream",
     "text": [
      " lr 0.000068\t: 100%|██████████| 494/494 [03:32<00:00,  2.32it/s, Transformer_Loss=0.582] \n"
     ]
    },
    {
     "name": "stdout",
     "output_type": "stream",
     "text": [
      "Epoch 325:\n"
     ]
    },
    {
     "name": "stderr",
     "output_type": "stream",
     "text": [
      " lr 0.000068\t: 100%|██████████| 494/494 [03:32<00:00,  2.33it/s, Transformer_Loss=0.164] \n"
     ]
    },
    {
     "name": "stdout",
     "output_type": "stream",
     "text": [
      "Epoch 326:\n"
     ]
    },
    {
     "name": "stderr",
     "output_type": "stream",
     "text": [
      " lr 0.000068\t: 100%|██████████| 494/494 [03:32<00:00,  2.32it/s, Transformer_Loss=0.644] \n"
     ]
    },
    {
     "name": "stdout",
     "output_type": "stream",
     "text": [
      "Epoch 327:\n"
     ]
    },
    {
     "name": "stderr",
     "output_type": "stream",
     "text": [
      " lr 0.000068\t: 100%|██████████| 494/494 [03:32<00:00,  2.33it/s, Transformer_Loss=0.187] \n"
     ]
    },
    {
     "name": "stdout",
     "output_type": "stream",
     "text": [
      "Epoch 328:\n"
     ]
    },
    {
     "name": "stderr",
     "output_type": "stream",
     "text": [
      " lr 0.000068\t: 100%|██████████| 494/494 [03:32<00:00,  2.32it/s, Transformer_Loss=1.01]  \n"
     ]
    },
    {
     "name": "stdout",
     "output_type": "stream",
     "text": [
      "Epoch 329:\n"
     ]
    },
    {
     "name": "stderr",
     "output_type": "stream",
     "text": [
      " lr 0.000068\t: 100%|██████████| 494/494 [03:32<00:00,  2.33it/s, Transformer_Loss=1.89]  \n"
     ]
    },
    {
     "name": "stdout",
     "output_type": "stream",
     "text": [
      "Epoch 330:\n"
     ]
    },
    {
     "name": "stderr",
     "output_type": "stream",
     "text": [
      " lr 0.000068\t: 100%|██████████| 494/494 [03:32<00:00,  2.32it/s, Transformer_Loss=0.116] \n"
     ]
    },
    {
     "name": "stdout",
     "output_type": "stream",
     "text": [
      "Epoch 331:\n"
     ]
    },
    {
     "name": "stderr",
     "output_type": "stream",
     "text": [
      " lr 0.000068\t: 100%|██████████| 494/494 [03:32<00:00,  2.33it/s, Transformer_Loss=0.221] \n"
     ]
    },
    {
     "name": "stdout",
     "output_type": "stream",
     "text": [
      "Epoch 332:\n"
     ]
    },
    {
     "name": "stderr",
     "output_type": "stream",
     "text": [
      " lr 0.000068\t: 100%|██████████| 494/494 [03:32<00:00,  2.33it/s, Transformer_Loss=0.0943]\n"
     ]
    },
    {
     "name": "stdout",
     "output_type": "stream",
     "text": [
      "Epoch 333:\n"
     ]
    },
    {
     "name": "stderr",
     "output_type": "stream",
     "text": [
      " lr 0.000068\t: 100%|██████████| 494/494 [03:32<00:00,  2.33it/s, Transformer_Loss=2.31]  \n"
     ]
    },
    {
     "name": "stdout",
     "output_type": "stream",
     "text": [
      "Epoch 334:\n"
     ]
    },
    {
     "name": "stderr",
     "output_type": "stream",
     "text": [
      " lr 0.000067\t: 100%|██████████| 494/494 [03:32<00:00,  2.32it/s, Transformer_Loss=0.284] \n"
     ]
    },
    {
     "name": "stdout",
     "output_type": "stream",
     "text": [
      "Epoch 335:\n"
     ]
    },
    {
     "name": "stderr",
     "output_type": "stream",
     "text": [
      " lr 0.000067\t: 100%|██████████| 494/494 [03:32<00:00,  2.32it/s, Transformer_Loss=2.7]   \n"
     ]
    },
    {
     "name": "stdout",
     "output_type": "stream",
     "text": [
      "Epoch 336:\n"
     ]
    },
    {
     "name": "stderr",
     "output_type": "stream",
     "text": [
      " lr 0.000067\t: 100%|██████████| 494/494 [03:32<00:00,  2.33it/s, Transformer_Loss=4.02]  \n"
     ]
    },
    {
     "name": "stdout",
     "output_type": "stream",
     "text": [
      "Epoch 337:\n"
     ]
    },
    {
     "name": "stderr",
     "output_type": "stream",
     "text": [
      " lr 0.000067\t: 100%|██████████| 494/494 [03:32<00:00,  2.32it/s, Transformer_Loss=1.48]  \n"
     ]
    },
    {
     "name": "stdout",
     "output_type": "stream",
     "text": [
      "Epoch 338:\n"
     ]
    },
    {
     "name": "stderr",
     "output_type": "stream",
     "text": [
      " lr 0.000067\t: 100%|██████████| 494/494 [03:32<00:00,  2.32it/s, Transformer_Loss=0.755] \n"
     ]
    },
    {
     "name": "stdout",
     "output_type": "stream",
     "text": [
      "Epoch 339:\n"
     ]
    },
    {
     "name": "stderr",
     "output_type": "stream",
     "text": [
      " lr 0.000067\t: 100%|██████████| 494/494 [03:32<00:00,  2.32it/s, Transformer_Loss=2.23]  \n"
     ]
    },
    {
     "name": "stdout",
     "output_type": "stream",
     "text": [
      "Epoch 340:\n"
     ]
    },
    {
     "name": "stderr",
     "output_type": "stream",
     "text": [
      " lr 0.000067\t: 100%|██████████| 494/494 [03:32<00:00,  2.33it/s, Transformer_Loss=1.13]  \n"
     ]
    },
    {
     "name": "stdout",
     "output_type": "stream",
     "text": [
      "Epoch 341:\n"
     ]
    },
    {
     "name": "stderr",
     "output_type": "stream",
     "text": [
      " lr 0.000067\t: 100%|██████████| 494/494 [03:32<00:00,  2.32it/s, Transformer_Loss=0.731] \n"
     ]
    },
    {
     "name": "stdout",
     "output_type": "stream",
     "text": [
      "Epoch 342:\n"
     ]
    },
    {
     "name": "stderr",
     "output_type": "stream",
     "text": [
      " lr 0.000067\t: 100%|██████████| 494/494 [03:32<00:00,  2.33it/s, Transformer_Loss=1.3]   \n"
     ]
    },
    {
     "name": "stdout",
     "output_type": "stream",
     "text": [
      "Epoch 343:\n"
     ]
    },
    {
     "name": "stderr",
     "output_type": "stream",
     "text": [
      " lr 0.000067\t: 100%|██████████| 494/494 [03:32<00:00,  2.32it/s, Transformer_Loss=0.205] \n"
     ]
    },
    {
     "name": "stdout",
     "output_type": "stream",
     "text": [
      "Epoch 344:\n"
     ]
    },
    {
     "name": "stderr",
     "output_type": "stream",
     "text": [
      " lr 0.000066\t: 100%|██████████| 494/494 [03:32<00:00,  2.33it/s, Transformer_Loss=4.57]  \n"
     ]
    },
    {
     "name": "stdout",
     "output_type": "stream",
     "text": [
      "Epoch 345:\n"
     ]
    },
    {
     "name": "stderr",
     "output_type": "stream",
     "text": [
      " lr 0.000066\t: 100%|██████████| 494/494 [03:32<00:00,  2.32it/s, Transformer_Loss=1.25]  \n"
     ]
    },
    {
     "name": "stdout",
     "output_type": "stream",
     "text": [
      "Epoch 346:\n"
     ]
    },
    {
     "name": "stderr",
     "output_type": "stream",
     "text": [
      " lr 0.000066\t: 100%|██████████| 494/494 [03:32<00:00,  2.33it/s, Transformer_Loss=0.0642]\n"
     ]
    },
    {
     "name": "stdout",
     "output_type": "stream",
     "text": [
      "Epoch 347:\n"
     ]
    },
    {
     "name": "stderr",
     "output_type": "stream",
     "text": [
      " lr 0.000066\t: 100%|██████████| 494/494 [03:32<00:00,  2.33it/s, Transformer_Loss=0.139] \n"
     ]
    },
    {
     "name": "stdout",
     "output_type": "stream",
     "text": [
      "Epoch 348:\n"
     ]
    },
    {
     "name": "stderr",
     "output_type": "stream",
     "text": [
      " lr 0.000066\t: 100%|██████████| 494/494 [03:32<00:00,  2.33it/s, Transformer_Loss=1.51]  \n"
     ]
    },
    {
     "name": "stdout",
     "output_type": "stream",
     "text": [
      "Epoch 349:\n"
     ]
    },
    {
     "name": "stderr",
     "output_type": "stream",
     "text": [
      " lr 0.000066\t: 100%|██████████| 494/494 [03:32<00:00,  2.32it/s, Transformer_Loss=3.09]  \n"
     ]
    },
    {
     "name": "stdout",
     "output_type": "stream",
     "text": [
      "Epoch 350:\n"
     ]
    },
    {
     "name": "stderr",
     "output_type": "stream",
     "text": [
      " lr 0.000066\t: 100%|██████████| 494/494 [03:32<00:00,  2.33it/s, Transformer_Loss=1.07]  \n"
     ]
    },
    {
     "name": "stdout",
     "output_type": "stream",
     "text": [
      "Epoch 351:\n"
     ]
    },
    {
     "name": "stderr",
     "output_type": "stream",
     "text": [
      " lr 0.000066\t: 100%|██████████| 494/494 [03:32<00:00,  2.32it/s, Transformer_Loss=1.12]  \n"
     ]
    },
    {
     "name": "stdout",
     "output_type": "stream",
     "text": [
      "Epoch 352:\n"
     ]
    },
    {
     "name": "stderr",
     "output_type": "stream",
     "text": [
      " lr 0.000066\t: 100%|██████████| 494/494 [03:32<00:00,  2.32it/s, Transformer_Loss=1]     \n"
     ]
    },
    {
     "name": "stdout",
     "output_type": "stream",
     "text": [
      "Epoch 353:\n"
     ]
    },
    {
     "name": "stderr",
     "output_type": "stream",
     "text": [
      " lr 0.000066\t: 100%|██████████| 494/494 [03:32<00:00,  2.32it/s, Transformer_Loss=1.1]   \n"
     ]
    },
    {
     "name": "stdout",
     "output_type": "stream",
     "text": [
      "Epoch 354:\n"
     ]
    },
    {
     "name": "stderr",
     "output_type": "stream",
     "text": [
      " lr 0.000065\t: 100%|██████████| 494/494 [03:32<00:00,  2.32it/s, Transformer_Loss=0.591] \n"
     ]
    },
    {
     "name": "stdout",
     "output_type": "stream",
     "text": [
      "Epoch 355:\n"
     ]
    },
    {
     "name": "stderr",
     "output_type": "stream",
     "text": [
      " lr 0.000065\t: 100%|██████████| 494/494 [03:32<00:00,  2.32it/s, Transformer_Loss=0.179] \n"
     ]
    },
    {
     "name": "stdout",
     "output_type": "stream",
     "text": [
      "Epoch 356:\n"
     ]
    },
    {
     "name": "stderr",
     "output_type": "stream",
     "text": [
      " lr 0.000065\t: 100%|██████████| 494/494 [03:32<00:00,  2.33it/s, Transformer_Loss=0.912] \n"
     ]
    },
    {
     "name": "stdout",
     "output_type": "stream",
     "text": [
      "Epoch 357:\n"
     ]
    },
    {
     "name": "stderr",
     "output_type": "stream",
     "text": [
      " lr 0.000065\t: 100%|██████████| 494/494 [03:32<00:00,  2.33it/s, Transformer_Loss=2.41]  \n"
     ]
    },
    {
     "name": "stdout",
     "output_type": "stream",
     "text": [
      "Epoch 358:\n"
     ]
    },
    {
     "name": "stderr",
     "output_type": "stream",
     "text": [
      " lr 0.000065\t: 100%|██████████| 494/494 [03:32<00:00,  2.33it/s, Transformer_Loss=0.815] \n"
     ]
    },
    {
     "name": "stdout",
     "output_type": "stream",
     "text": [
      "Epoch 359:\n"
     ]
    },
    {
     "name": "stderr",
     "output_type": "stream",
     "text": [
      " lr 0.000065\t: 100%|██████████| 494/494 [03:32<00:00,  2.32it/s, Transformer_Loss=0.944] \n"
     ]
    },
    {
     "name": "stdout",
     "output_type": "stream",
     "text": [
      "Epoch 360:\n"
     ]
    },
    {
     "name": "stderr",
     "output_type": "stream",
     "text": [
      " lr 0.000065\t: 100%|██████████| 494/494 [03:32<00:00,  2.32it/s, Transformer_Loss=1.23]  \n"
     ]
    },
    {
     "name": "stdout",
     "output_type": "stream",
     "text": [
      "Epoch 361:\n"
     ]
    },
    {
     "name": "stderr",
     "output_type": "stream",
     "text": [
      " lr 0.000065\t: 100%|██████████| 494/494 [03:32<00:00,  2.32it/s, Transformer_Loss=0.961] \n"
     ]
    },
    {
     "name": "stdout",
     "output_type": "stream",
     "text": [
      "Epoch 362:\n"
     ]
    },
    {
     "name": "stderr",
     "output_type": "stream",
     "text": [
      " lr 0.000065\t: 100%|██████████| 494/494 [03:32<00:00,  2.33it/s, Transformer_Loss=3.1]   \n"
     ]
    },
    {
     "name": "stdout",
     "output_type": "stream",
     "text": [
      "Epoch 363:\n"
     ]
    },
    {
     "name": "stderr",
     "output_type": "stream",
     "text": [
      " lr 0.000065\t: 100%|██████████| 494/494 [03:32<00:00,  2.33it/s, Transformer_Loss=0.639] \n"
     ]
    },
    {
     "name": "stdout",
     "output_type": "stream",
     "text": [
      "Epoch 364:\n"
     ]
    },
    {
     "name": "stderr",
     "output_type": "stream",
     "text": [
      " lr 0.000064\t: 100%|██████████| 494/494 [03:31<00:00,  2.33it/s, Transformer_Loss=0.697] \n"
     ]
    },
    {
     "name": "stdout",
     "output_type": "stream",
     "text": [
      "Epoch 365:\n"
     ]
    },
    {
     "name": "stderr",
     "output_type": "stream",
     "text": [
      " lr 0.000064\t: 100%|██████████| 494/494 [03:32<00:00,  2.33it/s, Transformer_Loss=0.108] \n"
     ]
    },
    {
     "name": "stdout",
     "output_type": "stream",
     "text": [
      "Epoch 366:\n"
     ]
    },
    {
     "name": "stderr",
     "output_type": "stream",
     "text": [
      " lr 0.000064\t: 100%|██████████| 494/494 [03:32<00:00,  2.33it/s, Transformer_Loss=0.169] \n"
     ]
    },
    {
     "name": "stdout",
     "output_type": "stream",
     "text": [
      "Epoch 367:\n"
     ]
    },
    {
     "name": "stderr",
     "output_type": "stream",
     "text": [
      " lr 0.000064\t: 100%|██████████| 494/494 [03:32<00:00,  2.33it/s, Transformer_Loss=2.44]  \n"
     ]
    },
    {
     "name": "stdout",
     "output_type": "stream",
     "text": [
      "Epoch 368:\n"
     ]
    },
    {
     "name": "stderr",
     "output_type": "stream",
     "text": [
      " lr 0.000064\t: 100%|██████████| 494/494 [03:32<00:00,  2.33it/s, Transformer_Loss=0.76]  \n"
     ]
    },
    {
     "name": "stdout",
     "output_type": "stream",
     "text": [
      "Epoch 369:\n"
     ]
    },
    {
     "name": "stderr",
     "output_type": "stream",
     "text": [
      " lr 0.000064\t: 100%|██████████| 494/494 [03:32<00:00,  2.32it/s, Transformer_Loss=3.91]  \n"
     ]
    },
    {
     "name": "stdout",
     "output_type": "stream",
     "text": [
      "Epoch 370:\n"
     ]
    },
    {
     "name": "stderr",
     "output_type": "stream",
     "text": [
      " lr 0.000064\t: 100%|██████████| 494/494 [03:32<00:00,  2.33it/s, Transformer_Loss=0.791] \n"
     ]
    },
    {
     "name": "stdout",
     "output_type": "stream",
     "text": [
      "Epoch 371:\n"
     ]
    },
    {
     "name": "stderr",
     "output_type": "stream",
     "text": [
      " lr 0.000064\t: 100%|██████████| 494/494 [03:32<00:00,  2.33it/s, Transformer_Loss=1.67]  \n"
     ]
    },
    {
     "name": "stdout",
     "output_type": "stream",
     "text": [
      "Epoch 372:\n"
     ]
    },
    {
     "name": "stderr",
     "output_type": "stream",
     "text": [
      " lr 0.000064\t: 100%|██████████| 494/494 [03:33<00:00,  2.32it/s, Transformer_Loss=0.404] \n"
     ]
    },
    {
     "name": "stdout",
     "output_type": "stream",
     "text": [
      "Epoch 373:\n"
     ]
    },
    {
     "name": "stderr",
     "output_type": "stream",
     "text": [
      " lr 0.000064\t: 100%|██████████| 494/494 [03:33<00:00,  2.32it/s, Transformer_Loss=2.93]  \n"
     ]
    },
    {
     "name": "stdout",
     "output_type": "stream",
     "text": [
      "Epoch 374:\n"
     ]
    },
    {
     "name": "stderr",
     "output_type": "stream",
     "text": [
      " lr 0.000063\t: 100%|██████████| 494/494 [03:32<00:00,  2.32it/s, Transformer_Loss=2.69]  \n"
     ]
    },
    {
     "name": "stdout",
     "output_type": "stream",
     "text": [
      "Epoch 375:\n"
     ]
    },
    {
     "name": "stderr",
     "output_type": "stream",
     "text": [
      " lr 0.000063\t: 100%|██████████| 494/494 [03:33<00:00,  2.32it/s, Transformer_Loss=0.395] \n"
     ]
    },
    {
     "name": "stdout",
     "output_type": "stream",
     "text": [
      "Epoch 376:\n"
     ]
    },
    {
     "name": "stderr",
     "output_type": "stream",
     "text": [
      " lr 0.000063\t: 100%|██████████| 494/494 [03:33<00:00,  2.32it/s, Transformer_Loss=2.29]  \n"
     ]
    },
    {
     "name": "stdout",
     "output_type": "stream",
     "text": [
      "Epoch 377:\n"
     ]
    },
    {
     "name": "stderr",
     "output_type": "stream",
     "text": [
      " lr 0.000063\t: 100%|██████████| 494/494 [03:33<00:00,  2.32it/s, Transformer_Loss=1.19]  \n"
     ]
    },
    {
     "name": "stdout",
     "output_type": "stream",
     "text": [
      "Epoch 378:\n"
     ]
    },
    {
     "name": "stderr",
     "output_type": "stream",
     "text": [
      " lr 0.000063\t: 100%|██████████| 494/494 [03:32<00:00,  2.32it/s, Transformer_Loss=3.38]  \n"
     ]
    },
    {
     "name": "stdout",
     "output_type": "stream",
     "text": [
      "Epoch 379:\n"
     ]
    },
    {
     "name": "stderr",
     "output_type": "stream",
     "text": [
      " lr 0.000063\t: 100%|██████████| 494/494 [03:33<00:00,  2.31it/s, Transformer_Loss=0.113] \n"
     ]
    },
    {
     "name": "stdout",
     "output_type": "stream",
     "text": [
      "Epoch 380:\n"
     ]
    },
    {
     "name": "stderr",
     "output_type": "stream",
     "text": [
      " lr 0.000063\t: 100%|██████████| 494/494 [03:32<00:00,  2.32it/s, Transformer_Loss=1.48]  \n"
     ]
    },
    {
     "name": "stdout",
     "output_type": "stream",
     "text": [
      "Epoch 381:\n"
     ]
    },
    {
     "name": "stderr",
     "output_type": "stream",
     "text": [
      " lr 0.000063\t: 100%|██████████| 494/494 [03:33<00:00,  2.32it/s, Transformer_Loss=1.2]   \n"
     ]
    },
    {
     "name": "stdout",
     "output_type": "stream",
     "text": [
      "Epoch 382:\n"
     ]
    },
    {
     "name": "stderr",
     "output_type": "stream",
     "text": [
      " lr 0.000063\t: 100%|██████████| 494/494 [03:32<00:00,  2.32it/s, Transformer_Loss=0.0794]\n"
     ]
    },
    {
     "name": "stdout",
     "output_type": "stream",
     "text": [
      "Epoch 383:\n"
     ]
    },
    {
     "name": "stderr",
     "output_type": "stream",
     "text": [
      " lr 0.000063\t: 100%|██████████| 494/494 [03:33<00:00,  2.31it/s, Transformer_Loss=1.64]  \n"
     ]
    },
    {
     "name": "stdout",
     "output_type": "stream",
     "text": [
      "Epoch 384:\n"
     ]
    },
    {
     "name": "stderr",
     "output_type": "stream",
     "text": [
      " lr 0.000062\t: 100%|██████████| 494/494 [03:32<00:00,  2.32it/s, Transformer_Loss=3.32]  \n"
     ]
    },
    {
     "name": "stdout",
     "output_type": "stream",
     "text": [
      "Epoch 385:\n"
     ]
    },
    {
     "name": "stderr",
     "output_type": "stream",
     "text": [
      " lr 0.000062\t: 100%|██████████| 494/494 [03:32<00:00,  2.32it/s, Transformer_Loss=2.63]  \n"
     ]
    },
    {
     "name": "stdout",
     "output_type": "stream",
     "text": [
      "Epoch 386:\n"
     ]
    },
    {
     "name": "stderr",
     "output_type": "stream",
     "text": [
      " lr 0.000062\t: 100%|██████████| 494/494 [03:33<00:00,  2.32it/s, Transformer_Loss=2.62]  \n"
     ]
    },
    {
     "name": "stdout",
     "output_type": "stream",
     "text": [
      "Epoch 387:\n"
     ]
    },
    {
     "name": "stderr",
     "output_type": "stream",
     "text": [
      " lr 0.000062\t: 100%|██████████| 494/494 [03:32<00:00,  2.32it/s, Transformer_Loss=2]     \n"
     ]
    },
    {
     "name": "stdout",
     "output_type": "stream",
     "text": [
      "Epoch 388:\n"
     ]
    },
    {
     "name": "stderr",
     "output_type": "stream",
     "text": [
      " lr 0.000062\t: 100%|██████████| 494/494 [03:32<00:00,  2.32it/s, Transformer_Loss=0.535] \n"
     ]
    },
    {
     "name": "stdout",
     "output_type": "stream",
     "text": [
      "Epoch 389:\n"
     ]
    },
    {
     "name": "stderr",
     "output_type": "stream",
     "text": [
      " lr 0.000062\t: 100%|██████████| 494/494 [03:33<00:00,  2.32it/s, Transformer_Loss=0.726] \n"
     ]
    },
    {
     "name": "stdout",
     "output_type": "stream",
     "text": [
      "Epoch 390:\n"
     ]
    },
    {
     "name": "stderr",
     "output_type": "stream",
     "text": [
      " lr 0.000062\t: 100%|██████████| 494/494 [03:32<00:00,  2.32it/s, Transformer_Loss=1.5]   \n"
     ]
    },
    {
     "name": "stdout",
     "output_type": "stream",
     "text": [
      "Epoch 391:\n"
     ]
    },
    {
     "name": "stderr",
     "output_type": "stream",
     "text": [
      " lr 0.000062\t: 100%|██████████| 494/494 [03:33<00:00,  2.32it/s, Transformer_Loss=2.95]  \n"
     ]
    },
    {
     "name": "stdout",
     "output_type": "stream",
     "text": [
      "Epoch 392:\n"
     ]
    },
    {
     "name": "stderr",
     "output_type": "stream",
     "text": [
      " lr 0.000062\t: 100%|██████████| 494/494 [03:32<00:00,  2.32it/s, Transformer_Loss=2.41]  \n"
     ]
    },
    {
     "name": "stdout",
     "output_type": "stream",
     "text": [
      "Epoch 393:\n"
     ]
    },
    {
     "name": "stderr",
     "output_type": "stream",
     "text": [
      " lr 0.000062\t: 100%|██████████| 494/494 [03:32<00:00,  2.32it/s, Transformer_Loss=0.357] \n"
     ]
    },
    {
     "name": "stdout",
     "output_type": "stream",
     "text": [
      "Epoch 394:\n"
     ]
    },
    {
     "name": "stderr",
     "output_type": "stream",
     "text": [
      " lr 0.000061\t: 100%|██████████| 494/494 [03:32<00:00,  2.32it/s, Transformer_Loss=0.824] \n"
     ]
    },
    {
     "name": "stdout",
     "output_type": "stream",
     "text": [
      "Epoch 395:\n"
     ]
    },
    {
     "name": "stderr",
     "output_type": "stream",
     "text": [
      " lr 0.000061\t: 100%|██████████| 494/494 [03:32<00:00,  2.32it/s, Transformer_Loss=1.58]  \n"
     ]
    },
    {
     "name": "stdout",
     "output_type": "stream",
     "text": [
      "Epoch 396:\n"
     ]
    },
    {
     "name": "stderr",
     "output_type": "stream",
     "text": [
      " lr 0.000061\t: 100%|██████████| 494/494 [03:32<00:00,  2.32it/s, Transformer_Loss=0.232] \n"
     ]
    },
    {
     "name": "stdout",
     "output_type": "stream",
     "text": [
      "Epoch 397:\n"
     ]
    },
    {
     "name": "stderr",
     "output_type": "stream",
     "text": [
      " lr 0.000061\t: 100%|██████████| 494/494 [03:32<00:00,  2.32it/s, Transformer_Loss=2.27]  \n"
     ]
    },
    {
     "name": "stdout",
     "output_type": "stream",
     "text": [
      "Epoch 398:\n"
     ]
    },
    {
     "name": "stderr",
     "output_type": "stream",
     "text": [
      " lr 0.000061\t: 100%|██████████| 494/494 [03:32<00:00,  2.33it/s, Transformer_Loss=2.66]  \n"
     ]
    },
    {
     "name": "stdout",
     "output_type": "stream",
     "text": [
      "Epoch 399:\n"
     ]
    },
    {
     "name": "stderr",
     "output_type": "stream",
     "text": [
      " lr 0.000061\t: 100%|██████████| 494/494 [03:32<00:00,  2.32it/s, Transformer_Loss=0.369] \n"
     ]
    },
    {
     "name": "stdout",
     "output_type": "stream",
     "text": [
      "Epoch 400:\n"
     ]
    },
    {
     "name": "stderr",
     "output_type": "stream",
     "text": [
      " lr 0.000061\t: 100%|██████████| 494/494 [03:32<00:00,  2.32it/s, Transformer_Loss=1.3]   \n"
     ]
    },
    {
     "name": "stdout",
     "output_type": "stream",
     "text": [
      "Epoch 401:\n"
     ]
    },
    {
     "name": "stderr",
     "output_type": "stream",
     "text": [
      " lr 0.000061\t: 100%|██████████| 494/494 [03:32<00:00,  2.32it/s, Transformer_Loss=1.35]  \n"
     ]
    },
    {
     "name": "stdout",
     "output_type": "stream",
     "text": [
      "Epoch 402:\n"
     ]
    },
    {
     "name": "stderr",
     "output_type": "stream",
     "text": [
      " lr 0.000061\t: 100%|██████████| 494/494 [03:32<00:00,  2.32it/s, Transformer_Loss=0.0859]\n"
     ]
    },
    {
     "name": "stdout",
     "output_type": "stream",
     "text": [
      "Epoch 403:\n"
     ]
    },
    {
     "name": "stderr",
     "output_type": "stream",
     "text": [
      " lr 0.000061\t: 100%|██████████| 494/494 [03:32<00:00,  2.32it/s, Transformer_Loss=4.5]   \n"
     ]
    },
    {
     "name": "stdout",
     "output_type": "stream",
     "text": [
      "Epoch 404:\n"
     ]
    },
    {
     "name": "stderr",
     "output_type": "stream",
     "text": [
      " lr 0.000060\t: 100%|██████████| 494/494 [03:32<00:00,  2.32it/s, Transformer_Loss=0.154] \n"
     ]
    },
    {
     "name": "stdout",
     "output_type": "stream",
     "text": [
      "Epoch 405:\n"
     ]
    },
    {
     "name": "stderr",
     "output_type": "stream",
     "text": [
      " lr 0.000060\t: 100%|██████████| 494/494 [03:32<00:00,  2.32it/s, Transformer_Loss=1.31]  \n"
     ]
    },
    {
     "name": "stdout",
     "output_type": "stream",
     "text": [
      "Epoch 406:\n"
     ]
    },
    {
     "name": "stderr",
     "output_type": "stream",
     "text": [
      " lr 0.000060\t: 100%|██████████| 494/494 [03:32<00:00,  2.32it/s, Transformer_Loss=0.0652]\n"
     ]
    },
    {
     "name": "stdout",
     "output_type": "stream",
     "text": [
      "Epoch 407:\n"
     ]
    },
    {
     "name": "stderr",
     "output_type": "stream",
     "text": [
      " lr 0.000060\t: 100%|██████████| 494/494 [03:33<00:00,  2.32it/s, Transformer_Loss=0.211] \n"
     ]
    },
    {
     "name": "stdout",
     "output_type": "stream",
     "text": [
      "Epoch 408:\n"
     ]
    },
    {
     "name": "stderr",
     "output_type": "stream",
     "text": [
      " lr 0.000060\t: 100%|██████████| 494/494 [03:32<00:00,  2.32it/s, Transformer_Loss=2.64]  \n"
     ]
    },
    {
     "name": "stdout",
     "output_type": "stream",
     "text": [
      "Epoch 409:\n"
     ]
    },
    {
     "name": "stderr",
     "output_type": "stream",
     "text": [
      " lr 0.000060\t: 100%|██████████| 494/494 [03:33<00:00,  2.32it/s, Transformer_Loss=0.973] \n"
     ]
    },
    {
     "name": "stdout",
     "output_type": "stream",
     "text": [
      "Epoch 410:\n"
     ]
    },
    {
     "name": "stderr",
     "output_type": "stream",
     "text": [
      " lr 0.000060\t: 100%|██████████| 494/494 [03:32<00:00,  2.32it/s, Transformer_Loss=1.12]  \n"
     ]
    },
    {
     "name": "stdout",
     "output_type": "stream",
     "text": [
      "Epoch 411:\n"
     ]
    },
    {
     "name": "stderr",
     "output_type": "stream",
     "text": [
      " lr 0.000060\t: 100%|██████████| 494/494 [03:33<00:00,  2.32it/s, Transformer_Loss=0.115] \n"
     ]
    },
    {
     "name": "stdout",
     "output_type": "stream",
     "text": [
      "Epoch 412:\n"
     ]
    },
    {
     "name": "stderr",
     "output_type": "stream",
     "text": [
      " lr 0.000060\t: 100%|██████████| 494/494 [03:32<00:00,  2.33it/s, Transformer_Loss=0.672] \n"
     ]
    },
    {
     "name": "stdout",
     "output_type": "stream",
     "text": [
      "Epoch 413:\n"
     ]
    },
    {
     "name": "stderr",
     "output_type": "stream",
     "text": [
      " lr 0.000059\t: 100%|██████████| 494/494 [03:32<00:00,  2.32it/s, Transformer_Loss=4.15]  \n"
     ]
    },
    {
     "name": "stdout",
     "output_type": "stream",
     "text": [
      "Epoch 414:\n"
     ]
    },
    {
     "name": "stderr",
     "output_type": "stream",
     "text": [
      " lr 0.000059\t: 100%|██████████| 494/494 [03:32<00:00,  2.32it/s, Transformer_Loss=1.95]  \n"
     ]
    },
    {
     "name": "stdout",
     "output_type": "stream",
     "text": [
      "Epoch 415:\n"
     ]
    },
    {
     "name": "stderr",
     "output_type": "stream",
     "text": [
      " lr 0.000059\t: 100%|██████████| 494/494 [03:32<00:00,  2.32it/s, Transformer_Loss=0.0588]\n"
     ]
    },
    {
     "name": "stdout",
     "output_type": "stream",
     "text": [
      "Epoch 416:\n"
     ]
    },
    {
     "name": "stderr",
     "output_type": "stream",
     "text": [
      " lr 0.000059\t: 100%|██████████| 494/494 [03:32<00:00,  2.32it/s, Transformer_Loss=1.37]  \n"
     ]
    },
    {
     "name": "stdout",
     "output_type": "stream",
     "text": [
      "Epoch 417:\n"
     ]
    },
    {
     "name": "stderr",
     "output_type": "stream",
     "text": [
      " lr 0.000059\t: 100%|██████████| 494/494 [03:32<00:00,  2.32it/s, Transformer_Loss=0.084] \n"
     ]
    },
    {
     "name": "stdout",
     "output_type": "stream",
     "text": [
      "Epoch 418:\n"
     ]
    },
    {
     "name": "stderr",
     "output_type": "stream",
     "text": [
      " lr 0.000059\t: 100%|██████████| 494/494 [03:33<00:00,  2.32it/s, Transformer_Loss=0.119] \n"
     ]
    },
    {
     "name": "stdout",
     "output_type": "stream",
     "text": [
      "Epoch 419:\n"
     ]
    },
    {
     "name": "stderr",
     "output_type": "stream",
     "text": [
      " lr 0.000059\t: 100%|██████████| 494/494 [03:32<00:00,  2.32it/s, Transformer_Loss=0.9]   \n"
     ]
    },
    {
     "name": "stdout",
     "output_type": "stream",
     "text": [
      "Epoch 420:\n"
     ]
    },
    {
     "name": "stderr",
     "output_type": "stream",
     "text": [
      " lr 0.000059\t: 100%|██████████| 494/494 [03:32<00:00,  2.32it/s, Transformer_Loss=0.709] \n"
     ]
    },
    {
     "name": "stdout",
     "output_type": "stream",
     "text": [
      "Epoch 421:\n"
     ]
    },
    {
     "name": "stderr",
     "output_type": "stream",
     "text": [
      " lr 0.000059\t: 100%|██████████| 494/494 [03:32<00:00,  2.32it/s, Transformer_Loss=2.88]  \n"
     ]
    },
    {
     "name": "stdout",
     "output_type": "stream",
     "text": [
      "Epoch 422:\n"
     ]
    },
    {
     "name": "stderr",
     "output_type": "stream",
     "text": [
      " lr 0.000059\t: 100%|██████████| 494/494 [03:32<00:00,  2.32it/s, Transformer_Loss=0.046] \n"
     ]
    },
    {
     "name": "stdout",
     "output_type": "stream",
     "text": [
      "Epoch 423:\n"
     ]
    },
    {
     "name": "stderr",
     "output_type": "stream",
     "text": [
      " lr 0.000058\t: 100%|██████████| 494/494 [03:32<00:00,  2.32it/s, Transformer_Loss=0.0419]\n"
     ]
    },
    {
     "name": "stdout",
     "output_type": "stream",
     "text": [
      "Epoch 424:\n"
     ]
    },
    {
     "name": "stderr",
     "output_type": "stream",
     "text": [
      " lr 0.000058\t: 100%|██████████| 494/494 [03:32<00:00,  2.32it/s, Transformer_Loss=0.813] \n"
     ]
    },
    {
     "name": "stdout",
     "output_type": "stream",
     "text": [
      "Epoch 425:\n"
     ]
    },
    {
     "name": "stderr",
     "output_type": "stream",
     "text": [
      " lr 0.000058\t: 100%|██████████| 494/494 [03:32<00:00,  2.32it/s, Transformer_Loss=0.73]  \n"
     ]
    },
    {
     "name": "stdout",
     "output_type": "stream",
     "text": [
      "Epoch 426:\n"
     ]
    },
    {
     "name": "stderr",
     "output_type": "stream",
     "text": [
      " lr 0.000058\t: 100%|██████████| 494/494 [03:32<00:00,  2.32it/s, Transformer_Loss=3.71]  \n"
     ]
    },
    {
     "name": "stdout",
     "output_type": "stream",
     "text": [
      "Epoch 427:\n"
     ]
    },
    {
     "name": "stderr",
     "output_type": "stream",
     "text": [
      " lr 0.000058\t: 100%|██████████| 494/494 [03:32<00:00,  2.32it/s, Transformer_Loss=3.01]  \n"
     ]
    },
    {
     "name": "stdout",
     "output_type": "stream",
     "text": [
      "Epoch 428:\n"
     ]
    },
    {
     "name": "stderr",
     "output_type": "stream",
     "text": [
      " lr 0.000058\t: 100%|██████████| 494/494 [03:32<00:00,  2.32it/s, Transformer_Loss=2.41]  \n"
     ]
    },
    {
     "name": "stdout",
     "output_type": "stream",
     "text": [
      "Epoch 429:\n"
     ]
    },
    {
     "name": "stderr",
     "output_type": "stream",
     "text": [
      " lr 0.000058\t: 100%|██████████| 494/494 [03:32<00:00,  2.32it/s, Transformer_Loss=3.07]  \n"
     ]
    },
    {
     "name": "stdout",
     "output_type": "stream",
     "text": [
      "Epoch 430:\n"
     ]
    },
    {
     "name": "stderr",
     "output_type": "stream",
     "text": [
      " lr 0.000058\t: 100%|██████████| 494/494 [03:32<00:00,  2.32it/s, Transformer_Loss=3.95]  \n"
     ]
    },
    {
     "name": "stdout",
     "output_type": "stream",
     "text": [
      "Epoch 431:\n"
     ]
    },
    {
     "name": "stderr",
     "output_type": "stream",
     "text": [
      " lr 0.000058\t: 100%|██████████| 494/494 [03:32<00:00,  2.32it/s, Transformer_Loss=0.124] \n"
     ]
    },
    {
     "name": "stdout",
     "output_type": "stream",
     "text": [
      "Epoch 432:\n"
     ]
    },
    {
     "name": "stderr",
     "output_type": "stream",
     "text": [
      " lr 0.000058\t: 100%|██████████| 494/494 [03:32<00:00,  2.32it/s, Transformer_Loss=1.57]  \n"
     ]
    },
    {
     "name": "stdout",
     "output_type": "stream",
     "text": [
      "Epoch 433:\n"
     ]
    },
    {
     "name": "stderr",
     "output_type": "stream",
     "text": [
      " lr 0.000057\t: 100%|██████████| 494/494 [03:32<00:00,  2.32it/s, Transformer_Loss=1.82]  \n"
     ]
    },
    {
     "name": "stdout",
     "output_type": "stream",
     "text": [
      "Epoch 434:\n"
     ]
    },
    {
     "name": "stderr",
     "output_type": "stream",
     "text": [
      " lr 0.000057\t: 100%|██████████| 494/494 [03:33<00:00,  2.32it/s, Transformer_Loss=3.59]  \n"
     ]
    },
    {
     "name": "stdout",
     "output_type": "stream",
     "text": [
      "Epoch 435:\n"
     ]
    },
    {
     "name": "stderr",
     "output_type": "stream",
     "text": [
      " lr 0.000057\t: 100%|██████████| 494/494 [03:32<00:00,  2.32it/s, Transformer_Loss=1.39]  \n"
     ]
    },
    {
     "name": "stdout",
     "output_type": "stream",
     "text": [
      "Epoch 436:\n"
     ]
    },
    {
     "name": "stderr",
     "output_type": "stream",
     "text": [
      " lr 0.000057\t: 100%|██████████| 494/494 [03:33<00:00,  2.32it/s, Transformer_Loss=1.16]  \n"
     ]
    },
    {
     "name": "stdout",
     "output_type": "stream",
     "text": [
      "Epoch 437:\n"
     ]
    },
    {
     "name": "stderr",
     "output_type": "stream",
     "text": [
      " lr 0.000057\t: 100%|██████████| 494/494 [03:32<00:00,  2.32it/s, Transformer_Loss=1.59]  \n"
     ]
    },
    {
     "name": "stdout",
     "output_type": "stream",
     "text": [
      "Epoch 438:\n"
     ]
    },
    {
     "name": "stderr",
     "output_type": "stream",
     "text": [
      " lr 0.000057\t: 100%|██████████| 494/494 [03:33<00:00,  2.32it/s, Transformer_Loss=0.819] \n"
     ]
    },
    {
     "name": "stdout",
     "output_type": "stream",
     "text": [
      "Epoch 439:\n"
     ]
    },
    {
     "name": "stderr",
     "output_type": "stream",
     "text": [
      " lr 0.000057\t: 100%|██████████| 494/494 [03:32<00:00,  2.32it/s, Transformer_Loss=0.0742]\n"
     ]
    },
    {
     "name": "stdout",
     "output_type": "stream",
     "text": [
      "Epoch 440:\n"
     ]
    },
    {
     "name": "stderr",
     "output_type": "stream",
     "text": [
      " lr 0.000057\t: 100%|██████████| 494/494 [03:32<00:00,  2.32it/s, Transformer_Loss=0.854] \n"
     ]
    },
    {
     "name": "stdout",
     "output_type": "stream",
     "text": [
      "Epoch 441:\n"
     ]
    },
    {
     "name": "stderr",
     "output_type": "stream",
     "text": [
      " lr 0.000057\t: 100%|██████████| 494/494 [03:32<00:00,  2.32it/s, Transformer_Loss=2.86]  \n"
     ]
    },
    {
     "name": "stdout",
     "output_type": "stream",
     "text": [
      "Epoch 442:\n"
     ]
    },
    {
     "name": "stderr",
     "output_type": "stream",
     "text": [
      " lr 0.000057\t: 100%|██████████| 494/494 [03:32<00:00,  2.32it/s, Transformer_Loss=1.82]  \n"
     ]
    },
    {
     "name": "stdout",
     "output_type": "stream",
     "text": [
      "Epoch 443:\n"
     ]
    },
    {
     "name": "stderr",
     "output_type": "stream",
     "text": [
      " lr 0.000056\t: 100%|██████████| 494/494 [03:32<00:00,  2.33it/s, Transformer_Loss=0.393] \n"
     ]
    },
    {
     "name": "stdout",
     "output_type": "stream",
     "text": [
      "Epoch 444:\n"
     ]
    },
    {
     "name": "stderr",
     "output_type": "stream",
     "text": [
      " lr 0.000056\t: 100%|██████████| 494/494 [03:32<00:00,  2.32it/s, Transformer_Loss=2.08]  \n"
     ]
    },
    {
     "name": "stdout",
     "output_type": "stream",
     "text": [
      "Epoch 445:\n"
     ]
    },
    {
     "name": "stderr",
     "output_type": "stream",
     "text": [
      " lr 0.000056\t: 100%|██████████| 494/494 [03:32<00:00,  2.32it/s, Transformer_Loss=2.25]  \n"
     ]
    },
    {
     "name": "stdout",
     "output_type": "stream",
     "text": [
      "Epoch 446:\n"
     ]
    },
    {
     "name": "stderr",
     "output_type": "stream",
     "text": [
      " lr 0.000056\t: 100%|██████████| 494/494 [03:33<00:00,  2.32it/s, Transformer_Loss=1.38]  \n"
     ]
    },
    {
     "name": "stdout",
     "output_type": "stream",
     "text": [
      "Epoch 447:\n"
     ]
    },
    {
     "name": "stderr",
     "output_type": "stream",
     "text": [
      " lr 0.000056\t: 100%|██████████| 494/494 [03:32<00:00,  2.32it/s, Transformer_Loss=1.92]  \n"
     ]
    },
    {
     "name": "stdout",
     "output_type": "stream",
     "text": [
      "Epoch 448:\n"
     ]
    },
    {
     "name": "stderr",
     "output_type": "stream",
     "text": [
      " lr 0.000056\t: 100%|██████████| 494/494 [03:32<00:00,  2.32it/s, Transformer_Loss=2.27]  \n"
     ]
    },
    {
     "name": "stdout",
     "output_type": "stream",
     "text": [
      "Epoch 449:\n"
     ]
    },
    {
     "name": "stderr",
     "output_type": "stream",
     "text": [
      " lr 0.000056\t: 100%|██████████| 494/494 [03:32<00:00,  2.32it/s, Transformer_Loss=3.44]  \n"
     ]
    },
    {
     "name": "stdout",
     "output_type": "stream",
     "text": [
      "Epoch 450:\n"
     ]
    },
    {
     "name": "stderr",
     "output_type": "stream",
     "text": [
      " lr 0.000056\t: 100%|██████████| 494/494 [03:32<00:00,  2.32it/s, Transformer_Loss=0.0415]\n"
     ]
    },
    {
     "name": "stdout",
     "output_type": "stream",
     "text": [
      "Epoch 451:\n"
     ]
    },
    {
     "name": "stderr",
     "output_type": "stream",
     "text": [
      " lr 0.000056\t: 100%|██████████| 494/494 [03:32<00:00,  2.33it/s, Transformer_Loss=0.922] \n"
     ]
    },
    {
     "name": "stdout",
     "output_type": "stream",
     "text": [
      "Epoch 452:\n"
     ]
    },
    {
     "name": "stderr",
     "output_type": "stream",
     "text": [
      " lr 0.000056\t: 100%|██████████| 494/494 [03:32<00:00,  2.32it/s, Transformer_Loss=2.44]  \n"
     ]
    },
    {
     "name": "stdout",
     "output_type": "stream",
     "text": [
      "Epoch 453:\n"
     ]
    },
    {
     "name": "stderr",
     "output_type": "stream",
     "text": [
      " lr 0.000055\t: 100%|██████████| 494/494 [03:32<00:00,  2.32it/s, Transformer_Loss=0.181] \n"
     ]
    },
    {
     "name": "stdout",
     "output_type": "stream",
     "text": [
      "Epoch 454:\n"
     ]
    },
    {
     "name": "stderr",
     "output_type": "stream",
     "text": [
      " lr 0.000055\t: 100%|██████████| 494/494 [03:32<00:00,  2.32it/s, Transformer_Loss=3.15]  \n"
     ]
    },
    {
     "name": "stdout",
     "output_type": "stream",
     "text": [
      "Epoch 455:\n"
     ]
    },
    {
     "name": "stderr",
     "output_type": "stream",
     "text": [
      " lr 0.000055\t: 100%|██████████| 494/494 [03:32<00:00,  2.32it/s, Transformer_Loss=3.09]  \n"
     ]
    },
    {
     "name": "stdout",
     "output_type": "stream",
     "text": [
      "Epoch 456:\n"
     ]
    },
    {
     "name": "stderr",
     "output_type": "stream",
     "text": [
      " lr 0.000055\t: 100%|██████████| 494/494 [03:33<00:00,  2.32it/s, Transformer_Loss=2.14]  \n"
     ]
    },
    {
     "name": "stdout",
     "output_type": "stream",
     "text": [
      "Epoch 457:\n"
     ]
    },
    {
     "name": "stderr",
     "output_type": "stream",
     "text": [
      " lr 0.000055\t: 100%|██████████| 494/494 [03:32<00:00,  2.32it/s, Transformer_Loss=0.656] \n"
     ]
    },
    {
     "name": "stdout",
     "output_type": "stream",
     "text": [
      "Epoch 458:\n"
     ]
    },
    {
     "name": "stderr",
     "output_type": "stream",
     "text": [
      " lr 0.000055\t: 100%|██████████| 494/494 [03:32<00:00,  2.32it/s, Transformer_Loss=0.0907]\n"
     ]
    },
    {
     "name": "stdout",
     "output_type": "stream",
     "text": [
      "Epoch 459:\n"
     ]
    },
    {
     "name": "stderr",
     "output_type": "stream",
     "text": [
      " lr 0.000055\t: 100%|██████████| 494/494 [03:32<00:00,  2.32it/s, Transformer_Loss=0.989] \n"
     ]
    },
    {
     "name": "stdout",
     "output_type": "stream",
     "text": [
      "Epoch 460:\n"
     ]
    },
    {
     "name": "stderr",
     "output_type": "stream",
     "text": [
      " lr 0.000055\t: 100%|██████████| 494/494 [03:32<00:00,  2.32it/s, Transformer_Loss=2.16]  \n"
     ]
    },
    {
     "name": "stdout",
     "output_type": "stream",
     "text": [
      "Epoch 461:\n"
     ]
    },
    {
     "name": "stderr",
     "output_type": "stream",
     "text": [
      " lr 0.000055\t: 100%|██████████| 494/494 [03:32<00:00,  2.32it/s, Transformer_Loss=0.79]  \n"
     ]
    },
    {
     "name": "stdout",
     "output_type": "stream",
     "text": [
      "Epoch 462:\n"
     ]
    },
    {
     "name": "stderr",
     "output_type": "stream",
     "text": [
      " lr 0.000055\t: 100%|██████████| 494/494 [03:32<00:00,  2.32it/s, Transformer_Loss=0.106] \n"
     ]
    },
    {
     "name": "stdout",
     "output_type": "stream",
     "text": [
      "Epoch 463:\n"
     ]
    },
    {
     "name": "stderr",
     "output_type": "stream",
     "text": [
      " lr 0.000054\t: 100%|██████████| 494/494 [03:32<00:00,  2.32it/s, Transformer_Loss=1.3]   \n"
     ]
    },
    {
     "name": "stdout",
     "output_type": "stream",
     "text": [
      "Epoch 464:\n"
     ]
    },
    {
     "name": "stderr",
     "output_type": "stream",
     "text": [
      " lr 0.000054\t: 100%|██████████| 494/494 [03:32<00:00,  2.32it/s, Transformer_Loss=0.0623]\n"
     ]
    },
    {
     "name": "stdout",
     "output_type": "stream",
     "text": [
      "Epoch 465:\n"
     ]
    },
    {
     "name": "stderr",
     "output_type": "stream",
     "text": [
      " lr 0.000054\t: 100%|██████████| 494/494 [03:32<00:00,  2.32it/s, Transformer_Loss=1.91]  \n"
     ]
    },
    {
     "name": "stdout",
     "output_type": "stream",
     "text": [
      "Epoch 466:\n"
     ]
    },
    {
     "name": "stderr",
     "output_type": "stream",
     "text": [
      " lr 0.000054\t: 100%|██████████| 494/494 [03:33<00:00,  2.32it/s, Transformer_Loss=2.03]  \n"
     ]
    },
    {
     "name": "stdout",
     "output_type": "stream",
     "text": [
      "Epoch 467:\n"
     ]
    },
    {
     "name": "stderr",
     "output_type": "stream",
     "text": [
      " lr 0.000054\t: 100%|██████████| 494/494 [03:32<00:00,  2.32it/s, Transformer_Loss=0.389] \n"
     ]
    },
    {
     "name": "stdout",
     "output_type": "stream",
     "text": [
      "Epoch 468:\n"
     ]
    },
    {
     "name": "stderr",
     "output_type": "stream",
     "text": [
      " lr 0.000054\t: 100%|██████████| 494/494 [03:32<00:00,  2.33it/s, Transformer_Loss=2.59]  \n"
     ]
    },
    {
     "name": "stdout",
     "output_type": "stream",
     "text": [
      "Epoch 469:\n"
     ]
    },
    {
     "name": "stderr",
     "output_type": "stream",
     "text": [
      " lr 0.000054\t: 100%|██████████| 494/494 [03:32<00:00,  2.32it/s, Transformer_Loss=4.55]  \n"
     ]
    },
    {
     "name": "stdout",
     "output_type": "stream",
     "text": [
      "Epoch 470:\n"
     ]
    },
    {
     "name": "stderr",
     "output_type": "stream",
     "text": [
      " lr 0.000054\t: 100%|██████████| 494/494 [03:33<00:00,  2.31it/s, Transformer_Loss=4.71]  \n"
     ]
    },
    {
     "name": "stdout",
     "output_type": "stream",
     "text": [
      "Epoch 471:\n"
     ]
    },
    {
     "name": "stderr",
     "output_type": "stream",
     "text": [
      " lr 0.000054\t: 100%|██████████| 494/494 [03:32<00:00,  2.32it/s, Transformer_Loss=0.703] \n"
     ]
    },
    {
     "name": "stdout",
     "output_type": "stream",
     "text": [
      "Epoch 472:\n"
     ]
    },
    {
     "name": "stderr",
     "output_type": "stream",
     "text": [
      " lr 0.000054\t: 100%|██████████| 494/494 [03:32<00:00,  2.32it/s, Transformer_Loss=4.15]  \n"
     ]
    },
    {
     "name": "stdout",
     "output_type": "stream",
     "text": [
      "Epoch 473:\n"
     ]
    },
    {
     "name": "stderr",
     "output_type": "stream",
     "text": [
      " lr 0.000053\t: 100%|██████████| 494/494 [03:32<00:00,  2.32it/s, Transformer_Loss=3.02]  \n"
     ]
    },
    {
     "name": "stdout",
     "output_type": "stream",
     "text": [
      "Epoch 474:\n"
     ]
    },
    {
     "name": "stderr",
     "output_type": "stream",
     "text": [
      " lr 0.000053\t: 100%|██████████| 494/494 [03:32<00:00,  2.32it/s, Transformer_Loss=0.17]  \n"
     ]
    },
    {
     "name": "stdout",
     "output_type": "stream",
     "text": [
      "Epoch 475:\n"
     ]
    },
    {
     "name": "stderr",
     "output_type": "stream",
     "text": [
      " lr 0.000053\t: 100%|██████████| 494/494 [03:32<00:00,  2.32it/s, Transformer_Loss=0.032] \n"
     ]
    },
    {
     "name": "stdout",
     "output_type": "stream",
     "text": [
      "Epoch 476:\n"
     ]
    },
    {
     "name": "stderr",
     "output_type": "stream",
     "text": [
      " lr 0.000053\t: 100%|██████████| 494/494 [03:33<00:00,  2.32it/s, Transformer_Loss=0.126] \n"
     ]
    },
    {
     "name": "stdout",
     "output_type": "stream",
     "text": [
      "Epoch 477:\n"
     ]
    },
    {
     "name": "stderr",
     "output_type": "stream",
     "text": [
      " lr 0.000053\t: 100%|██████████| 494/494 [03:32<00:00,  2.32it/s, Transformer_Loss=0.0814]\n"
     ]
    },
    {
     "name": "stdout",
     "output_type": "stream",
     "text": [
      "Epoch 478:\n"
     ]
    },
    {
     "name": "stderr",
     "output_type": "stream",
     "text": [
      " lr 0.000053\t: 100%|██████████| 494/494 [03:33<00:00,  2.32it/s, Transformer_Loss=0.0441]\n"
     ]
    },
    {
     "name": "stdout",
     "output_type": "stream",
     "text": [
      "Epoch 479:\n"
     ]
    },
    {
     "name": "stderr",
     "output_type": "stream",
     "text": [
      " lr 0.000053\t: 100%|██████████| 494/494 [03:32<00:00,  2.33it/s, Transformer_Loss=0.206] \n"
     ]
    },
    {
     "name": "stdout",
     "output_type": "stream",
     "text": [
      "Epoch 480:\n"
     ]
    },
    {
     "name": "stderr",
     "output_type": "stream",
     "text": [
      " lr 0.000053\t: 100%|██████████| 494/494 [03:33<00:00,  2.32it/s, Transformer_Loss=0.272] \n"
     ]
    },
    {
     "name": "stdout",
     "output_type": "stream",
     "text": [
      "Epoch 481:\n"
     ]
    },
    {
     "name": "stderr",
     "output_type": "stream",
     "text": [
      " lr 0.000053\t: 100%|██████████| 494/494 [03:32<00:00,  2.32it/s, Transformer_Loss=0.101] \n"
     ]
    },
    {
     "name": "stdout",
     "output_type": "stream",
     "text": [
      "Epoch 482:\n"
     ]
    },
    {
     "name": "stderr",
     "output_type": "stream",
     "text": [
      " lr 0.000053\t: 100%|██████████| 494/494 [03:32<00:00,  2.32it/s, Transformer_Loss=0.104] \n"
     ]
    },
    {
     "name": "stdout",
     "output_type": "stream",
     "text": [
      "Epoch 483:\n"
     ]
    },
    {
     "name": "stderr",
     "output_type": "stream",
     "text": [
      " lr 0.000052\t: 100%|██████████| 494/494 [03:32<00:00,  2.32it/s, Transformer_Loss=1.5]   \n"
     ]
    },
    {
     "name": "stdout",
     "output_type": "stream",
     "text": [
      "Epoch 484:\n"
     ]
    },
    {
     "name": "stderr",
     "output_type": "stream",
     "text": [
      " lr 0.000052\t: 100%|██████████| 494/494 [03:33<00:00,  2.32it/s, Transformer_Loss=0.837] \n"
     ]
    },
    {
     "name": "stdout",
     "output_type": "stream",
     "text": [
      "Epoch 485:\n"
     ]
    },
    {
     "name": "stderr",
     "output_type": "stream",
     "text": [
      " lr 0.000052\t: 100%|██████████| 494/494 [03:32<00:00,  2.32it/s, Transformer_Loss=0.365] \n"
     ]
    },
    {
     "name": "stdout",
     "output_type": "stream",
     "text": [
      "Epoch 486:\n"
     ]
    },
    {
     "name": "stderr",
     "output_type": "stream",
     "text": [
      " lr 0.000052\t: 100%|██████████| 494/494 [03:32<00:00,  2.32it/s, Transformer_Loss=0.0377]\n"
     ]
    },
    {
     "name": "stdout",
     "output_type": "stream",
     "text": [
      "Epoch 487:\n"
     ]
    },
    {
     "name": "stderr",
     "output_type": "stream",
     "text": [
      " lr 0.000052\t: 100%|██████████| 494/494 [03:32<00:00,  2.32it/s, Transformer_Loss=2.77]  \n"
     ]
    },
    {
     "name": "stdout",
     "output_type": "stream",
     "text": [
      "Epoch 488:\n"
     ]
    },
    {
     "name": "stderr",
     "output_type": "stream",
     "text": [
      " lr 0.000052\t: 100%|██████████| 494/494 [03:33<00:00,  2.32it/s, Transformer_Loss=0.814] \n"
     ]
    },
    {
     "name": "stdout",
     "output_type": "stream",
     "text": [
      "Epoch 489:\n"
     ]
    },
    {
     "name": "stderr",
     "output_type": "stream",
     "text": [
      " lr 0.000052\t: 100%|██████████| 494/494 [03:32<00:00,  2.32it/s, Transformer_Loss=2.72]  \n"
     ]
    },
    {
     "name": "stdout",
     "output_type": "stream",
     "text": [
      "Epoch 490:\n"
     ]
    },
    {
     "name": "stderr",
     "output_type": "stream",
     "text": [
      " lr 0.000052\t: 100%|██████████| 494/494 [03:32<00:00,  2.32it/s, Transformer_Loss=1.76]  \n"
     ]
    },
    {
     "name": "stdout",
     "output_type": "stream",
     "text": [
      "Epoch 491:\n"
     ]
    },
    {
     "name": "stderr",
     "output_type": "stream",
     "text": [
      " lr 0.000052\t: 100%|██████████| 494/494 [03:32<00:00,  2.32it/s, Transformer_Loss=0.0575]\n"
     ]
    },
    {
     "name": "stdout",
     "output_type": "stream",
     "text": [
      "Epoch 492:\n"
     ]
    },
    {
     "name": "stderr",
     "output_type": "stream",
     "text": [
      " lr 0.000052\t: 100%|██████████| 494/494 [03:33<00:00,  2.32it/s, Transformer_Loss=0.694] \n"
     ]
    },
    {
     "name": "stdout",
     "output_type": "stream",
     "text": [
      "Epoch 493:\n"
     ]
    },
    {
     "name": "stderr",
     "output_type": "stream",
     "text": [
      " lr 0.000051\t: 100%|██████████| 494/494 [03:32<00:00,  2.32it/s, Transformer_Loss=0.0376]\n"
     ]
    },
    {
     "name": "stdout",
     "output_type": "stream",
     "text": [
      "Epoch 494:\n"
     ]
    },
    {
     "name": "stderr",
     "output_type": "stream",
     "text": [
      " lr 0.000051\t: 100%|██████████| 494/494 [03:33<00:00,  2.32it/s, Transformer_Loss=1.72]  \n"
     ]
    },
    {
     "name": "stdout",
     "output_type": "stream",
     "text": [
      "Epoch 495:\n"
     ]
    },
    {
     "name": "stderr",
     "output_type": "stream",
     "text": [
      " lr 0.000051\t: 100%|██████████| 494/494 [03:32<00:00,  2.32it/s, Transformer_Loss=1.1]   \n"
     ]
    },
    {
     "name": "stdout",
     "output_type": "stream",
     "text": [
      "Epoch 496:\n"
     ]
    },
    {
     "name": "stderr",
     "output_type": "stream",
     "text": [
      " lr 0.000051\t: 100%|██████████| 494/494 [03:32<00:00,  2.32it/s, Transformer_Loss=0.22]  \n"
     ]
    },
    {
     "name": "stdout",
     "output_type": "stream",
     "text": [
      "Epoch 497:\n"
     ]
    },
    {
     "name": "stderr",
     "output_type": "stream",
     "text": [
      " lr 0.000051\t: 100%|██████████| 494/494 [03:32<00:00,  2.32it/s, Transformer_Loss=0.0379]\n"
     ]
    },
    {
     "name": "stdout",
     "output_type": "stream",
     "text": [
      "Epoch 498:\n"
     ]
    },
    {
     "name": "stderr",
     "output_type": "stream",
     "text": [
      " lr 0.000051\t: 100%|██████████| 494/494 [03:33<00:00,  2.32it/s, Transformer_Loss=0.822] \n"
     ]
    },
    {
     "name": "stdout",
     "output_type": "stream",
     "text": [
      "Epoch 499:\n"
     ]
    },
    {
     "name": "stderr",
     "output_type": "stream",
     "text": [
      " lr 0.000051\t: 100%|██████████| 494/494 [03:32<00:00,  2.32it/s, Transformer_Loss=0.18]  \n"
     ]
    },
    {
     "name": "stdout",
     "output_type": "stream",
     "text": [
      "Epoch 500:\n"
     ]
    },
    {
     "name": "stderr",
     "output_type": "stream",
     "text": [
      " lr 0.000051\t: 100%|██████████| 494/494 [03:33<00:00,  2.32it/s, Transformer_Loss=3.51]  \n"
     ]
    },
    {
     "name": "stdout",
     "output_type": "stream",
     "text": [
      "Epoch 501:\n"
     ]
    },
    {
     "name": "stderr",
     "output_type": "stream",
     "text": [
      " lr 0.000051\t: 100%|██████████| 494/494 [03:32<00:00,  2.32it/s, Transformer_Loss=3.21]  \n"
     ]
    },
    {
     "name": "stdout",
     "output_type": "stream",
     "text": [
      "Epoch 502:\n"
     ]
    },
    {
     "name": "stderr",
     "output_type": "stream",
     "text": [
      " lr 0.000051\t: 100%|██████████| 494/494 [03:32<00:00,  2.32it/s, Transformer_Loss=1.29]  \n"
     ]
    },
    {
     "name": "stdout",
     "output_type": "stream",
     "text": [
      "Epoch 503:\n"
     ]
    },
    {
     "name": "stderr",
     "output_type": "stream",
     "text": [
      " lr 0.000050\t: 100%|██████████| 494/494 [03:32<00:00,  2.32it/s, Transformer_Loss=0.256] \n"
     ]
    },
    {
     "name": "stdout",
     "output_type": "stream",
     "text": [
      "Epoch 504:\n"
     ]
    },
    {
     "name": "stderr",
     "output_type": "stream",
     "text": [
      " lr 0.000050\t: 100%|██████████| 494/494 [03:32<00:00,  2.32it/s, Transformer_Loss=1.14]  \n"
     ]
    },
    {
     "name": "stdout",
     "output_type": "stream",
     "text": [
      "Epoch 505:\n"
     ]
    },
    {
     "name": "stderr",
     "output_type": "stream",
     "text": [
      " lr 0.000050\t: 100%|██████████| 494/494 [03:33<00:00,  2.32it/s, Transformer_Loss=2.07]  \n"
     ]
    },
    {
     "name": "stdout",
     "output_type": "stream",
     "text": [
      "Epoch 506:\n"
     ]
    },
    {
     "name": "stderr",
     "output_type": "stream",
     "text": [
      " lr 0.000050\t: 100%|██████████| 494/494 [03:32<00:00,  2.32it/s, Transformer_Loss=1.21]  \n"
     ]
    },
    {
     "name": "stdout",
     "output_type": "stream",
     "text": [
      "Epoch 507:\n"
     ]
    },
    {
     "name": "stderr",
     "output_type": "stream",
     "text": [
      " lr 0.000050\t: 100%|██████████| 494/494 [03:32<00:00,  2.32it/s, Transformer_Loss=3.22]  \n"
     ]
    },
    {
     "name": "stdout",
     "output_type": "stream",
     "text": [
      "Epoch 508:\n"
     ]
    },
    {
     "name": "stderr",
     "output_type": "stream",
     "text": [
      " lr 0.000050\t: 100%|██████████| 494/494 [03:32<00:00,  2.32it/s, Transformer_Loss=2.85]  \n"
     ]
    },
    {
     "name": "stdout",
     "output_type": "stream",
     "text": [
      "Epoch 509:\n"
     ]
    },
    {
     "name": "stderr",
     "output_type": "stream",
     "text": [
      " lr 0.000050\t: 100%|██████████| 494/494 [03:33<00:00,  2.32it/s, Transformer_Loss=0.0507]\n"
     ]
    },
    {
     "name": "stdout",
     "output_type": "stream",
     "text": [
      "Epoch 510:\n"
     ]
    },
    {
     "name": "stderr",
     "output_type": "stream",
     "text": [
      " lr 0.000050\t: 100%|██████████| 494/494 [03:32<00:00,  2.32it/s, Transformer_Loss=0.445] \n"
     ]
    },
    {
     "name": "stdout",
     "output_type": "stream",
     "text": [
      "Epoch 511:\n"
     ]
    },
    {
     "name": "stderr",
     "output_type": "stream",
     "text": [
      " lr 0.000050\t: 100%|██████████| 494/494 [03:32<00:00,  2.32it/s, Transformer_Loss=1.65]  \n"
     ]
    },
    {
     "name": "stdout",
     "output_type": "stream",
     "text": [
      "Epoch 512:\n"
     ]
    },
    {
     "name": "stderr",
     "output_type": "stream",
     "text": [
      " lr 0.000049\t: 100%|██████████| 494/494 [03:32<00:00,  2.32it/s, Transformer_Loss=0.0788]\n"
     ]
    },
    {
     "name": "stdout",
     "output_type": "stream",
     "text": [
      "Epoch 513:\n"
     ]
    },
    {
     "name": "stderr",
     "output_type": "stream",
     "text": [
      " lr 0.000049\t: 100%|██████████| 494/494 [03:33<00:00,  2.32it/s, Transformer_Loss=2.76]  \n"
     ]
    },
    {
     "name": "stdout",
     "output_type": "stream",
     "text": [
      "Epoch 514:\n"
     ]
    },
    {
     "name": "stderr",
     "output_type": "stream",
     "text": [
      " lr 0.000049\t: 100%|██████████| 494/494 [03:32<00:00,  2.32it/s, Transformer_Loss=3.79]  \n"
     ]
    },
    {
     "name": "stdout",
     "output_type": "stream",
     "text": [
      "Epoch 515:\n"
     ]
    },
    {
     "name": "stderr",
     "output_type": "stream",
     "text": [
      " lr 0.000049\t: 100%|██████████| 494/494 [03:32<00:00,  2.32it/s, Transformer_Loss=1.18]  \n"
     ]
    },
    {
     "name": "stdout",
     "output_type": "stream",
     "text": [
      "Epoch 516:\n"
     ]
    },
    {
     "name": "stderr",
     "output_type": "stream",
     "text": [
      " lr 0.000049\t: 100%|██████████| 494/494 [03:32<00:00,  2.32it/s, Transformer_Loss=2.73]  \n"
     ]
    },
    {
     "name": "stdout",
     "output_type": "stream",
     "text": [
      "Epoch 517:\n"
     ]
    },
    {
     "name": "stderr",
     "output_type": "stream",
     "text": [
      " lr 0.000049\t: 100%|██████████| 494/494 [03:32<00:00,  2.32it/s, Transformer_Loss=4]     \n"
     ]
    },
    {
     "name": "stdout",
     "output_type": "stream",
     "text": [
      "Epoch 518:\n"
     ]
    },
    {
     "name": "stderr",
     "output_type": "stream",
     "text": [
      " lr 0.000049\t: 100%|██████████| 494/494 [03:32<00:00,  2.32it/s, Transformer_Loss=0.0324]\n"
     ]
    },
    {
     "name": "stdout",
     "output_type": "stream",
     "text": [
      "Epoch 519:\n"
     ]
    },
    {
     "name": "stderr",
     "output_type": "stream",
     "text": [
      " lr 0.000049\t: 100%|██████████| 494/494 [03:33<00:00,  2.32it/s, Transformer_Loss=1.31]  \n"
     ]
    },
    {
     "name": "stdout",
     "output_type": "stream",
     "text": [
      "Epoch 520:\n"
     ]
    },
    {
     "name": "stderr",
     "output_type": "stream",
     "text": [
      " lr 0.000049\t: 100%|██████████| 494/494 [03:32<00:00,  2.33it/s, Transformer_Loss=2.78]  \n"
     ]
    },
    {
     "name": "stdout",
     "output_type": "stream",
     "text": [
      "Epoch 521:\n"
     ]
    },
    {
     "name": "stderr",
     "output_type": "stream",
     "text": [
      " lr 0.000049\t: 100%|██████████| 494/494 [03:32<00:00,  2.32it/s, Transformer_Loss=0.674] \n"
     ]
    },
    {
     "name": "stdout",
     "output_type": "stream",
     "text": [
      "Epoch 522:\n"
     ]
    },
    {
     "name": "stderr",
     "output_type": "stream",
     "text": [
      " lr 0.000048\t: 100%|██████████| 494/494 [03:32<00:00,  2.32it/s, Transformer_Loss=1.21]  \n"
     ]
    },
    {
     "name": "stdout",
     "output_type": "stream",
     "text": [
      "Epoch 523:\n"
     ]
    },
    {
     "name": "stderr",
     "output_type": "stream",
     "text": [
      " lr 0.000048\t: 100%|██████████| 494/494 [03:33<00:00,  2.32it/s, Transformer_Loss=1.85]  \n"
     ]
    },
    {
     "name": "stdout",
     "output_type": "stream",
     "text": [
      "Epoch 524:\n"
     ]
    },
    {
     "name": "stderr",
     "output_type": "stream",
     "text": [
      " lr 0.000048\t: 100%|██████████| 494/494 [03:32<00:00,  2.32it/s, Transformer_Loss=0.964] \n"
     ]
    },
    {
     "name": "stdout",
     "output_type": "stream",
     "text": [
      "Epoch 525:\n"
     ]
    },
    {
     "name": "stderr",
     "output_type": "stream",
     "text": [
      " lr 0.000048\t: 100%|██████████| 494/494 [03:32<00:00,  2.32it/s, Transformer_Loss=4.31]  \n"
     ]
    },
    {
     "name": "stdout",
     "output_type": "stream",
     "text": [
      "Epoch 526:\n"
     ]
    },
    {
     "name": "stderr",
     "output_type": "stream",
     "text": [
      " lr 0.000048\t: 100%|██████████| 494/494 [03:32<00:00,  2.32it/s, Transformer_Loss=0.16]  \n"
     ]
    },
    {
     "name": "stdout",
     "output_type": "stream",
     "text": [
      "Epoch 527:\n"
     ]
    },
    {
     "name": "stderr",
     "output_type": "stream",
     "text": [
      " lr 0.000048\t: 100%|██████████| 494/494 [03:32<00:00,  2.32it/s, Transformer_Loss=2.42]  \n"
     ]
    },
    {
     "name": "stdout",
     "output_type": "stream",
     "text": [
      "Epoch 528:\n"
     ]
    },
    {
     "name": "stderr",
     "output_type": "stream",
     "text": [
      " lr 0.000048\t: 100%|██████████| 494/494 [03:32<00:00,  2.32it/s, Transformer_Loss=2.03]  \n"
     ]
    },
    {
     "name": "stdout",
     "output_type": "stream",
     "text": [
      "Epoch 529:\n"
     ]
    },
    {
     "name": "stderr",
     "output_type": "stream",
     "text": [
      " lr 0.000048\t: 100%|██████████| 494/494 [03:32<00:00,  2.32it/s, Transformer_Loss=0.103] \n"
     ]
    },
    {
     "name": "stdout",
     "output_type": "stream",
     "text": [
      "Epoch 530:\n"
     ]
    },
    {
     "name": "stderr",
     "output_type": "stream",
     "text": [
      " lr 0.000048\t: 100%|██████████| 494/494 [03:32<00:00,  2.32it/s, Transformer_Loss=3.13]  \n"
     ]
    },
    {
     "name": "stdout",
     "output_type": "stream",
     "text": [
      "Epoch 531:\n"
     ]
    },
    {
     "name": "stderr",
     "output_type": "stream",
     "text": [
      " lr 0.000048\t: 100%|██████████| 494/494 [03:32<00:00,  2.32it/s, Transformer_Loss=0.661] \n"
     ]
    },
    {
     "name": "stdout",
     "output_type": "stream",
     "text": [
      "Epoch 532:\n"
     ]
    },
    {
     "name": "stderr",
     "output_type": "stream",
     "text": [
      " lr 0.000047\t: 100%|██████████| 494/494 [03:32<00:00,  2.32it/s, Transformer_Loss=2.89]  \n"
     ]
    },
    {
     "name": "stdout",
     "output_type": "stream",
     "text": [
      "Epoch 533:\n"
     ]
    },
    {
     "name": "stderr",
     "output_type": "stream",
     "text": [
      " lr 0.000047\t: 100%|██████████| 494/494 [03:32<00:00,  2.32it/s, Transformer_Loss=0.553] \n"
     ]
    },
    {
     "name": "stdout",
     "output_type": "stream",
     "text": [
      "Epoch 534:\n"
     ]
    },
    {
     "name": "stderr",
     "output_type": "stream",
     "text": [
      " lr 0.000047\t: 100%|██████████| 494/494 [03:32<00:00,  2.33it/s, Transformer_Loss=2.69]  \n"
     ]
    },
    {
     "name": "stdout",
     "output_type": "stream",
     "text": [
      "Epoch 535:\n"
     ]
    },
    {
     "name": "stderr",
     "output_type": "stream",
     "text": [
      " lr 0.000047\t: 100%|██████████| 494/494 [03:32<00:00,  2.32it/s, Transformer_Loss=1.64]  \n"
     ]
    },
    {
     "name": "stdout",
     "output_type": "stream",
     "text": [
      "Epoch 536:\n"
     ]
    },
    {
     "name": "stderr",
     "output_type": "stream",
     "text": [
      " lr 0.000047\t: 100%|██████████| 494/494 [03:32<00:00,  2.32it/s, Transformer_Loss=0.0635]\n"
     ]
    },
    {
     "name": "stdout",
     "output_type": "stream",
     "text": [
      "Epoch 537:\n"
     ]
    },
    {
     "name": "stderr",
     "output_type": "stream",
     "text": [
      " lr 0.000047\t: 100%|██████████| 494/494 [03:32<00:00,  2.32it/s, Transformer_Loss=0.594] \n"
     ]
    },
    {
     "name": "stdout",
     "output_type": "stream",
     "text": [
      "Epoch 538:\n"
     ]
    },
    {
     "name": "stderr",
     "output_type": "stream",
     "text": [
      " lr 0.000047\t: 100%|██████████| 494/494 [03:32<00:00,  2.33it/s, Transformer_Loss=0.548] \n"
     ]
    },
    {
     "name": "stdout",
     "output_type": "stream",
     "text": [
      "Epoch 539:\n"
     ]
    },
    {
     "name": "stderr",
     "output_type": "stream",
     "text": [
      " lr 0.000047\t: 100%|██████████| 494/494 [03:32<00:00,  2.32it/s, Transformer_Loss=0.0429]\n"
     ]
    },
    {
     "name": "stdout",
     "output_type": "stream",
     "text": [
      "Epoch 540:\n"
     ]
    },
    {
     "name": "stderr",
     "output_type": "stream",
     "text": [
      " lr 0.000047\t: 100%|██████████| 494/494 [03:32<00:00,  2.32it/s, Transformer_Loss=0.753] \n"
     ]
    },
    {
     "name": "stdout",
     "output_type": "stream",
     "text": [
      "Epoch 541:\n"
     ]
    },
    {
     "name": "stderr",
     "output_type": "stream",
     "text": [
      " lr 0.000047\t: 100%|██████████| 494/494 [03:32<00:00,  2.32it/s, Transformer_Loss=2.53]  \n"
     ]
    },
    {
     "name": "stdout",
     "output_type": "stream",
     "text": [
      "Epoch 542:\n"
     ]
    },
    {
     "name": "stderr",
     "output_type": "stream",
     "text": [
      " lr 0.000046\t: 100%|██████████| 494/494 [03:32<00:00,  2.33it/s, Transformer_Loss=0.575] \n"
     ]
    },
    {
     "name": "stdout",
     "output_type": "stream",
     "text": [
      "Epoch 543:\n"
     ]
    },
    {
     "name": "stderr",
     "output_type": "stream",
     "text": [
      " lr 0.000046\t: 100%|██████████| 494/494 [03:32<00:00,  2.32it/s, Transformer_Loss=2.39]  \n"
     ]
    },
    {
     "name": "stdout",
     "output_type": "stream",
     "text": [
      "Epoch 544:\n"
     ]
    },
    {
     "name": "stderr",
     "output_type": "stream",
     "text": [
      " lr 0.000046\t: 100%|██████████| 494/494 [03:32<00:00,  2.33it/s, Transformer_Loss=0.948] \n"
     ]
    },
    {
     "name": "stdout",
     "output_type": "stream",
     "text": [
      "Epoch 545:\n"
     ]
    },
    {
     "name": "stderr",
     "output_type": "stream",
     "text": [
      " lr 0.000046\t: 100%|██████████| 494/494 [03:32<00:00,  2.33it/s, Transformer_Loss=1.65]  \n"
     ]
    },
    {
     "name": "stdout",
     "output_type": "stream",
     "text": [
      "Epoch 546:\n"
     ]
    },
    {
     "name": "stderr",
     "output_type": "stream",
     "text": [
      " lr 0.000046\t: 100%|██████████| 494/494 [03:32<00:00,  2.33it/s, Transformer_Loss=0.279] \n"
     ]
    },
    {
     "name": "stdout",
     "output_type": "stream",
     "text": [
      "Epoch 547:\n"
     ]
    },
    {
     "name": "stderr",
     "output_type": "stream",
     "text": [
      " lr 0.000046\t: 100%|██████████| 494/494 [03:32<00:00,  2.32it/s, Transformer_Loss=1.61]  \n"
     ]
    },
    {
     "name": "stdout",
     "output_type": "stream",
     "text": [
      "Epoch 548:\n"
     ]
    },
    {
     "name": "stderr",
     "output_type": "stream",
     "text": [
      " lr 0.000046\t: 100%|██████████| 494/494 [03:32<00:00,  2.32it/s, Transformer_Loss=1.04]  \n"
     ]
    },
    {
     "name": "stdout",
     "output_type": "stream",
     "text": [
      "Epoch 549:\n"
     ]
    },
    {
     "name": "stderr",
     "output_type": "stream",
     "text": [
      " lr 0.000046\t: 100%|██████████| 494/494 [03:32<00:00,  2.33it/s, Transformer_Loss=2.71]  \n"
     ]
    },
    {
     "name": "stdout",
     "output_type": "stream",
     "text": [
      "Epoch 550:\n"
     ]
    },
    {
     "name": "stderr",
     "output_type": "stream",
     "text": [
      " lr 0.000046\t: 100%|██████████| 494/494 [03:32<00:00,  2.33it/s, Transformer_Loss=2.47]  \n"
     ]
    },
    {
     "name": "stdout",
     "output_type": "stream",
     "text": [
      "Epoch 551:\n"
     ]
    },
    {
     "name": "stderr",
     "output_type": "stream",
     "text": [
      " lr 0.000046\t: 100%|██████████| 494/494 [03:32<00:00,  2.32it/s, Transformer_Loss=2.27]  \n"
     ]
    },
    {
     "name": "stdout",
     "output_type": "stream",
     "text": [
      "Epoch 552:\n"
     ]
    },
    {
     "name": "stderr",
     "output_type": "stream",
     "text": [
      " lr 0.000045\t: 100%|██████████| 494/494 [03:33<00:00,  2.32it/s, Transformer_Loss=0.922] \n"
     ]
    },
    {
     "name": "stdout",
     "output_type": "stream",
     "text": [
      "Epoch 553:\n"
     ]
    },
    {
     "name": "stderr",
     "output_type": "stream",
     "text": [
      " lr 0.000045\t: 100%|██████████| 494/494 [03:32<00:00,  2.32it/s, Transformer_Loss=1.31]  \n"
     ]
    },
    {
     "name": "stdout",
     "output_type": "stream",
     "text": [
      "Epoch 554:\n"
     ]
    },
    {
     "name": "stderr",
     "output_type": "stream",
     "text": [
      " lr 0.000045\t: 100%|██████████| 494/494 [03:32<00:00,  2.33it/s, Transformer_Loss=1.72]  \n"
     ]
    },
    {
     "name": "stdout",
     "output_type": "stream",
     "text": [
      "Epoch 555:\n"
     ]
    },
    {
     "name": "stderr",
     "output_type": "stream",
     "text": [
      " lr 0.000045\t: 100%|██████████| 494/494 [03:32<00:00,  2.33it/s, Transformer_Loss=0.346] \n"
     ]
    },
    {
     "name": "stdout",
     "output_type": "stream",
     "text": [
      "Epoch 556:\n"
     ]
    },
    {
     "name": "stderr",
     "output_type": "stream",
     "text": [
      " lr 0.000045\t: 100%|██████████| 494/494 [03:32<00:00,  2.32it/s, Transformer_Loss=0.559] \n"
     ]
    },
    {
     "name": "stdout",
     "output_type": "stream",
     "text": [
      "Epoch 557:\n"
     ]
    },
    {
     "name": "stderr",
     "output_type": "stream",
     "text": [
      " lr 0.000045\t: 100%|██████████| 494/494 [03:33<00:00,  2.31it/s, Transformer_Loss=0.95]  \n"
     ]
    },
    {
     "name": "stdout",
     "output_type": "stream",
     "text": [
      "Epoch 558:\n"
     ]
    },
    {
     "name": "stderr",
     "output_type": "stream",
     "text": [
      " lr 0.000045\t: 100%|██████████| 494/494 [03:33<00:00,  2.31it/s, Transformer_Loss=2.69]  \n"
     ]
    },
    {
     "name": "stdout",
     "output_type": "stream",
     "text": [
      "Epoch 559:\n"
     ]
    },
    {
     "name": "stderr",
     "output_type": "stream",
     "text": [
      " lr 0.000045\t: 100%|██████████| 494/494 [03:33<00:00,  2.32it/s, Transformer_Loss=2.91]  \n"
     ]
    },
    {
     "name": "stdout",
     "output_type": "stream",
     "text": [
      "Epoch 560:\n"
     ]
    },
    {
     "name": "stderr",
     "output_type": "stream",
     "text": [
      " lr 0.000045\t: 100%|██████████| 494/494 [03:32<00:00,  2.32it/s, Transformer_Loss=0.77]  \n"
     ]
    },
    {
     "name": "stdout",
     "output_type": "stream",
     "text": [
      "Epoch 561:\n"
     ]
    },
    {
     "name": "stderr",
     "output_type": "stream",
     "text": [
      " lr 0.000045\t: 100%|██████████| 494/494 [03:33<00:00,  2.31it/s, Transformer_Loss=1.39]  \n"
     ]
    },
    {
     "name": "stdout",
     "output_type": "stream",
     "text": [
      "Epoch 562:\n"
     ]
    },
    {
     "name": "stderr",
     "output_type": "stream",
     "text": [
      " lr 0.000044\t: 100%|██████████| 494/494 [03:33<00:00,  2.32it/s, Transformer_Loss=1.11]  \n"
     ]
    },
    {
     "name": "stdout",
     "output_type": "stream",
     "text": [
      "Epoch 563:\n"
     ]
    },
    {
     "name": "stderr",
     "output_type": "stream",
     "text": [
      " lr 0.000044\t: 100%|██████████| 494/494 [03:33<00:00,  2.32it/s, Transformer_Loss=0.179] \n"
     ]
    },
    {
     "name": "stdout",
     "output_type": "stream",
     "text": [
      "Epoch 564:\n"
     ]
    },
    {
     "name": "stderr",
     "output_type": "stream",
     "text": [
      " lr 0.000044\t: 100%|██████████| 494/494 [03:32<00:00,  2.32it/s, Transformer_Loss=0.0634]\n"
     ]
    },
    {
     "name": "stdout",
     "output_type": "stream",
     "text": [
      "Epoch 565:\n"
     ]
    },
    {
     "name": "stderr",
     "output_type": "stream",
     "text": [
      " lr 0.000044\t: 100%|██████████| 494/494 [03:33<00:00,  2.32it/s, Transformer_Loss=1.76]  \n"
     ]
    },
    {
     "name": "stdout",
     "output_type": "stream",
     "text": [
      "Epoch 566:\n"
     ]
    },
    {
     "name": "stderr",
     "output_type": "stream",
     "text": [
      " lr 0.000044\t: 100%|██████████| 494/494 [03:32<00:00,  2.32it/s, Transformer_Loss=0.154] \n"
     ]
    },
    {
     "name": "stdout",
     "output_type": "stream",
     "text": [
      "Epoch 567:\n"
     ]
    },
    {
     "name": "stderr",
     "output_type": "stream",
     "text": [
      " lr 0.000044\t: 100%|██████████| 494/494 [03:32<00:00,  2.32it/s, Transformer_Loss=0.25]  \n"
     ]
    },
    {
     "name": "stdout",
     "output_type": "stream",
     "text": [
      "Epoch 568:\n"
     ]
    },
    {
     "name": "stderr",
     "output_type": "stream",
     "text": [
      " lr 0.000044\t: 100%|██████████| 494/494 [03:32<00:00,  2.32it/s, Transformer_Loss=1.1]   \n"
     ]
    },
    {
     "name": "stdout",
     "output_type": "stream",
     "text": [
      "Epoch 569:\n"
     ]
    },
    {
     "name": "stderr",
     "output_type": "stream",
     "text": [
      " lr 0.000044\t: 100%|██████████| 494/494 [03:32<00:00,  2.32it/s, Transformer_Loss=0.253] \n"
     ]
    },
    {
     "name": "stdout",
     "output_type": "stream",
     "text": [
      "Epoch 570:\n"
     ]
    },
    {
     "name": "stderr",
     "output_type": "stream",
     "text": [
      " lr 0.000044\t: 100%|██████████| 494/494 [03:32<00:00,  2.33it/s, Transformer_Loss=2.29]  \n"
     ]
    },
    {
     "name": "stdout",
     "output_type": "stream",
     "text": [
      "Epoch 571:\n"
     ]
    },
    {
     "name": "stderr",
     "output_type": "stream",
     "text": [
      " lr 0.000044\t: 100%|██████████| 494/494 [03:32<00:00,  2.32it/s, Transformer_Loss=0.2]   \n"
     ]
    },
    {
     "name": "stdout",
     "output_type": "stream",
     "text": [
      "Epoch 572:\n"
     ]
    },
    {
     "name": "stderr",
     "output_type": "stream",
     "text": [
      " lr 0.000043\t: 100%|██████████| 494/494 [03:32<00:00,  2.32it/s, Transformer_Loss=0.145] \n"
     ]
    },
    {
     "name": "stdout",
     "output_type": "stream",
     "text": [
      "Epoch 573:\n"
     ]
    },
    {
     "name": "stderr",
     "output_type": "stream",
     "text": [
      " lr 0.000043\t: 100%|██████████| 494/494 [03:32<00:00,  2.32it/s, Transformer_Loss=1.29]  \n"
     ]
    },
    {
     "name": "stdout",
     "output_type": "stream",
     "text": [
      "Epoch 574:\n"
     ]
    },
    {
     "name": "stderr",
     "output_type": "stream",
     "text": [
      " lr 0.000043\t: 100%|██████████| 494/494 [03:32<00:00,  2.33it/s, Transformer_Loss=1.06]  \n"
     ]
    },
    {
     "name": "stdout",
     "output_type": "stream",
     "text": [
      "Epoch 575:\n"
     ]
    },
    {
     "name": "stderr",
     "output_type": "stream",
     "text": [
      " lr 0.000043\t: 100%|██████████| 494/494 [03:33<00:00,  2.32it/s, Transformer_Loss=0.856] \n"
     ]
    },
    {
     "name": "stdout",
     "output_type": "stream",
     "text": [
      "Epoch 576:\n"
     ]
    },
    {
     "name": "stderr",
     "output_type": "stream",
     "text": [
      " lr 0.000043\t: 100%|██████████| 494/494 [03:32<00:00,  2.32it/s, Transformer_Loss=0.558] \n"
     ]
    },
    {
     "name": "stdout",
     "output_type": "stream",
     "text": [
      "Epoch 577:\n"
     ]
    },
    {
     "name": "stderr",
     "output_type": "stream",
     "text": [
      " lr 0.000043\t: 100%|██████████| 494/494 [03:31<00:00,  2.33it/s, Transformer_Loss=2.3]   \n"
     ]
    },
    {
     "name": "stdout",
     "output_type": "stream",
     "text": [
      "Epoch 578:\n"
     ]
    },
    {
     "name": "stderr",
     "output_type": "stream",
     "text": [
      " lr 0.000043\t: 100%|██████████| 494/494 [03:31<00:00,  2.33it/s, Transformer_Loss=1.73]  \n"
     ]
    },
    {
     "name": "stdout",
     "output_type": "stream",
     "text": [
      "Epoch 579:\n"
     ]
    },
    {
     "name": "stderr",
     "output_type": "stream",
     "text": [
      " lr 0.000043\t: 100%|██████████| 494/494 [03:32<00:00,  2.33it/s, Transformer_Loss=1.9]   \n"
     ]
    },
    {
     "name": "stdout",
     "output_type": "stream",
     "text": [
      "Epoch 580:\n"
     ]
    },
    {
     "name": "stderr",
     "output_type": "stream",
     "text": [
      " lr 0.000043\t: 100%|██████████| 494/494 [03:32<00:00,  2.32it/s, Transformer_Loss=0.0511]\n"
     ]
    },
    {
     "name": "stdout",
     "output_type": "stream",
     "text": [
      "Epoch 581:\n"
     ]
    },
    {
     "name": "stderr",
     "output_type": "stream",
     "text": [
      " lr 0.000043\t: 100%|██████████| 494/494 [03:32<00:00,  2.32it/s, Transformer_Loss=1.47]  \n"
     ]
    },
    {
     "name": "stdout",
     "output_type": "stream",
     "text": [
      "Epoch 582:\n"
     ]
    },
    {
     "name": "stderr",
     "output_type": "stream",
     "text": [
      " lr 0.000042\t: 100%|██████████| 494/494 [03:32<00:00,  2.33it/s, Transformer_Loss=0.193] \n"
     ]
    },
    {
     "name": "stdout",
     "output_type": "stream",
     "text": [
      "Epoch 583:\n"
     ]
    },
    {
     "name": "stderr",
     "output_type": "stream",
     "text": [
      " lr 0.000042\t: 100%|██████████| 494/494 [03:32<00:00,  2.33it/s, Transformer_Loss=0.0363]\n"
     ]
    },
    {
     "name": "stdout",
     "output_type": "stream",
     "text": [
      "Epoch 584:\n"
     ]
    },
    {
     "name": "stderr",
     "output_type": "stream",
     "text": [
      " lr 0.000042\t: 100%|██████████| 494/494 [03:32<00:00,  2.33it/s, Transformer_Loss=4.02]  \n"
     ]
    },
    {
     "name": "stdout",
     "output_type": "stream",
     "text": [
      "Epoch 585:\n"
     ]
    },
    {
     "name": "stderr",
     "output_type": "stream",
     "text": [
      " lr 0.000042\t: 100%|██████████| 494/494 [03:32<00:00,  2.32it/s, Transformer_Loss=1.48]  \n"
     ]
    },
    {
     "name": "stdout",
     "output_type": "stream",
     "text": [
      "Epoch 586:\n"
     ]
    },
    {
     "name": "stderr",
     "output_type": "stream",
     "text": [
      " lr 0.000042\t: 100%|██████████| 494/494 [03:32<00:00,  2.32it/s, Transformer_Loss=0.205] \n"
     ]
    },
    {
     "name": "stdout",
     "output_type": "stream",
     "text": [
      "Epoch 587:\n"
     ]
    },
    {
     "name": "stderr",
     "output_type": "stream",
     "text": [
      " lr 0.000042\t: 100%|██████████| 494/494 [03:31<00:00,  2.33it/s, Transformer_Loss=0.961] \n"
     ]
    },
    {
     "name": "stdout",
     "output_type": "stream",
     "text": [
      "Epoch 588:\n"
     ]
    },
    {
     "name": "stderr",
     "output_type": "stream",
     "text": [
      " lr 0.000042\t: 100%|██████████| 494/494 [03:32<00:00,  2.32it/s, Transformer_Loss=0.0371]\n"
     ]
    },
    {
     "name": "stdout",
     "output_type": "stream",
     "text": [
      "Epoch 589:\n"
     ]
    },
    {
     "name": "stderr",
     "output_type": "stream",
     "text": [
      " lr 0.000042\t: 100%|██████████| 494/494 [03:32<00:00,  2.33it/s, Transformer_Loss=0.0946]\n"
     ]
    },
    {
     "name": "stdout",
     "output_type": "stream",
     "text": [
      "Epoch 590:\n"
     ]
    },
    {
     "name": "stderr",
     "output_type": "stream",
     "text": [
      " lr 0.000042\t: 100%|██████████| 494/494 [03:32<00:00,  2.32it/s, Transformer_Loss=2.01]  \n"
     ]
    },
    {
     "name": "stdout",
     "output_type": "stream",
     "text": [
      "Epoch 591:\n"
     ]
    },
    {
     "name": "stderr",
     "output_type": "stream",
     "text": [
      " lr 0.000042\t: 100%|██████████| 494/494 [03:32<00:00,  2.33it/s, Transformer_Loss=2.77]  \n"
     ]
    },
    {
     "name": "stdout",
     "output_type": "stream",
     "text": [
      "Epoch 592:\n"
     ]
    },
    {
     "name": "stderr",
     "output_type": "stream",
     "text": [
      " lr 0.000041\t: 100%|██████████| 494/494 [03:32<00:00,  2.32it/s, Transformer_Loss=0.946] \n"
     ]
    },
    {
     "name": "stdout",
     "output_type": "stream",
     "text": [
      "Epoch 593:\n"
     ]
    },
    {
     "name": "stderr",
     "output_type": "stream",
     "text": [
      " lr 0.000041\t: 100%|██████████| 494/494 [03:32<00:00,  2.33it/s, Transformer_Loss=3.43]  \n"
     ]
    },
    {
     "name": "stdout",
     "output_type": "stream",
     "text": [
      "Epoch 594:\n"
     ]
    },
    {
     "name": "stderr",
     "output_type": "stream",
     "text": [
      " lr 0.000041\t: 100%|██████████| 494/494 [03:32<00:00,  2.33it/s, Transformer_Loss=0.696] \n"
     ]
    },
    {
     "name": "stdout",
     "output_type": "stream",
     "text": [
      "Epoch 595:\n"
     ]
    },
    {
     "name": "stderr",
     "output_type": "stream",
     "text": [
      " lr 0.000041\t: 100%|██████████| 494/494 [03:32<00:00,  2.33it/s, Transformer_Loss=0.351] \n"
     ]
    },
    {
     "name": "stdout",
     "output_type": "stream",
     "text": [
      "Epoch 596:\n"
     ]
    },
    {
     "name": "stderr",
     "output_type": "stream",
     "text": [
      " lr 0.000041\t: 100%|██████████| 494/494 [03:32<00:00,  2.33it/s, Transformer_Loss=1.1]   \n"
     ]
    },
    {
     "name": "stdout",
     "output_type": "stream",
     "text": [
      "Epoch 597:\n"
     ]
    },
    {
     "name": "stderr",
     "output_type": "stream",
     "text": [
      " lr 0.000041\t: 100%|██████████| 494/494 [03:32<00:00,  2.33it/s, Transformer_Loss=1.76]  \n"
     ]
    },
    {
     "name": "stdout",
     "output_type": "stream",
     "text": [
      "Epoch 598:\n"
     ]
    },
    {
     "name": "stderr",
     "output_type": "stream",
     "text": [
      " lr 0.000041\t: 100%|██████████| 494/494 [03:32<00:00,  2.32it/s, Transformer_Loss=0.414] \n"
     ]
    },
    {
     "name": "stdout",
     "output_type": "stream",
     "text": [
      "Epoch 599:\n"
     ]
    },
    {
     "name": "stderr",
     "output_type": "stream",
     "text": [
      " lr 0.000041\t: 100%|██████████| 494/494 [03:32<00:00,  2.33it/s, Transformer_Loss=0.0411]\n"
     ]
    },
    {
     "name": "stdout",
     "output_type": "stream",
     "text": [
      "Epoch 600:\n"
     ]
    },
    {
     "name": "stderr",
     "output_type": "stream",
     "text": [
      " lr 0.000041\t: 100%|██████████| 494/494 [03:32<00:00,  2.32it/s, Transformer_Loss=0.652] \n"
     ]
    },
    {
     "name": "stdout",
     "output_type": "stream",
     "text": [
      "Epoch 601:\n"
     ]
    },
    {
     "name": "stderr",
     "output_type": "stream",
     "text": [
      " lr 0.000041\t: 100%|██████████| 494/494 [03:32<00:00,  2.33it/s, Transformer_Loss=0.213] \n"
     ]
    },
    {
     "name": "stdout",
     "output_type": "stream",
     "text": [
      "Epoch 602:\n"
     ]
    },
    {
     "name": "stderr",
     "output_type": "stream",
     "text": [
      " lr 0.000040\t: 100%|██████████| 494/494 [03:32<00:00,  2.32it/s, Transformer_Loss=0.372] \n"
     ]
    },
    {
     "name": "stdout",
     "output_type": "stream",
     "text": [
      "Epoch 603:\n"
     ]
    },
    {
     "name": "stderr",
     "output_type": "stream",
     "text": [
      " lr 0.000040\t: 100%|██████████| 494/494 [03:32<00:00,  2.33it/s, Transformer_Loss=2.58]  \n"
     ]
    },
    {
     "name": "stdout",
     "output_type": "stream",
     "text": [
      "Epoch 604:\n"
     ]
    },
    {
     "name": "stderr",
     "output_type": "stream",
     "text": [
      " lr 0.000040\t: 100%|██████████| 494/494 [03:32<00:00,  2.32it/s, Transformer_Loss=0.159] \n"
     ]
    },
    {
     "name": "stdout",
     "output_type": "stream",
     "text": [
      "Epoch 605:\n"
     ]
    },
    {
     "name": "stderr",
     "output_type": "stream",
     "text": [
      " lr 0.000040\t: 100%|██████████| 494/494 [03:32<00:00,  2.33it/s, Transformer_Loss=1.49]  \n"
     ]
    },
    {
     "name": "stdout",
     "output_type": "stream",
     "text": [
      "Epoch 606:\n"
     ]
    },
    {
     "name": "stderr",
     "output_type": "stream",
     "text": [
      " lr 0.000040\t: 100%|██████████| 494/494 [03:32<00:00,  2.32it/s, Transformer_Loss=0.523] \n"
     ]
    },
    {
     "name": "stdout",
     "output_type": "stream",
     "text": [
      "Epoch 607:\n"
     ]
    },
    {
     "name": "stderr",
     "output_type": "stream",
     "text": [
      " lr 0.000040\t: 100%|██████████| 494/494 [03:32<00:00,  2.33it/s, Transformer_Loss=1.72]  \n"
     ]
    },
    {
     "name": "stdout",
     "output_type": "stream",
     "text": [
      "Epoch 608:\n"
     ]
    },
    {
     "name": "stderr",
     "output_type": "stream",
     "text": [
      " lr 0.000040\t: 100%|██████████| 494/494 [03:33<00:00,  2.32it/s, Transformer_Loss=0.125] \n"
     ]
    },
    {
     "name": "stdout",
     "output_type": "stream",
     "text": [
      "Epoch 609:\n"
     ]
    },
    {
     "name": "stderr",
     "output_type": "stream",
     "text": [
      " lr 0.000040\t: 100%|██████████| 494/494 [03:32<00:00,  2.32it/s, Transformer_Loss=2.05]  \n"
     ]
    },
    {
     "name": "stdout",
     "output_type": "stream",
     "text": [
      "Epoch 610:\n"
     ]
    },
    {
     "name": "stderr",
     "output_type": "stream",
     "text": [
      " lr 0.000040\t: 100%|██████████| 494/494 [03:32<00:00,  2.32it/s, Transformer_Loss=0.0465]\n"
     ]
    },
    {
     "name": "stdout",
     "output_type": "stream",
     "text": [
      "Epoch 611:\n"
     ]
    },
    {
     "name": "stderr",
     "output_type": "stream",
     "text": [
      " lr 0.000039\t: 100%|██████████| 494/494 [03:32<00:00,  2.33it/s, Transformer_Loss=0.687] \n"
     ]
    },
    {
     "name": "stdout",
     "output_type": "stream",
     "text": [
      "Epoch 612:\n"
     ]
    },
    {
     "name": "stderr",
     "output_type": "stream",
     "text": [
      " lr 0.000039\t: 100%|██████████| 494/494 [03:33<00:00,  2.32it/s, Transformer_Loss=0.032] \n"
     ]
    },
    {
     "name": "stdout",
     "output_type": "stream",
     "text": [
      "Epoch 613:\n"
     ]
    },
    {
     "name": "stderr",
     "output_type": "stream",
     "text": [
      " lr 0.000039\t: 100%|██████████| 494/494 [03:33<00:00,  2.32it/s, Transformer_Loss=0.733] \n"
     ]
    },
    {
     "name": "stdout",
     "output_type": "stream",
     "text": [
      "Epoch 614:\n"
     ]
    },
    {
     "name": "stderr",
     "output_type": "stream",
     "text": [
      " lr 0.000039\t: 100%|██████████| 494/494 [03:33<00:00,  2.32it/s, Transformer_Loss=0.0747]\n"
     ]
    },
    {
     "name": "stdout",
     "output_type": "stream",
     "text": [
      "Epoch 615:\n"
     ]
    },
    {
     "name": "stderr",
     "output_type": "stream",
     "text": [
      " lr 0.000039\t: 100%|██████████| 494/494 [03:33<00:00,  2.32it/s, Transformer_Loss=0.0481]\n"
     ]
    },
    {
     "name": "stdout",
     "output_type": "stream",
     "text": [
      "Epoch 616:\n"
     ]
    },
    {
     "name": "stderr",
     "output_type": "stream",
     "text": [
      " lr 0.000039\t: 100%|██████████| 494/494 [03:33<00:00,  2.32it/s, Transformer_Loss=0.302] \n"
     ]
    },
    {
     "name": "stdout",
     "output_type": "stream",
     "text": [
      "Epoch 617:\n"
     ]
    },
    {
     "name": "stderr",
     "output_type": "stream",
     "text": [
      " lr 0.000039\t: 100%|██████████| 494/494 [03:32<00:00,  2.32it/s, Transformer_Loss=0.735] \n"
     ]
    },
    {
     "name": "stdout",
     "output_type": "stream",
     "text": [
      "Epoch 618:\n"
     ]
    },
    {
     "name": "stderr",
     "output_type": "stream",
     "text": [
      " lr 0.000039\t: 100%|██████████| 494/494 [03:33<00:00,  2.32it/s, Transformer_Loss=0.856] \n"
     ]
    },
    {
     "name": "stdout",
     "output_type": "stream",
     "text": [
      "Epoch 619:\n"
     ]
    },
    {
     "name": "stderr",
     "output_type": "stream",
     "text": [
      " lr 0.000039\t: 100%|██████████| 494/494 [03:32<00:00,  2.32it/s, Transformer_Loss=0.144] \n"
     ]
    },
    {
     "name": "stdout",
     "output_type": "stream",
     "text": [
      "Epoch 620:\n"
     ]
    },
    {
     "name": "stderr",
     "output_type": "stream",
     "text": [
      " lr 0.000039\t: 100%|██████████| 494/494 [03:32<00:00,  2.32it/s, Transformer_Loss=0.511] \n"
     ]
    },
    {
     "name": "stdout",
     "output_type": "stream",
     "text": [
      "Epoch 621:\n"
     ]
    },
    {
     "name": "stderr",
     "output_type": "stream",
     "text": [
      " lr 0.000038\t: 100%|██████████| 494/494 [03:32<00:00,  2.32it/s, Transformer_Loss=0.424] \n"
     ]
    },
    {
     "name": "stdout",
     "output_type": "stream",
     "text": [
      "Epoch 622:\n"
     ]
    },
    {
     "name": "stderr",
     "output_type": "stream",
     "text": [
      " lr 0.000038\t: 100%|██████████| 494/494 [03:32<00:00,  2.32it/s, Transformer_Loss=0.354] \n"
     ]
    },
    {
     "name": "stdout",
     "output_type": "stream",
     "text": [
      "Epoch 623:\n"
     ]
    },
    {
     "name": "stderr",
     "output_type": "stream",
     "text": [
      " lr 0.000038\t: 100%|██████████| 494/494 [03:32<00:00,  2.32it/s, Transformer_Loss=0.659] \n"
     ]
    },
    {
     "name": "stdout",
     "output_type": "stream",
     "text": [
      "Epoch 624:\n"
     ]
    },
    {
     "name": "stderr",
     "output_type": "stream",
     "text": [
      " lr 0.000038\t: 100%|██████████| 494/494 [03:32<00:00,  2.32it/s, Transformer_Loss=0.281] \n"
     ]
    },
    {
     "name": "stdout",
     "output_type": "stream",
     "text": [
      "Epoch 625:\n"
     ]
    },
    {
     "name": "stderr",
     "output_type": "stream",
     "text": [
      " lr 0.000038\t: 100%|██████████| 494/494 [03:32<00:00,  2.33it/s, Transformer_Loss=0.0848]\n"
     ]
    },
    {
     "name": "stdout",
     "output_type": "stream",
     "text": [
      "Epoch 626:\n"
     ]
    },
    {
     "name": "stderr",
     "output_type": "stream",
     "text": [
      " lr 0.000038\t: 100%|██████████| 494/494 [03:32<00:00,  2.32it/s, Transformer_Loss=3.67]  \n"
     ]
    },
    {
     "name": "stdout",
     "output_type": "stream",
     "text": [
      "Epoch 627:\n"
     ]
    },
    {
     "name": "stderr",
     "output_type": "stream",
     "text": [
      " lr 0.000038\t: 100%|██████████| 494/494 [03:32<00:00,  2.32it/s, Transformer_Loss=2.77]  \n"
     ]
    },
    {
     "name": "stdout",
     "output_type": "stream",
     "text": [
      "Epoch 628:\n"
     ]
    },
    {
     "name": "stderr",
     "output_type": "stream",
     "text": [
      " lr 0.000038\t: 100%|██████████| 494/494 [03:33<00:00,  2.32it/s, Transformer_Loss=1.71]  \n"
     ]
    },
    {
     "name": "stdout",
     "output_type": "stream",
     "text": [
      "Epoch 629:\n"
     ]
    },
    {
     "name": "stderr",
     "output_type": "stream",
     "text": [
      " lr 0.000038\t: 100%|██████████| 494/494 [03:32<00:00,  2.33it/s, Transformer_Loss=0.673] \n"
     ]
    },
    {
     "name": "stdout",
     "output_type": "stream",
     "text": [
      "Epoch 630:\n"
     ]
    },
    {
     "name": "stderr",
     "output_type": "stream",
     "text": [
      " lr 0.000038\t: 100%|██████████| 494/494 [03:32<00:00,  2.32it/s, Transformer_Loss=4.19]  \n"
     ]
    },
    {
     "name": "stdout",
     "output_type": "stream",
     "text": [
      "Epoch 631:\n"
     ]
    },
    {
     "name": "stderr",
     "output_type": "stream",
     "text": [
      " lr 0.000037\t: 100%|██████████| 494/494 [03:32<00:00,  2.32it/s, Transformer_Loss=0.125] \n"
     ]
    },
    {
     "name": "stdout",
     "output_type": "stream",
     "text": [
      "Epoch 632:\n"
     ]
    },
    {
     "name": "stderr",
     "output_type": "stream",
     "text": [
      " lr 0.000037\t: 100%|██████████| 494/494 [03:32<00:00,  2.32it/s, Transformer_Loss=1.38]  \n"
     ]
    },
    {
     "name": "stdout",
     "output_type": "stream",
     "text": [
      "Epoch 633:\n"
     ]
    },
    {
     "name": "stderr",
     "output_type": "stream",
     "text": [
      " lr 0.000037\t: 100%|██████████| 494/494 [03:32<00:00,  2.33it/s, Transformer_Loss=0.371] \n"
     ]
    },
    {
     "name": "stdout",
     "output_type": "stream",
     "text": [
      "Epoch 634:\n"
     ]
    },
    {
     "name": "stderr",
     "output_type": "stream",
     "text": [
      " lr 0.000037\t: 100%|██████████| 494/494 [03:32<00:00,  2.33it/s, Transformer_Loss=0.0363]\n"
     ]
    },
    {
     "name": "stdout",
     "output_type": "stream",
     "text": [
      "Epoch 635:\n"
     ]
    },
    {
     "name": "stderr",
     "output_type": "stream",
     "text": [
      " lr 0.000037\t: 100%|██████████| 494/494 [03:31<00:00,  2.33it/s, Transformer_Loss=3.28]  \n"
     ]
    },
    {
     "name": "stdout",
     "output_type": "stream",
     "text": [
      "Epoch 636:\n"
     ]
    },
    {
     "name": "stderr",
     "output_type": "stream",
     "text": [
      " lr 0.000037\t: 100%|██████████| 494/494 [03:32<00:00,  2.33it/s, Transformer_Loss=0.782] \n"
     ]
    },
    {
     "name": "stdout",
     "output_type": "stream",
     "text": [
      "Epoch 637:\n"
     ]
    },
    {
     "name": "stderr",
     "output_type": "stream",
     "text": [
      " lr 0.000037\t: 100%|██████████| 494/494 [03:31<00:00,  2.33it/s, Transformer_Loss=4.27]  \n"
     ]
    },
    {
     "name": "stdout",
     "output_type": "stream",
     "text": [
      "Epoch 638:\n"
     ]
    },
    {
     "name": "stderr",
     "output_type": "stream",
     "text": [
      " lr 0.000037\t: 100%|██████████| 494/494 [03:32<00:00,  2.32it/s, Transformer_Loss=2.28]  \n"
     ]
    },
    {
     "name": "stdout",
     "output_type": "stream",
     "text": [
      "Epoch 639:\n"
     ]
    },
    {
     "name": "stderr",
     "output_type": "stream",
     "text": [
      " lr 0.000037\t: 100%|██████████| 494/494 [03:32<00:00,  2.33it/s, Transformer_Loss=0.205] \n"
     ]
    },
    {
     "name": "stdout",
     "output_type": "stream",
     "text": [
      "Epoch 640:\n"
     ]
    },
    {
     "name": "stderr",
     "output_type": "stream",
     "text": [
      " lr 0.000037\t: 100%|██████████| 494/494 [03:32<00:00,  2.32it/s, Transformer_Loss=0.0461]\n"
     ]
    },
    {
     "name": "stdout",
     "output_type": "stream",
     "text": [
      "Epoch 641:\n"
     ]
    },
    {
     "name": "stderr",
     "output_type": "stream",
     "text": [
      " lr 0.000036\t: 100%|██████████| 494/494 [03:32<00:00,  2.33it/s, Transformer_Loss=0.223] \n"
     ]
    },
    {
     "name": "stdout",
     "output_type": "stream",
     "text": [
      "Epoch 642:\n"
     ]
    },
    {
     "name": "stderr",
     "output_type": "stream",
     "text": [
      " lr 0.000036\t: 100%|██████████| 494/494 [03:32<00:00,  2.32it/s, Transformer_Loss=0.181] \n"
     ]
    },
    {
     "name": "stdout",
     "output_type": "stream",
     "text": [
      "Epoch 643:\n"
     ]
    },
    {
     "name": "stderr",
     "output_type": "stream",
     "text": [
      " lr 0.000036\t: 100%|██████████| 494/494 [03:32<00:00,  2.33it/s, Transformer_Loss=0.0599]\n"
     ]
    },
    {
     "name": "stdout",
     "output_type": "stream",
     "text": [
      "Epoch 644:\n"
     ]
    },
    {
     "name": "stderr",
     "output_type": "stream",
     "text": [
      " lr 0.000036\t: 100%|██████████| 494/494 [03:32<00:00,  2.32it/s, Transformer_Loss=0.835] \n"
     ]
    },
    {
     "name": "stdout",
     "output_type": "stream",
     "text": [
      "Epoch 645:\n"
     ]
    },
    {
     "name": "stderr",
     "output_type": "stream",
     "text": [
      " lr 0.000036\t: 100%|██████████| 494/494 [03:32<00:00,  2.32it/s, Transformer_Loss=2.64]  \n"
     ]
    },
    {
     "name": "stdout",
     "output_type": "stream",
     "text": [
      "Epoch 646:\n"
     ]
    },
    {
     "name": "stderr",
     "output_type": "stream",
     "text": [
      " lr 0.000036\t: 100%|██████████| 494/494 [03:32<00:00,  2.33it/s, Transformer_Loss=0.0308]\n"
     ]
    },
    {
     "name": "stdout",
     "output_type": "stream",
     "text": [
      "Epoch 647:\n"
     ]
    },
    {
     "name": "stderr",
     "output_type": "stream",
     "text": [
      " lr 0.000036\t: 100%|██████████| 494/494 [03:32<00:00,  2.33it/s, Transformer_Loss=0.653] \n"
     ]
    },
    {
     "name": "stdout",
     "output_type": "stream",
     "text": [
      "Epoch 648:\n"
     ]
    },
    {
     "name": "stderr",
     "output_type": "stream",
     "text": [
      " lr 0.000036\t: 100%|██████████| 494/494 [03:32<00:00,  2.32it/s, Transformer_Loss=0.879] \n"
     ]
    },
    {
     "name": "stdout",
     "output_type": "stream",
     "text": [
      "Epoch 649:\n"
     ]
    },
    {
     "name": "stderr",
     "output_type": "stream",
     "text": [
      " lr 0.000036\t: 100%|██████████| 494/494 [03:32<00:00,  2.33it/s, Transformer_Loss=0.105] \n"
     ]
    },
    {
     "name": "stdout",
     "output_type": "stream",
     "text": [
      "Epoch 650:\n"
     ]
    },
    {
     "name": "stderr",
     "output_type": "stream",
     "text": [
      " lr 0.000036\t: 100%|██████████| 494/494 [03:32<00:00,  2.32it/s, Transformer_Loss=4.76]  \n"
     ]
    },
    {
     "name": "stdout",
     "output_type": "stream",
     "text": [
      "Epoch 651:\n"
     ]
    },
    {
     "name": "stderr",
     "output_type": "stream",
     "text": [
      " lr 0.000035\t: 100%|██████████| 494/494 [03:32<00:00,  2.33it/s, Transformer_Loss=1.61]  \n"
     ]
    },
    {
     "name": "stdout",
     "output_type": "stream",
     "text": [
      "Epoch 652:\n"
     ]
    },
    {
     "name": "stderr",
     "output_type": "stream",
     "text": [
      " lr 0.000035\t: 100%|██████████| 494/494 [03:32<00:00,  2.32it/s, Transformer_Loss=3.01]  \n"
     ]
    },
    {
     "name": "stdout",
     "output_type": "stream",
     "text": [
      "Epoch 653:\n"
     ]
    },
    {
     "name": "stderr",
     "output_type": "stream",
     "text": [
      " lr 0.000035\t: 100%|██████████| 494/494 [03:32<00:00,  2.33it/s, Transformer_Loss=1.35]  \n"
     ]
    },
    {
     "name": "stdout",
     "output_type": "stream",
     "text": [
      "Epoch 654:\n"
     ]
    },
    {
     "name": "stderr",
     "output_type": "stream",
     "text": [
      " lr 0.000035\t: 100%|██████████| 494/494 [03:32<00:00,  2.32it/s, Transformer_Loss=0.0484]\n"
     ]
    },
    {
     "name": "stdout",
     "output_type": "stream",
     "text": [
      "Epoch 655:\n"
     ]
    },
    {
     "name": "stderr",
     "output_type": "stream",
     "text": [
      " lr 0.000035\t: 100%|██████████| 494/494 [03:32<00:00,  2.33it/s, Transformer_Loss=0.584] \n"
     ]
    },
    {
     "name": "stdout",
     "output_type": "stream",
     "text": [
      "Epoch 656:\n"
     ]
    },
    {
     "name": "stderr",
     "output_type": "stream",
     "text": [
      " lr 0.000035\t: 100%|██████████| 494/494 [03:32<00:00,  2.32it/s, Transformer_Loss=2.33]  \n"
     ]
    },
    {
     "name": "stdout",
     "output_type": "stream",
     "text": [
      "Epoch 657:\n"
     ]
    },
    {
     "name": "stderr",
     "output_type": "stream",
     "text": [
      " lr 0.000035\t: 100%|██████████| 494/494 [03:31<00:00,  2.33it/s, Transformer_Loss=2.71]  \n"
     ]
    },
    {
     "name": "stdout",
     "output_type": "stream",
     "text": [
      "Epoch 658:\n"
     ]
    },
    {
     "name": "stderr",
     "output_type": "stream",
     "text": [
      " lr 0.000035\t: 100%|██████████| 494/494 [03:32<00:00,  2.32it/s, Transformer_Loss=0.954] \n"
     ]
    },
    {
     "name": "stdout",
     "output_type": "stream",
     "text": [
      "Epoch 659:\n"
     ]
    },
    {
     "name": "stderr",
     "output_type": "stream",
     "text": [
      " lr 0.000035\t: 100%|██████████| 494/494 [03:32<00:00,  2.33it/s, Transformer_Loss=2.54]  \n"
     ]
    },
    {
     "name": "stdout",
     "output_type": "stream",
     "text": [
      "Epoch 660:\n"
     ]
    },
    {
     "name": "stderr",
     "output_type": "stream",
     "text": [
      " lr 0.000035\t: 100%|██████████| 494/494 [03:32<00:00,  2.32it/s, Transformer_Loss=2.34]  \n"
     ]
    },
    {
     "name": "stdout",
     "output_type": "stream",
     "text": [
      "Epoch 661:\n"
     ]
    },
    {
     "name": "stderr",
     "output_type": "stream",
     "text": [
      " lr 0.000034\t: 100%|██████████| 494/494 [03:32<00:00,  2.32it/s, Transformer_Loss=0.569] \n"
     ]
    },
    {
     "name": "stdout",
     "output_type": "stream",
     "text": [
      "Epoch 662:\n"
     ]
    },
    {
     "name": "stderr",
     "output_type": "stream",
     "text": [
      " lr 0.000034\t: 100%|██████████| 494/494 [03:33<00:00,  2.32it/s, Transformer_Loss=1.08]  \n"
     ]
    },
    {
     "name": "stdout",
     "output_type": "stream",
     "text": [
      "Epoch 663:\n"
     ]
    },
    {
     "name": "stderr",
     "output_type": "stream",
     "text": [
      " lr 0.000034\t: 100%|██████████| 494/494 [03:32<00:00,  2.32it/s, Transformer_Loss=2.9]   \n"
     ]
    },
    {
     "name": "stdout",
     "output_type": "stream",
     "text": [
      "Epoch 664:\n"
     ]
    },
    {
     "name": "stderr",
     "output_type": "stream",
     "text": [
      " lr 0.000034\t: 100%|██████████| 494/494 [03:33<00:00,  2.31it/s, Transformer_Loss=2.77]  \n"
     ]
    },
    {
     "name": "stdout",
     "output_type": "stream",
     "text": [
      "Epoch 665:\n"
     ]
    },
    {
     "name": "stderr",
     "output_type": "stream",
     "text": [
      " lr 0.000034\t: 100%|██████████| 494/494 [03:32<00:00,  2.32it/s, Transformer_Loss=2.38]  \n"
     ]
    },
    {
     "name": "stdout",
     "output_type": "stream",
     "text": [
      "Epoch 666:\n"
     ]
    },
    {
     "name": "stderr",
     "output_type": "stream",
     "text": [
      " lr 0.000034\t: 100%|██████████| 494/494 [03:32<00:00,  2.32it/s, Transformer_Loss=1.69]  \n"
     ]
    },
    {
     "name": "stdout",
     "output_type": "stream",
     "text": [
      "Epoch 667:\n"
     ]
    },
    {
     "name": "stderr",
     "output_type": "stream",
     "text": [
      " lr 0.000034\t: 100%|██████████| 494/494 [03:32<00:00,  2.33it/s, Transformer_Loss=0.703] \n"
     ]
    },
    {
     "name": "stdout",
     "output_type": "stream",
     "text": [
      "Epoch 668:\n"
     ]
    },
    {
     "name": "stderr",
     "output_type": "stream",
     "text": [
      " lr 0.000034\t: 100%|██████████| 494/494 [03:32<00:00,  2.32it/s, Transformer_Loss=2.21]  \n"
     ]
    },
    {
     "name": "stdout",
     "output_type": "stream",
     "text": [
      "Epoch 669:\n"
     ]
    },
    {
     "name": "stderr",
     "output_type": "stream",
     "text": [
      " lr 0.000034\t: 100%|██████████| 494/494 [03:33<00:00,  2.32it/s, Transformer_Loss=0.206] \n"
     ]
    },
    {
     "name": "stdout",
     "output_type": "stream",
     "text": [
      "Epoch 670:\n"
     ]
    },
    {
     "name": "stderr",
     "output_type": "stream",
     "text": [
      " lr 0.000034\t: 100%|██████████| 494/494 [03:32<00:00,  2.32it/s, Transformer_Loss=1.57]  \n"
     ]
    },
    {
     "name": "stdout",
     "output_type": "stream",
     "text": [
      "Epoch 671:\n"
     ]
    },
    {
     "name": "stderr",
     "output_type": "stream",
     "text": [
      " lr 0.000033\t: 100%|██████████| 494/494 [03:32<00:00,  2.32it/s, Transformer_Loss=0.0258]\n"
     ]
    },
    {
     "name": "stdout",
     "output_type": "stream",
     "text": [
      "Epoch 672:\n"
     ]
    },
    {
     "name": "stderr",
     "output_type": "stream",
     "text": [
      " lr 0.000033\t: 100%|██████████| 494/494 [03:32<00:00,  2.32it/s, Transformer_Loss=2.97]  \n"
     ]
    },
    {
     "name": "stdout",
     "output_type": "stream",
     "text": [
      "Epoch 673:\n"
     ]
    },
    {
     "name": "stderr",
     "output_type": "stream",
     "text": [
      " lr 0.000033\t: 100%|██████████| 494/494 [03:32<00:00,  2.32it/s, Transformer_Loss=0.138] \n"
     ]
    },
    {
     "name": "stdout",
     "output_type": "stream",
     "text": [
      "Epoch 674:\n"
     ]
    },
    {
     "name": "stderr",
     "output_type": "stream",
     "text": [
      " lr 0.000033\t: 100%|██████████| 494/494 [03:32<00:00,  2.32it/s, Transformer_Loss=0.596] \n"
     ]
    },
    {
     "name": "stdout",
     "output_type": "stream",
     "text": [
      "Epoch 675:\n"
     ]
    },
    {
     "name": "stderr",
     "output_type": "stream",
     "text": [
      " lr 0.000033\t: 100%|██████████| 494/494 [03:33<00:00,  2.32it/s, Transformer_Loss=2.54]  \n"
     ]
    },
    {
     "name": "stdout",
     "output_type": "stream",
     "text": [
      "Epoch 676:\n"
     ]
    },
    {
     "name": "stderr",
     "output_type": "stream",
     "text": [
      " lr 0.000033\t: 100%|██████████| 494/494 [03:32<00:00,  2.32it/s, Transformer_Loss=2.23]  \n"
     ]
    },
    {
     "name": "stdout",
     "output_type": "stream",
     "text": [
      "Epoch 677:\n"
     ]
    },
    {
     "name": "stderr",
     "output_type": "stream",
     "text": [
      " lr 0.000033\t: 100%|██████████| 494/494 [03:32<00:00,  2.32it/s, Transformer_Loss=0.952] \n"
     ]
    },
    {
     "name": "stdout",
     "output_type": "stream",
     "text": [
      "Epoch 678:\n"
     ]
    },
    {
     "name": "stderr",
     "output_type": "stream",
     "text": [
      " lr 0.000033\t: 100%|██████████| 494/494 [03:32<00:00,  2.32it/s, Transformer_Loss=0.294] \n"
     ]
    },
    {
     "name": "stdout",
     "output_type": "stream",
     "text": [
      "Epoch 679:\n"
     ]
    },
    {
     "name": "stderr",
     "output_type": "stream",
     "text": [
      " lr 0.000033\t: 100%|██████████| 494/494 [03:32<00:00,  2.32it/s, Transformer_Loss=2.26]  \n"
     ]
    },
    {
     "name": "stdout",
     "output_type": "stream",
     "text": [
      "Epoch 680:\n"
     ]
    },
    {
     "name": "stderr",
     "output_type": "stream",
     "text": [
      " lr 0.000033\t: 100%|██████████| 494/494 [03:32<00:00,  2.33it/s, Transformer_Loss=0.0574]\n"
     ]
    },
    {
     "name": "stdout",
     "output_type": "stream",
     "text": [
      "Epoch 681:\n"
     ]
    },
    {
     "name": "stderr",
     "output_type": "stream",
     "text": [
      " lr 0.000032\t: 100%|██████████| 494/494 [03:32<00:00,  2.33it/s, Transformer_Loss=2.72]  \n"
     ]
    },
    {
     "name": "stdout",
     "output_type": "stream",
     "text": [
      "Epoch 682:\n"
     ]
    },
    {
     "name": "stderr",
     "output_type": "stream",
     "text": [
      " lr 0.000032\t: 100%|██████████| 494/494 [03:32<00:00,  2.33it/s, Transformer_Loss=0.7]   \n"
     ]
    },
    {
     "name": "stdout",
     "output_type": "stream",
     "text": [
      "Epoch 683:\n"
     ]
    },
    {
     "name": "stderr",
     "output_type": "stream",
     "text": [
      " lr 0.000032\t: 100%|██████████| 494/494 [03:33<00:00,  2.32it/s, Transformer_Loss=0.967] \n"
     ]
    },
    {
     "name": "stdout",
     "output_type": "stream",
     "text": [
      "Epoch 684:\n"
     ]
    },
    {
     "name": "stderr",
     "output_type": "stream",
     "text": [
      " lr 0.000032\t: 100%|██████████| 494/494 [03:32<00:00,  2.32it/s, Transformer_Loss=0.707] \n"
     ]
    },
    {
     "name": "stdout",
     "output_type": "stream",
     "text": [
      "Epoch 685:\n"
     ]
    },
    {
     "name": "stderr",
     "output_type": "stream",
     "text": [
      " lr 0.000032\t: 100%|██████████| 494/494 [03:32<00:00,  2.32it/s, Transformer_Loss=1.62]  \n"
     ]
    },
    {
     "name": "stdout",
     "output_type": "stream",
     "text": [
      "Epoch 686:\n"
     ]
    },
    {
     "name": "stderr",
     "output_type": "stream",
     "text": [
      " lr 0.000032\t: 100%|██████████| 494/494 [03:32<00:00,  2.32it/s, Transformer_Loss=0.262] \n"
     ]
    },
    {
     "name": "stdout",
     "output_type": "stream",
     "text": [
      "Epoch 687:\n"
     ]
    },
    {
     "name": "stderr",
     "output_type": "stream",
     "text": [
      " lr 0.000032\t: 100%|██████████| 494/494 [03:32<00:00,  2.32it/s, Transformer_Loss=4.61]  \n"
     ]
    },
    {
     "name": "stdout",
     "output_type": "stream",
     "text": [
      "Epoch 688:\n"
     ]
    },
    {
     "name": "stderr",
     "output_type": "stream",
     "text": [
      " lr 0.000032\t: 100%|██████████| 494/494 [03:32<00:00,  2.33it/s, Transformer_Loss=1.81]  \n"
     ]
    },
    {
     "name": "stdout",
     "output_type": "stream",
     "text": [
      "Epoch 689:\n"
     ]
    },
    {
     "name": "stderr",
     "output_type": "stream",
     "text": [
      " lr 0.000032\t: 100%|██████████| 494/494 [03:32<00:00,  2.32it/s, Transformer_Loss=0.414] \n"
     ]
    },
    {
     "name": "stdout",
     "output_type": "stream",
     "text": [
      "Epoch 690:\n"
     ]
    },
    {
     "name": "stderr",
     "output_type": "stream",
     "text": [
      " lr 0.000032\t: 100%|██████████| 494/494 [03:32<00:00,  2.32it/s, Transformer_Loss=1.57]  \n"
     ]
    },
    {
     "name": "stdout",
     "output_type": "stream",
     "text": [
      "Epoch 691:\n"
     ]
    },
    {
     "name": "stderr",
     "output_type": "stream",
     "text": [
      " lr 0.000031\t: 100%|██████████| 494/494 [03:32<00:00,  2.32it/s, Transformer_Loss=1.53]  \n"
     ]
    },
    {
     "name": "stdout",
     "output_type": "stream",
     "text": [
      "Epoch 692:\n"
     ]
    },
    {
     "name": "stderr",
     "output_type": "stream",
     "text": [
      " lr 0.000031\t: 100%|██████████| 494/494 [03:32<00:00,  2.32it/s, Transformer_Loss=0.266] \n"
     ]
    },
    {
     "name": "stdout",
     "output_type": "stream",
     "text": [
      "Epoch 693:\n"
     ]
    },
    {
     "name": "stderr",
     "output_type": "stream",
     "text": [
      " lr 0.000031\t: 100%|██████████| 494/494 [03:33<00:00,  2.32it/s, Transformer_Loss=3.68]  \n"
     ]
    },
    {
     "name": "stdout",
     "output_type": "stream",
     "text": [
      "Epoch 694:\n"
     ]
    },
    {
     "name": "stderr",
     "output_type": "stream",
     "text": [
      " lr 0.000031\t: 100%|██████████| 494/494 [03:32<00:00,  2.32it/s, Transformer_Loss=0.149] \n"
     ]
    },
    {
     "name": "stdout",
     "output_type": "stream",
     "text": [
      "Epoch 695:\n"
     ]
    },
    {
     "name": "stderr",
     "output_type": "stream",
     "text": [
      " lr 0.000031\t: 100%|██████████| 494/494 [03:32<00:00,  2.32it/s, Transformer_Loss=3.83]  \n"
     ]
    },
    {
     "name": "stdout",
     "output_type": "stream",
     "text": [
      "Epoch 696:\n"
     ]
    },
    {
     "name": "stderr",
     "output_type": "stream",
     "text": [
      " lr 0.000031\t: 100%|██████████| 494/494 [03:32<00:00,  2.32it/s, Transformer_Loss=2.41]  \n"
     ]
    },
    {
     "name": "stdout",
     "output_type": "stream",
     "text": [
      "Epoch 697:\n"
     ]
    },
    {
     "name": "stderr",
     "output_type": "stream",
     "text": [
      " lr 0.000031\t: 100%|██████████| 494/494 [03:32<00:00,  2.32it/s, Transformer_Loss=0.969] \n"
     ]
    },
    {
     "name": "stdout",
     "output_type": "stream",
     "text": [
      "Epoch 698:\n"
     ]
    },
    {
     "name": "stderr",
     "output_type": "stream",
     "text": [
      " lr 0.000031\t: 100%|██████████| 494/494 [03:32<00:00,  2.32it/s, Transformer_Loss=0.21]  \n"
     ]
    },
    {
     "name": "stdout",
     "output_type": "stream",
     "text": [
      "Epoch 699:\n"
     ]
    },
    {
     "name": "stderr",
     "output_type": "stream",
     "text": [
      " lr 0.000031\t: 100%|██████████| 494/494 [03:32<00:00,  2.32it/s, Transformer_Loss=0.0793]\n"
     ]
    },
    {
     "name": "stdout",
     "output_type": "stream",
     "text": [
      "Epoch 700:\n"
     ]
    },
    {
     "name": "stderr",
     "output_type": "stream",
     "text": [
      " lr 0.000031\t: 100%|██████████| 494/494 [03:32<00:00,  2.32it/s, Transformer_Loss=1.27]  \n"
     ]
    },
    {
     "name": "stdout",
     "output_type": "stream",
     "text": [
      "Epoch 701:\n"
     ]
    },
    {
     "name": "stderr",
     "output_type": "stream",
     "text": [
      " lr 0.000030\t: 100%|██████████| 494/494 [03:32<00:00,  2.32it/s, Transformer_Loss=0.215] \n"
     ]
    },
    {
     "name": "stdout",
     "output_type": "stream",
     "text": [
      "Epoch 702:\n"
     ]
    },
    {
     "name": "stderr",
     "output_type": "stream",
     "text": [
      " lr 0.000030\t: 100%|██████████| 494/494 [03:32<00:00,  2.32it/s, Transformer_Loss=0.724] \n"
     ]
    },
    {
     "name": "stdout",
     "output_type": "stream",
     "text": [
      "Epoch 703:\n"
     ]
    },
    {
     "name": "stderr",
     "output_type": "stream",
     "text": [
      " lr 0.000030\t: 100%|██████████| 494/494 [03:33<00:00,  2.32it/s, Transformer_Loss=0.122] \n"
     ]
    },
    {
     "name": "stdout",
     "output_type": "stream",
     "text": [
      "Epoch 704:\n"
     ]
    },
    {
     "name": "stderr",
     "output_type": "stream",
     "text": [
      " lr 0.000030\t: 100%|██████████| 494/494 [03:32<00:00,  2.32it/s, Transformer_Loss=0.196] \n"
     ]
    },
    {
     "name": "stdout",
     "output_type": "stream",
     "text": [
      "Epoch 705:\n"
     ]
    },
    {
     "name": "stderr",
     "output_type": "stream",
     "text": [
      " lr 0.000030\t: 100%|██████████| 494/494 [03:32<00:00,  2.32it/s, Transformer_Loss=0.194] \n"
     ]
    },
    {
     "name": "stdout",
     "output_type": "stream",
     "text": [
      "Epoch 706:\n"
     ]
    },
    {
     "name": "stderr",
     "output_type": "stream",
     "text": [
      " lr 0.000030\t: 100%|██████████| 494/494 [03:32<00:00,  2.32it/s, Transformer_Loss=1.99]  \n"
     ]
    },
    {
     "name": "stdout",
     "output_type": "stream",
     "text": [
      "Epoch 707:\n"
     ]
    },
    {
     "name": "stderr",
     "output_type": "stream",
     "text": [
      " lr 0.000030\t: 100%|██████████| 494/494 [03:33<00:00,  2.32it/s, Transformer_Loss=0.844] \n"
     ]
    },
    {
     "name": "stdout",
     "output_type": "stream",
     "text": [
      "Epoch 708:\n"
     ]
    },
    {
     "name": "stderr",
     "output_type": "stream",
     "text": [
      " lr 0.000030\t: 100%|██████████| 494/494 [03:32<00:00,  2.32it/s, Transformer_Loss=1.18]  \n"
     ]
    },
    {
     "name": "stdout",
     "output_type": "stream",
     "text": [
      "Epoch 709:\n"
     ]
    },
    {
     "name": "stderr",
     "output_type": "stream",
     "text": [
      " lr 0.000030\t: 100%|██████████| 494/494 [03:32<00:00,  2.32it/s, Transformer_Loss=3.93]  \n"
     ]
    },
    {
     "name": "stdout",
     "output_type": "stream",
     "text": [
      "Epoch 710:\n"
     ]
    },
    {
     "name": "stderr",
     "output_type": "stream",
     "text": [
      " lr 0.000029\t: 100%|██████████| 494/494 [03:32<00:00,  2.32it/s, Transformer_Loss=3.88]  \n"
     ]
    },
    {
     "name": "stdout",
     "output_type": "stream",
     "text": [
      "Epoch 711:\n"
     ]
    },
    {
     "name": "stderr",
     "output_type": "stream",
     "text": [
      " lr 0.000029\t: 100%|██████████| 494/494 [03:32<00:00,  2.32it/s, Transformer_Loss=2.03]  \n"
     ]
    },
    {
     "name": "stdout",
     "output_type": "stream",
     "text": [
      "Epoch 712:\n"
     ]
    },
    {
     "name": "stderr",
     "output_type": "stream",
     "text": [
      " lr 0.000029\t: 100%|██████████| 494/494 [03:32<00:00,  2.32it/s, Transformer_Loss=0.227] \n"
     ]
    },
    {
     "name": "stdout",
     "output_type": "stream",
     "text": [
      "Epoch 713:\n"
     ]
    },
    {
     "name": "stderr",
     "output_type": "stream",
     "text": [
      " lr 0.000029\t: 100%|██████████| 494/494 [03:32<00:00,  2.32it/s, Transformer_Loss=1.63]  \n"
     ]
    },
    {
     "name": "stdout",
     "output_type": "stream",
     "text": [
      "Epoch 714:\n"
     ]
    },
    {
     "name": "stderr",
     "output_type": "stream",
     "text": [
      " lr 0.000029\t: 100%|██████████| 494/494 [03:33<00:00,  2.32it/s, Transformer_Loss=1.06]  \n"
     ]
    },
    {
     "name": "stdout",
     "output_type": "stream",
     "text": [
      "Epoch 715:\n"
     ]
    },
    {
     "name": "stderr",
     "output_type": "stream",
     "text": [
      " lr 0.000029\t: 100%|██████████| 494/494 [03:33<00:00,  2.32it/s, Transformer_Loss=0.629] \n"
     ]
    },
    {
     "name": "stdout",
     "output_type": "stream",
     "text": [
      "Epoch 716:\n"
     ]
    },
    {
     "name": "stderr",
     "output_type": "stream",
     "text": [
      " lr 0.000029\t: 100%|██████████| 494/494 [03:32<00:00,  2.32it/s, Transformer_Loss=0.836] \n"
     ]
    },
    {
     "name": "stdout",
     "output_type": "stream",
     "text": [
      "Epoch 717:\n"
     ]
    },
    {
     "name": "stderr",
     "output_type": "stream",
     "text": [
      " lr 0.000029\t: 100%|██████████| 494/494 [03:33<00:00,  2.31it/s, Transformer_Loss=1.7]   \n"
     ]
    },
    {
     "name": "stdout",
     "output_type": "stream",
     "text": [
      "Epoch 718:\n"
     ]
    },
    {
     "name": "stderr",
     "output_type": "stream",
     "text": [
      " lr 0.000029\t: 100%|██████████| 494/494 [03:32<00:00,  2.32it/s, Transformer_Loss=0.0359]\n"
     ]
    },
    {
     "name": "stdout",
     "output_type": "stream",
     "text": [
      "Epoch 719:\n"
     ]
    },
    {
     "name": "stderr",
     "output_type": "stream",
     "text": [
      " lr 0.000029\t: 100%|██████████| 494/494 [03:32<00:00,  2.32it/s, Transformer_Loss=0.79]  \n"
     ]
    },
    {
     "name": "stdout",
     "output_type": "stream",
     "text": [
      "Epoch 720:\n"
     ]
    },
    {
     "name": "stderr",
     "output_type": "stream",
     "text": [
      " lr 0.000028\t: 100%|██████████| 494/494 [03:32<00:00,  2.32it/s, Transformer_Loss=0.384] \n"
     ]
    },
    {
     "name": "stdout",
     "output_type": "stream",
     "text": [
      "Epoch 721:\n"
     ]
    },
    {
     "name": "stderr",
     "output_type": "stream",
     "text": [
      " lr 0.000028\t: 100%|██████████| 494/494 [03:33<00:00,  2.32it/s, Transformer_Loss=0.413] \n"
     ]
    },
    {
     "name": "stdout",
     "output_type": "stream",
     "text": [
      "Epoch 722:\n"
     ]
    },
    {
     "name": "stderr",
     "output_type": "stream",
     "text": [
      " lr 0.000028\t: 100%|██████████| 494/494 [03:33<00:00,  2.32it/s, Transformer_Loss=3.02]  \n"
     ]
    },
    {
     "name": "stdout",
     "output_type": "stream",
     "text": [
      "Epoch 723:\n"
     ]
    },
    {
     "name": "stderr",
     "output_type": "stream",
     "text": [
      " lr 0.000028\t: 100%|██████████| 494/494 [03:33<00:00,  2.32it/s, Transformer_Loss=3.34]  \n"
     ]
    },
    {
     "name": "stdout",
     "output_type": "stream",
     "text": [
      "Epoch 724:\n"
     ]
    },
    {
     "name": "stderr",
     "output_type": "stream",
     "text": [
      " lr 0.000028\t: 100%|██████████| 494/494 [03:33<00:00,  2.31it/s, Transformer_Loss=0.139] \n"
     ]
    },
    {
     "name": "stdout",
     "output_type": "stream",
     "text": [
      "Epoch 725:\n"
     ]
    },
    {
     "name": "stderr",
     "output_type": "stream",
     "text": [
      " lr 0.000028\t: 100%|██████████| 494/494 [03:33<00:00,  2.32it/s, Transformer_Loss=0.4]   \n"
     ]
    },
    {
     "name": "stdout",
     "output_type": "stream",
     "text": [
      "Epoch 726:\n"
     ]
    },
    {
     "name": "stderr",
     "output_type": "stream",
     "text": [
      " lr 0.000028\t: 100%|██████████| 494/494 [03:33<00:00,  2.32it/s, Transformer_Loss=1.94]  \n"
     ]
    },
    {
     "name": "stdout",
     "output_type": "stream",
     "text": [
      "Epoch 727:\n"
     ]
    },
    {
     "name": "stderr",
     "output_type": "stream",
     "text": [
      " lr 0.000028\t: 100%|██████████| 494/494 [03:33<00:00,  2.31it/s, Transformer_Loss=1.65]  \n"
     ]
    },
    {
     "name": "stdout",
     "output_type": "stream",
     "text": [
      "Epoch 728:\n"
     ]
    },
    {
     "name": "stderr",
     "output_type": "stream",
     "text": [
      " lr 0.000028\t: 100%|██████████| 494/494 [03:33<00:00,  2.31it/s, Transformer_Loss=0.675] \n"
     ]
    },
    {
     "name": "stdout",
     "output_type": "stream",
     "text": [
      "Epoch 729:\n"
     ]
    },
    {
     "name": "stderr",
     "output_type": "stream",
     "text": [
      " lr 0.000028\t: 100%|██████████| 494/494 [03:33<00:00,  2.31it/s, Transformer_Loss=2.85]  \n"
     ]
    },
    {
     "name": "stdout",
     "output_type": "stream",
     "text": [
      "Epoch 730:\n"
     ]
    },
    {
     "name": "stderr",
     "output_type": "stream",
     "text": [
      " lr 0.000027\t: 100%|██████████| 494/494 [03:33<00:00,  2.32it/s, Transformer_Loss=0.129] \n"
     ]
    },
    {
     "name": "stdout",
     "output_type": "stream",
     "text": [
      "Epoch 731:\n"
     ]
    },
    {
     "name": "stderr",
     "output_type": "stream",
     "text": [
      " lr 0.000027\t: 100%|██████████| 494/494 [03:33<00:00,  2.31it/s, Transformer_Loss=0.502] \n"
     ]
    },
    {
     "name": "stdout",
     "output_type": "stream",
     "text": [
      "Epoch 732:\n"
     ]
    },
    {
     "name": "stderr",
     "output_type": "stream",
     "text": [
      " lr 0.000027\t: 100%|██████████| 494/494 [03:33<00:00,  2.31it/s, Transformer_Loss=2.13]  \n"
     ]
    },
    {
     "name": "stdout",
     "output_type": "stream",
     "text": [
      "Epoch 733:\n"
     ]
    },
    {
     "name": "stderr",
     "output_type": "stream",
     "text": [
      " lr 0.000027\t: 100%|██████████| 494/494 [03:33<00:00,  2.31it/s, Transformer_Loss=1.02]  \n"
     ]
    },
    {
     "name": "stdout",
     "output_type": "stream",
     "text": [
      "Epoch 734:\n"
     ]
    },
    {
     "name": "stderr",
     "output_type": "stream",
     "text": [
      " lr 0.000027\t: 100%|██████████| 494/494 [03:33<00:00,  2.32it/s, Transformer_Loss=1.13]  \n"
     ]
    },
    {
     "name": "stdout",
     "output_type": "stream",
     "text": [
      "Epoch 735:\n"
     ]
    },
    {
     "name": "stderr",
     "output_type": "stream",
     "text": [
      " lr 0.000027\t: 100%|██████████| 494/494 [03:33<00:00,  2.31it/s, Transformer_Loss=0.203] \n"
     ]
    },
    {
     "name": "stdout",
     "output_type": "stream",
     "text": [
      "Epoch 736:\n"
     ]
    },
    {
     "name": "stderr",
     "output_type": "stream",
     "text": [
      " lr 0.000027\t: 100%|██████████| 494/494 [03:33<00:00,  2.31it/s, Transformer_Loss=3.55]  \n"
     ]
    },
    {
     "name": "stdout",
     "output_type": "stream",
     "text": [
      "Epoch 737:\n"
     ]
    },
    {
     "name": "stderr",
     "output_type": "stream",
     "text": [
      " lr 0.000027\t: 100%|██████████| 494/494 [03:33<00:00,  2.31it/s, Transformer_Loss=4.64]  \n"
     ]
    },
    {
     "name": "stdout",
     "output_type": "stream",
     "text": [
      "Epoch 738:\n"
     ]
    },
    {
     "name": "stderr",
     "output_type": "stream",
     "text": [
      " lr 0.000027\t: 100%|██████████| 494/494 [03:33<00:00,  2.31it/s, Transformer_Loss=0.033] \n"
     ]
    },
    {
     "name": "stdout",
     "output_type": "stream",
     "text": [
      "Epoch 739:\n"
     ]
    },
    {
     "name": "stderr",
     "output_type": "stream",
     "text": [
      " lr 0.000027\t: 100%|██████████| 494/494 [03:33<00:00,  2.31it/s, Transformer_Loss=3.77]  \n"
     ]
    },
    {
     "name": "stdout",
     "output_type": "stream",
     "text": [
      "Epoch 740:\n"
     ]
    },
    {
     "name": "stderr",
     "output_type": "stream",
     "text": [
      " lr 0.000026\t: 100%|██████████| 494/494 [03:33<00:00,  2.31it/s, Transformer_Loss=0.334] \n"
     ]
    },
    {
     "name": "stdout",
     "output_type": "stream",
     "text": [
      "Epoch 741:\n"
     ]
    },
    {
     "name": "stderr",
     "output_type": "stream",
     "text": [
      " lr 0.000026\t: 100%|██████████| 494/494 [03:33<00:00,  2.31it/s, Transformer_Loss=0.522] \n"
     ]
    },
    {
     "name": "stdout",
     "output_type": "stream",
     "text": [
      "Epoch 742:\n"
     ]
    },
    {
     "name": "stderr",
     "output_type": "stream",
     "text": [
      " lr 0.000026\t: 100%|██████████| 494/494 [03:33<00:00,  2.31it/s, Transformer_Loss=1.08]  \n"
     ]
    },
    {
     "name": "stdout",
     "output_type": "stream",
     "text": [
      "Epoch 743:\n"
     ]
    },
    {
     "name": "stderr",
     "output_type": "stream",
     "text": [
      " lr 0.000026\t: 100%|██████████| 494/494 [03:33<00:00,  2.31it/s, Transformer_Loss=0.655] \n"
     ]
    },
    {
     "name": "stdout",
     "output_type": "stream",
     "text": [
      "Epoch 744:\n"
     ]
    },
    {
     "name": "stderr",
     "output_type": "stream",
     "text": [
      " lr 0.000026\t: 100%|██████████| 494/494 [03:33<00:00,  2.32it/s, Transformer_Loss=0.0469]\n"
     ]
    },
    {
     "name": "stdout",
     "output_type": "stream",
     "text": [
      "Epoch 745:\n"
     ]
    },
    {
     "name": "stderr",
     "output_type": "stream",
     "text": [
      " lr 0.000026\t: 100%|██████████| 494/494 [03:33<00:00,  2.31it/s, Transformer_Loss=3.64]  \n"
     ]
    },
    {
     "name": "stdout",
     "output_type": "stream",
     "text": [
      "Epoch 746:\n"
     ]
    },
    {
     "name": "stderr",
     "output_type": "stream",
     "text": [
      " lr 0.000026\t: 100%|██████████| 494/494 [03:33<00:00,  2.31it/s, Transformer_Loss=2.64]  \n"
     ]
    },
    {
     "name": "stdout",
     "output_type": "stream",
     "text": [
      "Epoch 747:\n"
     ]
    },
    {
     "name": "stderr",
     "output_type": "stream",
     "text": [
      " lr 0.000026\t: 100%|██████████| 494/494 [03:33<00:00,  2.31it/s, Transformer_Loss=0.166] \n"
     ]
    },
    {
     "name": "stdout",
     "output_type": "stream",
     "text": [
      "Epoch 748:\n"
     ]
    },
    {
     "name": "stderr",
     "output_type": "stream",
     "text": [
      " lr 0.000026\t: 100%|██████████| 494/494 [03:33<00:00,  2.31it/s, Transformer_Loss=1]     \n"
     ]
    },
    {
     "name": "stdout",
     "output_type": "stream",
     "text": [
      "Epoch 749:\n"
     ]
    },
    {
     "name": "stderr",
     "output_type": "stream",
     "text": [
      " lr 0.000026\t: 100%|██████████| 494/494 [03:34<00:00,  2.31it/s, Transformer_Loss=0.953] \n"
     ]
    },
    {
     "name": "stdout",
     "output_type": "stream",
     "text": [
      "Epoch 750:\n"
     ]
    },
    {
     "name": "stderr",
     "output_type": "stream",
     "text": [
      " lr 0.000025\t: 100%|██████████| 494/494 [03:33<00:00,  2.31it/s, Transformer_Loss=0.271] \n"
     ]
    },
    {
     "name": "stdout",
     "output_type": "stream",
     "text": [
      "Epoch 751:\n"
     ]
    },
    {
     "name": "stderr",
     "output_type": "stream",
     "text": [
      " lr 0.000025\t: 100%|██████████| 494/494 [03:33<00:00,  2.31it/s, Transformer_Loss=0.116] \n"
     ]
    },
    {
     "name": "stdout",
     "output_type": "stream",
     "text": [
      "Epoch 752:\n"
     ]
    },
    {
     "name": "stderr",
     "output_type": "stream",
     "text": [
      " lr 0.000025\t: 100%|██████████| 494/494 [03:34<00:00,  2.30it/s, Transformer_Loss=1.74]  \n"
     ]
    },
    {
     "name": "stdout",
     "output_type": "stream",
     "text": [
      "Epoch 753:\n"
     ]
    },
    {
     "name": "stderr",
     "output_type": "stream",
     "text": [
      " lr 0.000025\t: 100%|██████████| 494/494 [03:33<00:00,  2.31it/s, Transformer_Loss=0.0704]\n"
     ]
    },
    {
     "name": "stdout",
     "output_type": "stream",
     "text": [
      "Epoch 754:\n"
     ]
    },
    {
     "name": "stderr",
     "output_type": "stream",
     "text": [
      " lr 0.000025\t: 100%|██████████| 494/494 [03:33<00:00,  2.31it/s, Transformer_Loss=0.36]  \n"
     ]
    },
    {
     "name": "stdout",
     "output_type": "stream",
     "text": [
      "Epoch 755:\n"
     ]
    },
    {
     "name": "stderr",
     "output_type": "stream",
     "text": [
      " lr 0.000025\t: 100%|██████████| 494/494 [03:33<00:00,  2.31it/s, Transformer_Loss=0.962] \n"
     ]
    },
    {
     "name": "stdout",
     "output_type": "stream",
     "text": [
      "Epoch 756:\n"
     ]
    },
    {
     "name": "stderr",
     "output_type": "stream",
     "text": [
      " lr 0.000025\t: 100%|██████████| 494/494 [03:34<00:00,  2.31it/s, Transformer_Loss=3.64]  \n"
     ]
    },
    {
     "name": "stdout",
     "output_type": "stream",
     "text": [
      "Epoch 757:\n"
     ]
    },
    {
     "name": "stderr",
     "output_type": "stream",
     "text": [
      " lr 0.000025\t: 100%|██████████| 494/494 [03:33<00:00,  2.31it/s, Transformer_Loss=0.256] \n"
     ]
    },
    {
     "name": "stdout",
     "output_type": "stream",
     "text": [
      "Epoch 758:\n"
     ]
    },
    {
     "name": "stderr",
     "output_type": "stream",
     "text": [
      " lr 0.000025\t: 100%|██████████| 494/494 [03:34<00:00,  2.31it/s, Transformer_Loss=3.84]  \n"
     ]
    },
    {
     "name": "stdout",
     "output_type": "stream",
     "text": [
      "Epoch 759:\n"
     ]
    },
    {
     "name": "stderr",
     "output_type": "stream",
     "text": [
      " lr 0.000025\t: 100%|██████████| 494/494 [03:34<00:00,  2.31it/s, Transformer_Loss=1.71]  \n"
     ]
    },
    {
     "name": "stdout",
     "output_type": "stream",
     "text": [
      "Epoch 760:\n"
     ]
    },
    {
     "name": "stderr",
     "output_type": "stream",
     "text": [
      " lr 0.000024\t: 100%|██████████| 494/494 [03:34<00:00,  2.31it/s, Transformer_Loss=0.039] \n"
     ]
    },
    {
     "name": "stdout",
     "output_type": "stream",
     "text": [
      "Epoch 761:\n"
     ]
    },
    {
     "name": "stderr",
     "output_type": "stream",
     "text": [
      " lr 0.000024\t: 100%|██████████| 494/494 [03:33<00:00,  2.31it/s, Transformer_Loss=0.0765]\n"
     ]
    },
    {
     "name": "stdout",
     "output_type": "stream",
     "text": [
      "Epoch 762:\n"
     ]
    },
    {
     "name": "stderr",
     "output_type": "stream",
     "text": [
      " lr 0.000024\t: 100%|██████████| 494/494 [03:34<00:00,  2.30it/s, Transformer_Loss=3.73]  \n"
     ]
    },
    {
     "name": "stdout",
     "output_type": "stream",
     "text": [
      "Epoch 763:\n"
     ]
    },
    {
     "name": "stderr",
     "output_type": "stream",
     "text": [
      " lr 0.000024\t: 100%|██████████| 494/494 [03:34<00:00,  2.31it/s, Transformer_Loss=0.172] \n"
     ]
    },
    {
     "name": "stdout",
     "output_type": "stream",
     "text": [
      "Epoch 764:\n"
     ]
    },
    {
     "name": "stderr",
     "output_type": "stream",
     "text": [
      " lr 0.000024\t: 100%|██████████| 494/494 [03:34<00:00,  2.31it/s, Transformer_Loss=2.11]  \n"
     ]
    },
    {
     "name": "stdout",
     "output_type": "stream",
     "text": [
      "Epoch 765:\n"
     ]
    },
    {
     "name": "stderr",
     "output_type": "stream",
     "text": [
      " lr 0.000024\t: 100%|██████████| 494/494 [03:33<00:00,  2.31it/s, Transformer_Loss=3.66]  \n"
     ]
    },
    {
     "name": "stdout",
     "output_type": "stream",
     "text": [
      "Epoch 766:\n"
     ]
    },
    {
     "name": "stderr",
     "output_type": "stream",
     "text": [
      " lr 0.000024\t: 100%|██████████| 494/494 [03:34<00:00,  2.30it/s, Transformer_Loss=1.4]   \n"
     ]
    },
    {
     "name": "stdout",
     "output_type": "stream",
     "text": [
      "Epoch 767:\n"
     ]
    },
    {
     "name": "stderr",
     "output_type": "stream",
     "text": [
      " lr 0.000024\t: 100%|██████████| 494/494 [03:34<00:00,  2.31it/s, Transformer_Loss=2.81]  \n"
     ]
    },
    {
     "name": "stdout",
     "output_type": "stream",
     "text": [
      "Epoch 768:\n"
     ]
    },
    {
     "name": "stderr",
     "output_type": "stream",
     "text": [
      " lr 0.000024\t: 100%|██████████| 494/494 [03:34<00:00,  2.31it/s, Transformer_Loss=0.0525]\n"
     ]
    },
    {
     "name": "stdout",
     "output_type": "stream",
     "text": [
      "Epoch 769:\n"
     ]
    },
    {
     "name": "stderr",
     "output_type": "stream",
     "text": [
      " lr 0.000024\t: 100%|██████████| 494/494 [03:33<00:00,  2.31it/s, Transformer_Loss=2.85]  \n"
     ]
    },
    {
     "name": "stdout",
     "output_type": "stream",
     "text": [
      "Epoch 770:\n"
     ]
    },
    {
     "name": "stderr",
     "output_type": "stream",
     "text": [
      " lr 0.000023\t: 100%|██████████| 494/494 [03:34<00:00,  2.30it/s, Transformer_Loss=0.0255]\n"
     ]
    },
    {
     "name": "stdout",
     "output_type": "stream",
     "text": [
      "Epoch 771:\n"
     ]
    },
    {
     "name": "stderr",
     "output_type": "stream",
     "text": [
      " lr 0.000023\t: 100%|██████████| 494/494 [03:34<00:00,  2.31it/s, Transformer_Loss=0.208] \n"
     ]
    },
    {
     "name": "stdout",
     "output_type": "stream",
     "text": [
      "Epoch 772:\n"
     ]
    },
    {
     "name": "stderr",
     "output_type": "stream",
     "text": [
      " lr 0.000023\t: 100%|██████████| 494/494 [03:34<00:00,  2.30it/s, Transformer_Loss=3.05]  \n"
     ]
    },
    {
     "name": "stdout",
     "output_type": "stream",
     "text": [
      "Epoch 773:\n"
     ]
    },
    {
     "name": "stderr",
     "output_type": "stream",
     "text": [
      " lr 0.000023\t: 100%|██████████| 494/494 [03:34<00:00,  2.30it/s, Transformer_Loss=0.799] \n"
     ]
    },
    {
     "name": "stdout",
     "output_type": "stream",
     "text": [
      "Epoch 774:\n"
     ]
    },
    {
     "name": "stderr",
     "output_type": "stream",
     "text": [
      " lr 0.000023\t: 100%|██████████| 494/494 [03:34<00:00,  2.30it/s, Transformer_Loss=0.0257]\n"
     ]
    },
    {
     "name": "stdout",
     "output_type": "stream",
     "text": [
      "Epoch 775:\n"
     ]
    },
    {
     "name": "stderr",
     "output_type": "stream",
     "text": [
      " lr 0.000023\t: 100%|██████████| 494/494 [03:34<00:00,  2.31it/s, Transformer_Loss=0.714] \n"
     ]
    },
    {
     "name": "stdout",
     "output_type": "stream",
     "text": [
      "Epoch 776:\n"
     ]
    },
    {
     "name": "stderr",
     "output_type": "stream",
     "text": [
      " lr 0.000023\t: 100%|██████████| 494/494 [03:34<00:00,  2.30it/s, Transformer_Loss=1.6]   \n"
     ]
    },
    {
     "name": "stdout",
     "output_type": "stream",
     "text": [
      "Epoch 777:\n"
     ]
    },
    {
     "name": "stderr",
     "output_type": "stream",
     "text": [
      " lr 0.000023\t: 100%|██████████| 494/494 [03:34<00:00,  2.30it/s, Transformer_Loss=0.194] \n"
     ]
    },
    {
     "name": "stdout",
     "output_type": "stream",
     "text": [
      "Epoch 778:\n"
     ]
    },
    {
     "name": "stderr",
     "output_type": "stream",
     "text": [
      " lr 0.000023\t: 100%|██████████| 494/494 [03:34<00:00,  2.31it/s, Transformer_Loss=1.74]  \n"
     ]
    },
    {
     "name": "stdout",
     "output_type": "stream",
     "text": [
      "Epoch 779:\n"
     ]
    },
    {
     "name": "stderr",
     "output_type": "stream",
     "text": [
      " lr 0.000023\t: 100%|██████████| 494/494 [03:33<00:00,  2.31it/s, Transformer_Loss=4.32]  \n"
     ]
    },
    {
     "name": "stdout",
     "output_type": "stream",
     "text": [
      "Epoch 780:\n"
     ]
    },
    {
     "name": "stderr",
     "output_type": "stream",
     "text": [
      " lr 0.000022\t: 100%|██████████| 494/494 [03:34<00:00,  2.30it/s, Transformer_Loss=1.03]  \n"
     ]
    },
    {
     "name": "stdout",
     "output_type": "stream",
     "text": [
      "Epoch 781:\n"
     ]
    },
    {
     "name": "stderr",
     "output_type": "stream",
     "text": [
      " lr 0.000022\t: 100%|██████████| 494/494 [03:34<00:00,  2.31it/s, Transformer_Loss=3.95]  \n"
     ]
    },
    {
     "name": "stdout",
     "output_type": "stream",
     "text": [
      "Epoch 782:\n"
     ]
    },
    {
     "name": "stderr",
     "output_type": "stream",
     "text": [
      " lr 0.000022\t: 100%|██████████| 494/494 [03:33<00:00,  2.31it/s, Transformer_Loss=0.651] \n"
     ]
    },
    {
     "name": "stdout",
     "output_type": "stream",
     "text": [
      "Epoch 783:\n"
     ]
    },
    {
     "name": "stderr",
     "output_type": "stream",
     "text": [
      " lr 0.000022\t: 100%|██████████| 494/494 [03:33<00:00,  2.31it/s, Transformer_Loss=2.31]  \n"
     ]
    },
    {
     "name": "stdout",
     "output_type": "stream",
     "text": [
      "Epoch 784:\n"
     ]
    },
    {
     "name": "stderr",
     "output_type": "stream",
     "text": [
      " lr 0.000022\t: 100%|██████████| 494/494 [03:34<00:00,  2.30it/s, Transformer_Loss=3.14]  \n"
     ]
    },
    {
     "name": "stdout",
     "output_type": "stream",
     "text": [
      "Epoch 785:\n"
     ]
    },
    {
     "name": "stderr",
     "output_type": "stream",
     "text": [
      " lr 0.000022\t: 100%|██████████| 494/494 [03:33<00:00,  2.31it/s, Transformer_Loss=0.0574]\n"
     ]
    },
    {
     "name": "stdout",
     "output_type": "stream",
     "text": [
      "Epoch 786:\n"
     ]
    },
    {
     "name": "stderr",
     "output_type": "stream",
     "text": [
      " lr 0.000022\t: 100%|██████████| 494/494 [03:34<00:00,  2.30it/s, Transformer_Loss=0.528] \n"
     ]
    },
    {
     "name": "stdout",
     "output_type": "stream",
     "text": [
      "Epoch 787:\n"
     ]
    },
    {
     "name": "stderr",
     "output_type": "stream",
     "text": [
      " lr 0.000022\t: 100%|██████████| 494/494 [03:34<00:00,  2.30it/s, Transformer_Loss=1.21]  \n"
     ]
    },
    {
     "name": "stdout",
     "output_type": "stream",
     "text": [
      "Epoch 788:\n"
     ]
    },
    {
     "name": "stderr",
     "output_type": "stream",
     "text": [
      " lr 0.000022\t: 100%|██████████| 494/494 [03:34<00:00,  2.30it/s, Transformer_Loss=0.264] \n"
     ]
    },
    {
     "name": "stdout",
     "output_type": "stream",
     "text": [
      "Epoch 789:\n"
     ]
    },
    {
     "name": "stderr",
     "output_type": "stream",
     "text": [
      " lr 0.000022\t: 100%|██████████| 494/494 [03:34<00:00,  2.30it/s, Transformer_Loss=0.0448]\n"
     ]
    },
    {
     "name": "stdout",
     "output_type": "stream",
     "text": [
      "Epoch 790:\n"
     ]
    },
    {
     "name": "stderr",
     "output_type": "stream",
     "text": [
      " lr 0.000021\t: 100%|██████████| 494/494 [03:34<00:00,  2.30it/s, Transformer_Loss=1.27]  \n"
     ]
    },
    {
     "name": "stdout",
     "output_type": "stream",
     "text": [
      "Epoch 791:\n"
     ]
    },
    {
     "name": "stderr",
     "output_type": "stream",
     "text": [
      " lr 0.000021\t: 100%|██████████| 494/494 [03:34<00:00,  2.30it/s, Transformer_Loss=2.69]  \n"
     ]
    },
    {
     "name": "stdout",
     "output_type": "stream",
     "text": [
      "Epoch 792:\n"
     ]
    },
    {
     "name": "stderr",
     "output_type": "stream",
     "text": [
      " lr 0.000021\t: 100%|██████████| 494/494 [03:34<00:00,  2.30it/s, Transformer_Loss=3.12]  \n"
     ]
    },
    {
     "name": "stdout",
     "output_type": "stream",
     "text": [
      "Epoch 793:\n"
     ]
    },
    {
     "name": "stderr",
     "output_type": "stream",
     "text": [
      " lr 0.000021\t: 100%|██████████| 494/494 [03:34<00:00,  2.31it/s, Transformer_Loss=0.0347]\n"
     ]
    },
    {
     "name": "stdout",
     "output_type": "stream",
     "text": [
      "Epoch 794:\n"
     ]
    },
    {
     "name": "stderr",
     "output_type": "stream",
     "text": [
      " lr 0.000021\t: 100%|██████████| 494/494 [03:34<00:00,  2.30it/s, Transformer_Loss=0.0629]\n"
     ]
    },
    {
     "name": "stdout",
     "output_type": "stream",
     "text": [
      "Epoch 795:\n"
     ]
    },
    {
     "name": "stderr",
     "output_type": "stream",
     "text": [
      " lr 0.000021\t: 100%|██████████| 494/494 [03:34<00:00,  2.30it/s, Transformer_Loss=0.479] \n"
     ]
    },
    {
     "name": "stdout",
     "output_type": "stream",
     "text": [
      "Epoch 796:\n"
     ]
    },
    {
     "name": "stderr",
     "output_type": "stream",
     "text": [
      " lr 0.000021\t: 100%|██████████| 494/494 [03:34<00:00,  2.30it/s, Transformer_Loss=4.08]  \n"
     ]
    },
    {
     "name": "stdout",
     "output_type": "stream",
     "text": [
      "Epoch 797:\n"
     ]
    },
    {
     "name": "stderr",
     "output_type": "stream",
     "text": [
      " lr 0.000021\t: 100%|██████████| 494/494 [03:34<00:00,  2.31it/s, Transformer_Loss=0.373] \n"
     ]
    },
    {
     "name": "stdout",
     "output_type": "stream",
     "text": [
      "Epoch 798:\n"
     ]
    },
    {
     "name": "stderr",
     "output_type": "stream",
     "text": [
      " lr 0.000021\t: 100%|██████████| 494/494 [03:34<00:00,  2.30it/s, Transformer_Loss=0.0477]\n"
     ]
    },
    {
     "name": "stdout",
     "output_type": "stream",
     "text": [
      "Epoch 799:\n"
     ]
    },
    {
     "name": "stderr",
     "output_type": "stream",
     "text": [
      " lr 0.000021\t: 100%|██████████| 494/494 [03:34<00:00,  2.31it/s, Transformer_Loss=0.798] \n"
     ]
    },
    {
     "name": "stdout",
     "output_type": "stream",
     "text": [
      "Epoch 800:\n"
     ]
    },
    {
     "name": "stderr",
     "output_type": "stream",
     "text": [
      " lr 0.000020\t: 100%|██████████| 494/494 [03:34<00:00,  2.31it/s, Transformer_Loss=0.183] \n"
     ]
    },
    {
     "name": "stdout",
     "output_type": "stream",
     "text": [
      "Epoch 801:\n"
     ]
    },
    {
     "name": "stderr",
     "output_type": "stream",
     "text": [
      " lr 0.000020\t: 100%|██████████| 494/494 [03:34<00:00,  2.30it/s, Transformer_Loss=3.43]  \n"
     ]
    },
    {
     "name": "stdout",
     "output_type": "stream",
     "text": [
      "Epoch 802:\n"
     ]
    },
    {
     "name": "stderr",
     "output_type": "stream",
     "text": [
      " lr 0.000020\t: 100%|██████████| 494/494 [03:34<00:00,  2.30it/s, Transformer_Loss=0.71]  \n"
     ]
    },
    {
     "name": "stdout",
     "output_type": "stream",
     "text": [
      "Epoch 803:\n"
     ]
    },
    {
     "name": "stderr",
     "output_type": "stream",
     "text": [
      " lr 0.000020\t: 100%|██████████| 494/494 [03:34<00:00,  2.31it/s, Transformer_Loss=0.462] \n"
     ]
    },
    {
     "name": "stdout",
     "output_type": "stream",
     "text": [
      "Epoch 804:\n"
     ]
    },
    {
     "name": "stderr",
     "output_type": "stream",
     "text": [
      " lr 0.000020\t: 100%|██████████| 494/494 [03:34<00:00,  2.30it/s, Transformer_Loss=3.54]  \n"
     ]
    },
    {
     "name": "stdout",
     "output_type": "stream",
     "text": [
      "Epoch 805:\n"
     ]
    },
    {
     "name": "stderr",
     "output_type": "stream",
     "text": [
      " lr 0.000020\t: 100%|██████████| 494/494 [03:34<00:00,  2.31it/s, Transformer_Loss=0.274] \n"
     ]
    },
    {
     "name": "stdout",
     "output_type": "stream",
     "text": [
      "Epoch 806:\n"
     ]
    },
    {
     "name": "stderr",
     "output_type": "stream",
     "text": [
      " lr 0.000020\t: 100%|██████████| 494/494 [03:34<00:00,  2.30it/s, Transformer_Loss=0.357] \n"
     ]
    },
    {
     "name": "stdout",
     "output_type": "stream",
     "text": [
      "Epoch 807:\n"
     ]
    },
    {
     "name": "stderr",
     "output_type": "stream",
     "text": [
      " lr 0.000020\t: 100%|██████████| 494/494 [03:34<00:00,  2.31it/s, Transformer_Loss=0.418] \n"
     ]
    },
    {
     "name": "stdout",
     "output_type": "stream",
     "text": [
      "Epoch 808:\n"
     ]
    },
    {
     "name": "stderr",
     "output_type": "stream",
     "text": [
      " lr 0.000020\t: 100%|██████████| 494/494 [03:34<00:00,  2.30it/s, Transformer_Loss=2.42]  \n"
     ]
    },
    {
     "name": "stdout",
     "output_type": "stream",
     "text": [
      "Epoch 809:\n"
     ]
    },
    {
     "name": "stderr",
     "output_type": "stream",
     "text": [
      " lr 0.000019\t: 100%|██████████| 494/494 [03:34<00:00,  2.31it/s, Transformer_Loss=0.4]   \n"
     ]
    },
    {
     "name": "stdout",
     "output_type": "stream",
     "text": [
      "Epoch 810:\n"
     ]
    },
    {
     "name": "stderr",
     "output_type": "stream",
     "text": [
      " lr 0.000019\t: 100%|██████████| 494/494 [03:34<00:00,  2.30it/s, Transformer_Loss=0.173] \n"
     ]
    },
    {
     "name": "stdout",
     "output_type": "stream",
     "text": [
      "Epoch 811:\n"
     ]
    },
    {
     "name": "stderr",
     "output_type": "stream",
     "text": [
      " lr 0.000019\t: 100%|██████████| 494/494 [03:34<00:00,  2.31it/s, Transformer_Loss=1.59]  \n"
     ]
    },
    {
     "name": "stdout",
     "output_type": "stream",
     "text": [
      "Epoch 812:\n"
     ]
    },
    {
     "name": "stderr",
     "output_type": "stream",
     "text": [
      " lr 0.000019\t: 100%|██████████| 494/494 [03:34<00:00,  2.30it/s, Transformer_Loss=3.48]  \n"
     ]
    },
    {
     "name": "stdout",
     "output_type": "stream",
     "text": [
      "Epoch 813:\n"
     ]
    },
    {
     "name": "stderr",
     "output_type": "stream",
     "text": [
      " lr 0.000019\t: 100%|██████████| 494/494 [03:34<00:00,  2.31it/s, Transformer_Loss=3.24]  \n"
     ]
    },
    {
     "name": "stdout",
     "output_type": "stream",
     "text": [
      "Epoch 814:\n"
     ]
    },
    {
     "name": "stderr",
     "output_type": "stream",
     "text": [
      " lr 0.000019\t: 100%|██████████| 494/494 [03:34<00:00,  2.30it/s, Transformer_Loss=0.039] \n"
     ]
    },
    {
     "name": "stdout",
     "output_type": "stream",
     "text": [
      "Epoch 815:\n"
     ]
    },
    {
     "name": "stderr",
     "output_type": "stream",
     "text": [
      " lr 0.000019\t: 100%|██████████| 494/494 [03:34<00:00,  2.30it/s, Transformer_Loss=3.45]  \n"
     ]
    },
    {
     "name": "stdout",
     "output_type": "stream",
     "text": [
      "Epoch 816:\n"
     ]
    },
    {
     "name": "stderr",
     "output_type": "stream",
     "text": [
      " lr 0.000019\t: 100%|██████████| 494/494 [03:34<00:00,  2.30it/s, Transformer_Loss=0.23]  \n"
     ]
    },
    {
     "name": "stdout",
     "output_type": "stream",
     "text": [
      "Epoch 817:\n"
     ]
    },
    {
     "name": "stderr",
     "output_type": "stream",
     "text": [
      " lr 0.000019\t: 100%|██████████| 494/494 [03:34<00:00,  2.31it/s, Transformer_Loss=0.0363]\n"
     ]
    },
    {
     "name": "stdout",
     "output_type": "stream",
     "text": [
      "Epoch 818:\n"
     ]
    },
    {
     "name": "stderr",
     "output_type": "stream",
     "text": [
      " lr 0.000019\t: 100%|██████████| 494/494 [03:34<00:00,  2.31it/s, Transformer_Loss=0.0279]\n"
     ]
    },
    {
     "name": "stdout",
     "output_type": "stream",
     "text": [
      "Epoch 819:\n"
     ]
    },
    {
     "name": "stderr",
     "output_type": "stream",
     "text": [
      " lr 0.000018\t: 100%|██████████| 494/494 [03:34<00:00,  2.31it/s, Transformer_Loss=2.86]  \n"
     ]
    },
    {
     "name": "stdout",
     "output_type": "stream",
     "text": [
      "Epoch 820:\n"
     ]
    },
    {
     "name": "stderr",
     "output_type": "stream",
     "text": [
      " lr 0.000018\t: 100%|██████████| 494/494 [03:34<00:00,  2.30it/s, Transformer_Loss=2.75]  \n"
     ]
    },
    {
     "name": "stdout",
     "output_type": "stream",
     "text": [
      "Epoch 821:\n"
     ]
    },
    {
     "name": "stderr",
     "output_type": "stream",
     "text": [
      " lr 0.000018\t: 100%|██████████| 494/494 [03:33<00:00,  2.31it/s, Transformer_Loss=0.827] \n"
     ]
    },
    {
     "name": "stdout",
     "output_type": "stream",
     "text": [
      "Epoch 822:\n"
     ]
    },
    {
     "name": "stderr",
     "output_type": "stream",
     "text": [
      " lr 0.000018\t: 100%|██████████| 494/494 [03:34<00:00,  2.31it/s, Transformer_Loss=0.424] \n"
     ]
    },
    {
     "name": "stdout",
     "output_type": "stream",
     "text": [
      "Epoch 823:\n"
     ]
    },
    {
     "name": "stderr",
     "output_type": "stream",
     "text": [
      " lr 0.000018\t: 100%|██████████| 494/494 [03:34<00:00,  2.31it/s, Transformer_Loss=1.57]  \n"
     ]
    },
    {
     "name": "stdout",
     "output_type": "stream",
     "text": [
      "Epoch 824:\n"
     ]
    },
    {
     "name": "stderr",
     "output_type": "stream",
     "text": [
      " lr 0.000018\t: 100%|██████████| 494/494 [03:33<00:00,  2.31it/s, Transformer_Loss=3.23]  \n"
     ]
    },
    {
     "name": "stdout",
     "output_type": "stream",
     "text": [
      "Epoch 825:\n"
     ]
    },
    {
     "name": "stderr",
     "output_type": "stream",
     "text": [
      " lr 0.000018\t: 100%|██████████| 494/494 [03:34<00:00,  2.31it/s, Transformer_Loss=2.18]  \n"
     ]
    },
    {
     "name": "stdout",
     "output_type": "stream",
     "text": [
      "Epoch 826:\n"
     ]
    },
    {
     "name": "stderr",
     "output_type": "stream",
     "text": [
      " lr 0.000018\t: 100%|██████████| 494/494 [03:34<00:00,  2.31it/s, Transformer_Loss=0.0949]\n"
     ]
    },
    {
     "name": "stdout",
     "output_type": "stream",
     "text": [
      "Epoch 827:\n"
     ]
    },
    {
     "name": "stderr",
     "output_type": "stream",
     "text": [
      " lr 0.000018\t: 100%|██████████| 494/494 [03:33<00:00,  2.32it/s, Transformer_Loss=0.939] \n"
     ]
    },
    {
     "name": "stdout",
     "output_type": "stream",
     "text": [
      "Epoch 828:\n"
     ]
    },
    {
     "name": "stderr",
     "output_type": "stream",
     "text": [
      " lr 0.000018\t: 100%|██████████| 494/494 [03:34<00:00,  2.31it/s, Transformer_Loss=0.68]  \n"
     ]
    },
    {
     "name": "stdout",
     "output_type": "stream",
     "text": [
      "Epoch 829:\n"
     ]
    },
    {
     "name": "stderr",
     "output_type": "stream",
     "text": [
      " lr 0.000017\t: 100%|██████████| 494/494 [03:33<00:00,  2.31it/s, Transformer_Loss=0.703] \n"
     ]
    },
    {
     "name": "stdout",
     "output_type": "stream",
     "text": [
      "Epoch 830:\n"
     ]
    },
    {
     "name": "stderr",
     "output_type": "stream",
     "text": [
      " lr 0.000017\t: 100%|██████████| 494/494 [03:33<00:00,  2.31it/s, Transformer_Loss=0.802] \n"
     ]
    },
    {
     "name": "stdout",
     "output_type": "stream",
     "text": [
      "Epoch 831:\n"
     ]
    },
    {
     "name": "stderr",
     "output_type": "stream",
     "text": [
      " lr 0.000017\t: 100%|██████████| 494/494 [03:33<00:00,  2.31it/s, Transformer_Loss=0.687] \n"
     ]
    },
    {
     "name": "stdout",
     "output_type": "stream",
     "text": [
      "Epoch 832:\n"
     ]
    },
    {
     "name": "stderr",
     "output_type": "stream",
     "text": [
      " lr 0.000017\t: 100%|██████████| 494/494 [03:33<00:00,  2.31it/s, Transformer_Loss=1.3]   \n"
     ]
    },
    {
     "name": "stdout",
     "output_type": "stream",
     "text": [
      "Epoch 833:\n"
     ]
    },
    {
     "name": "stderr",
     "output_type": "stream",
     "text": [
      " lr 0.000017\t: 100%|██████████| 494/494 [03:33<00:00,  2.32it/s, Transformer_Loss=3.36]  \n"
     ]
    },
    {
     "name": "stdout",
     "output_type": "stream",
     "text": [
      "Epoch 834:\n"
     ]
    },
    {
     "name": "stderr",
     "output_type": "stream",
     "text": [
      " lr 0.000017\t: 100%|██████████| 494/494 [03:33<00:00,  2.31it/s, Transformer_Loss=0.651] \n"
     ]
    },
    {
     "name": "stdout",
     "output_type": "stream",
     "text": [
      "Epoch 835:\n"
     ]
    },
    {
     "name": "stderr",
     "output_type": "stream",
     "text": [
      " lr 0.000017\t: 100%|██████████| 494/494 [03:33<00:00,  2.31it/s, Transformer_Loss=1.37]  \n"
     ]
    },
    {
     "name": "stdout",
     "output_type": "stream",
     "text": [
      "Epoch 836:\n"
     ]
    },
    {
     "name": "stderr",
     "output_type": "stream",
     "text": [
      " lr 0.000017\t: 100%|██████████| 494/494 [03:33<00:00,  2.31it/s, Transformer_Loss=0.0262]\n"
     ]
    },
    {
     "name": "stdout",
     "output_type": "stream",
     "text": [
      "Epoch 837:\n"
     ]
    },
    {
     "name": "stderr",
     "output_type": "stream",
     "text": [
      " lr 0.000017\t: 100%|██████████| 494/494 [03:33<00:00,  2.31it/s, Transformer_Loss=1.27]  \n"
     ]
    },
    {
     "name": "stdout",
     "output_type": "stream",
     "text": [
      "Epoch 838:\n"
     ]
    },
    {
     "name": "stderr",
     "output_type": "stream",
     "text": [
      " lr 0.000017\t: 100%|██████████| 494/494 [03:33<00:00,  2.32it/s, Transformer_Loss=0.811] \n"
     ]
    },
    {
     "name": "stdout",
     "output_type": "stream",
     "text": [
      "Epoch 839:\n"
     ]
    },
    {
     "name": "stderr",
     "output_type": "stream",
     "text": [
      " lr 0.000016\t: 100%|██████████| 494/494 [03:33<00:00,  2.32it/s, Transformer_Loss=1.98]  \n"
     ]
    },
    {
     "name": "stdout",
     "output_type": "stream",
     "text": [
      "Epoch 840:\n"
     ]
    },
    {
     "name": "stderr",
     "output_type": "stream",
     "text": [
      " lr 0.000016\t: 100%|██████████| 494/494 [03:33<00:00,  2.32it/s, Transformer_Loss=0.351] \n"
     ]
    },
    {
     "name": "stdout",
     "output_type": "stream",
     "text": [
      "Epoch 841:\n"
     ]
    },
    {
     "name": "stderr",
     "output_type": "stream",
     "text": [
      " lr 0.000016\t: 100%|██████████| 494/494 [03:33<00:00,  2.32it/s, Transformer_Loss=0.388] \n"
     ]
    },
    {
     "name": "stdout",
     "output_type": "stream",
     "text": [
      "Epoch 842:\n"
     ]
    },
    {
     "name": "stderr",
     "output_type": "stream",
     "text": [
      " lr 0.000016\t: 100%|██████████| 494/494 [03:32<00:00,  2.32it/s, Transformer_Loss=1.3]   \n"
     ]
    },
    {
     "name": "stdout",
     "output_type": "stream",
     "text": [
      "Epoch 843:\n"
     ]
    },
    {
     "name": "stderr",
     "output_type": "stream",
     "text": [
      " lr 0.000016\t: 100%|██████████| 494/494 [03:33<00:00,  2.32it/s, Transformer_Loss=0.891] \n"
     ]
    },
    {
     "name": "stdout",
     "output_type": "stream",
     "text": [
      "Epoch 844:\n"
     ]
    },
    {
     "name": "stderr",
     "output_type": "stream",
     "text": [
      " lr 0.000016\t: 100%|██████████| 494/494 [03:33<00:00,  2.32it/s, Transformer_Loss=1.98]  \n"
     ]
    },
    {
     "name": "stdout",
     "output_type": "stream",
     "text": [
      "Epoch 845:\n"
     ]
    },
    {
     "name": "stderr",
     "output_type": "stream",
     "text": [
      " lr 0.000016\t: 100%|██████████| 494/494 [03:32<00:00,  2.32it/s, Transformer_Loss=0.0805]\n"
     ]
    },
    {
     "name": "stdout",
     "output_type": "stream",
     "text": [
      "Epoch 846:\n"
     ]
    },
    {
     "name": "stderr",
     "output_type": "stream",
     "text": [
      " lr 0.000016\t: 100%|██████████| 494/494 [03:32<00:00,  2.32it/s, Transformer_Loss=1.66]  \n"
     ]
    },
    {
     "name": "stdout",
     "output_type": "stream",
     "text": [
      "Epoch 847:\n"
     ]
    },
    {
     "name": "stderr",
     "output_type": "stream",
     "text": [
      " lr 0.000016\t: 100%|██████████| 494/494 [03:33<00:00,  2.32it/s, Transformer_Loss=1.06]  \n"
     ]
    },
    {
     "name": "stdout",
     "output_type": "stream",
     "text": [
      "Epoch 848:\n"
     ]
    },
    {
     "name": "stderr",
     "output_type": "stream",
     "text": [
      " lr 0.000016\t: 100%|██████████| 494/494 [03:33<00:00,  2.32it/s, Transformer_Loss=1.2]   \n"
     ]
    },
    {
     "name": "stdout",
     "output_type": "stream",
     "text": [
      "Epoch 849:\n"
     ]
    },
    {
     "name": "stderr",
     "output_type": "stream",
     "text": [
      " lr 0.000015\t: 100%|██████████| 494/494 [03:33<00:00,  2.32it/s, Transformer_Loss=0.512] \n"
     ]
    },
    {
     "name": "stdout",
     "output_type": "stream",
     "text": [
      "Epoch 850:\n"
     ]
    },
    {
     "name": "stderr",
     "output_type": "stream",
     "text": [
      " lr 0.000015\t: 100%|██████████| 494/494 [03:32<00:00,  2.32it/s, Transformer_Loss=0.773] \n"
     ]
    },
    {
     "name": "stdout",
     "output_type": "stream",
     "text": [
      "Epoch 851:\n"
     ]
    },
    {
     "name": "stderr",
     "output_type": "stream",
     "text": [
      " lr 0.000015\t: 100%|██████████| 494/494 [03:33<00:00,  2.31it/s, Transformer_Loss=2.59]  \n"
     ]
    },
    {
     "name": "stdout",
     "output_type": "stream",
     "text": [
      "Epoch 852:\n"
     ]
    },
    {
     "name": "stderr",
     "output_type": "stream",
     "text": [
      " lr 0.000015\t: 100%|██████████| 494/494 [03:32<00:00,  2.32it/s, Transformer_Loss=2.05]  \n"
     ]
    },
    {
     "name": "stdout",
     "output_type": "stream",
     "text": [
      "Epoch 853:\n"
     ]
    },
    {
     "name": "stderr",
     "output_type": "stream",
     "text": [
      " lr 0.000015\t: 100%|██████████| 494/494 [03:33<00:00,  2.32it/s, Transformer_Loss=0.122] \n"
     ]
    },
    {
     "name": "stdout",
     "output_type": "stream",
     "text": [
      "Epoch 854:\n"
     ]
    },
    {
     "name": "stderr",
     "output_type": "stream",
     "text": [
      " lr 0.000015\t: 100%|██████████| 494/494 [03:33<00:00,  2.32it/s, Transformer_Loss=0.22]  \n"
     ]
    },
    {
     "name": "stdout",
     "output_type": "stream",
     "text": [
      "Epoch 855:\n"
     ]
    },
    {
     "name": "stderr",
     "output_type": "stream",
     "text": [
      " lr 0.000015\t: 100%|██████████| 494/494 [03:33<00:00,  2.32it/s, Transformer_Loss=0.031] \n"
     ]
    },
    {
     "name": "stdout",
     "output_type": "stream",
     "text": [
      "Epoch 856:\n"
     ]
    },
    {
     "name": "stderr",
     "output_type": "stream",
     "text": [
      " lr 0.000015\t: 100%|██████████| 494/494 [03:32<00:00,  2.32it/s, Transformer_Loss=2.28]  \n"
     ]
    },
    {
     "name": "stdout",
     "output_type": "stream",
     "text": [
      "Epoch 857:\n"
     ]
    },
    {
     "name": "stderr",
     "output_type": "stream",
     "text": [
      " lr 0.000015\t: 100%|██████████| 494/494 [03:33<00:00,  2.32it/s, Transformer_Loss=0.183] \n"
     ]
    },
    {
     "name": "stdout",
     "output_type": "stream",
     "text": [
      "Epoch 858:\n"
     ]
    },
    {
     "name": "stderr",
     "output_type": "stream",
     "text": [
      " lr 0.000015\t: 100%|██████████| 494/494 [03:32<00:00,  2.32it/s, Transformer_Loss=1.77]  \n"
     ]
    },
    {
     "name": "stdout",
     "output_type": "stream",
     "text": [
      "Epoch 859:\n"
     ]
    },
    {
     "name": "stderr",
     "output_type": "stream",
     "text": [
      " lr 0.000014\t: 100%|██████████| 494/494 [03:33<00:00,  2.32it/s, Transformer_Loss=0.301] \n"
     ]
    },
    {
     "name": "stdout",
     "output_type": "stream",
     "text": [
      "Epoch 860:\n"
     ]
    },
    {
     "name": "stderr",
     "output_type": "stream",
     "text": [
      " lr 0.000014\t: 100%|██████████| 494/494 [03:33<00:00,  2.32it/s, Transformer_Loss=0.594] \n"
     ]
    },
    {
     "name": "stdout",
     "output_type": "stream",
     "text": [
      "Epoch 861:\n"
     ]
    },
    {
     "name": "stderr",
     "output_type": "stream",
     "text": [
      " lr 0.000014\t: 100%|██████████| 494/494 [03:33<00:00,  2.32it/s, Transformer_Loss=1.15]  \n"
     ]
    },
    {
     "name": "stdout",
     "output_type": "stream",
     "text": [
      "Epoch 862:\n"
     ]
    },
    {
     "name": "stderr",
     "output_type": "stream",
     "text": [
      " lr 0.000014\t: 100%|██████████| 494/494 [03:32<00:00,  2.32it/s, Transformer_Loss=1.89]  \n"
     ]
    },
    {
     "name": "stdout",
     "output_type": "stream",
     "text": [
      "Epoch 863:\n"
     ]
    },
    {
     "name": "stderr",
     "output_type": "stream",
     "text": [
      " lr 0.000014\t: 100%|██████████| 494/494 [03:33<00:00,  2.32it/s, Transformer_Loss=1.09]  \n"
     ]
    },
    {
     "name": "stdout",
     "output_type": "stream",
     "text": [
      "Epoch 864:\n"
     ]
    },
    {
     "name": "stderr",
     "output_type": "stream",
     "text": [
      " lr 0.000014\t: 100%|██████████| 494/494 [03:33<00:00,  2.32it/s, Transformer_Loss=0.166] \n"
     ]
    },
    {
     "name": "stdout",
     "output_type": "stream",
     "text": [
      "Epoch 865:\n"
     ]
    },
    {
     "name": "stderr",
     "output_type": "stream",
     "text": [
      " lr 0.000014\t: 100%|██████████| 494/494 [03:33<00:00,  2.32it/s, Transformer_Loss=0.2]   \n"
     ]
    },
    {
     "name": "stdout",
     "output_type": "stream",
     "text": [
      "Epoch 866:\n"
     ]
    },
    {
     "name": "stderr",
     "output_type": "stream",
     "text": [
      " lr 0.000014\t: 100%|██████████| 494/494 [03:32<00:00,  2.32it/s, Transformer_Loss=0.0519]\n"
     ]
    },
    {
     "name": "stdout",
     "output_type": "stream",
     "text": [
      "Epoch 867:\n"
     ]
    },
    {
     "name": "stderr",
     "output_type": "stream",
     "text": [
      " lr 0.000014\t: 100%|██████████| 494/494 [03:33<00:00,  2.32it/s, Transformer_Loss=0.285] \n"
     ]
    },
    {
     "name": "stdout",
     "output_type": "stream",
     "text": [
      "Epoch 868:\n"
     ]
    },
    {
     "name": "stderr",
     "output_type": "stream",
     "text": [
      " lr 0.000014\t: 100%|██████████| 494/494 [03:33<00:00,  2.32it/s, Transformer_Loss=0.0402]\n"
     ]
    },
    {
     "name": "stdout",
     "output_type": "stream",
     "text": [
      "Epoch 869:\n"
     ]
    },
    {
     "name": "stderr",
     "output_type": "stream",
     "text": [
      " lr 0.000013\t: 100%|██████████| 494/494 [03:32<00:00,  2.32it/s, Transformer_Loss=1.44]  \n"
     ]
    },
    {
     "name": "stdout",
     "output_type": "stream",
     "text": [
      "Epoch 870:\n"
     ]
    },
    {
     "name": "stderr",
     "output_type": "stream",
     "text": [
      " lr 0.000013\t: 100%|██████████| 494/494 [03:32<00:00,  2.32it/s, Transformer_Loss=2.6]   \n"
     ]
    },
    {
     "name": "stdout",
     "output_type": "stream",
     "text": [
      "Epoch 871:\n"
     ]
    },
    {
     "name": "stderr",
     "output_type": "stream",
     "text": [
      " lr 0.000013\t: 100%|██████████| 494/494 [03:33<00:00,  2.32it/s, Transformer_Loss=2.03]  \n"
     ]
    },
    {
     "name": "stdout",
     "output_type": "stream",
     "text": [
      "Epoch 872:\n"
     ]
    },
    {
     "name": "stderr",
     "output_type": "stream",
     "text": [
      " lr 0.000013\t: 100%|██████████| 494/494 [03:32<00:00,  2.32it/s, Transformer_Loss=0.617] \n"
     ]
    },
    {
     "name": "stdout",
     "output_type": "stream",
     "text": [
      "Epoch 873:\n"
     ]
    },
    {
     "name": "stderr",
     "output_type": "stream",
     "text": [
      " lr 0.000013\t: 100%|██████████| 494/494 [03:32<00:00,  2.32it/s, Transformer_Loss=1.31]  \n"
     ]
    },
    {
     "name": "stdout",
     "output_type": "stream",
     "text": [
      "Epoch 874:\n"
     ]
    },
    {
     "name": "stderr",
     "output_type": "stream",
     "text": [
      " lr 0.000013\t: 100%|██████████| 494/494 [03:32<00:00,  2.32it/s, Transformer_Loss=0.375] \n"
     ]
    },
    {
     "name": "stdout",
     "output_type": "stream",
     "text": [
      "Epoch 875:\n"
     ]
    },
    {
     "name": "stderr",
     "output_type": "stream",
     "text": [
      " lr 0.000013\t: 100%|██████████| 494/494 [03:33<00:00,  2.32it/s, Transformer_Loss=0.815] \n"
     ]
    },
    {
     "name": "stdout",
     "output_type": "stream",
     "text": [
      "Epoch 876:\n"
     ]
    },
    {
     "name": "stderr",
     "output_type": "stream",
     "text": [
      " lr 0.000013\t: 100%|██████████| 494/494 [03:32<00:00,  2.32it/s, Transformer_Loss=2.16]  \n"
     ]
    },
    {
     "name": "stdout",
     "output_type": "stream",
     "text": [
      "Epoch 877:\n"
     ]
    },
    {
     "name": "stderr",
     "output_type": "stream",
     "text": [
      " lr 0.000013\t: 100%|██████████| 494/494 [03:33<00:00,  2.32it/s, Transformer_Loss=0.688] \n"
     ]
    },
    {
     "name": "stdout",
     "output_type": "stream",
     "text": [
      "Epoch 878:\n"
     ]
    },
    {
     "name": "stderr",
     "output_type": "stream",
     "text": [
      " lr 0.000013\t: 100%|██████████| 494/494 [03:32<00:00,  2.32it/s, Transformer_Loss=0.16]  \n"
     ]
    },
    {
     "name": "stdout",
     "output_type": "stream",
     "text": [
      "Epoch 879:\n"
     ]
    },
    {
     "name": "stderr",
     "output_type": "stream",
     "text": [
      " lr 0.000012\t: 100%|██████████| 494/494 [03:32<00:00,  2.32it/s, Transformer_Loss=0.122] \n"
     ]
    },
    {
     "name": "stdout",
     "output_type": "stream",
     "text": [
      "Epoch 880:\n"
     ]
    },
    {
     "name": "stderr",
     "output_type": "stream",
     "text": [
      " lr 0.000012\t: 100%|██████████| 494/494 [03:32<00:00,  2.32it/s, Transformer_Loss=2.89]  \n"
     ]
    },
    {
     "name": "stdout",
     "output_type": "stream",
     "text": [
      "Epoch 881:\n"
     ]
    },
    {
     "name": "stderr",
     "output_type": "stream",
     "text": [
      " lr 0.000012\t: 100%|██████████| 494/494 [03:33<00:00,  2.32it/s, Transformer_Loss=3.67]  \n"
     ]
    },
    {
     "name": "stdout",
     "output_type": "stream",
     "text": [
      "Epoch 882:\n"
     ]
    },
    {
     "name": "stderr",
     "output_type": "stream",
     "text": [
      " lr 0.000012\t: 100%|██████████| 494/494 [03:32<00:00,  2.32it/s, Transformer_Loss=0.581] \n"
     ]
    },
    {
     "name": "stdout",
     "output_type": "stream",
     "text": [
      "Epoch 883:\n"
     ]
    },
    {
     "name": "stderr",
     "output_type": "stream",
     "text": [
      " lr 0.000012\t: 100%|██████████| 494/494 [03:32<00:00,  2.32it/s, Transformer_Loss=1.57]  \n"
     ]
    },
    {
     "name": "stdout",
     "output_type": "stream",
     "text": [
      "Epoch 884:\n"
     ]
    },
    {
     "name": "stderr",
     "output_type": "stream",
     "text": [
      " lr 0.000012\t: 100%|██████████| 494/494 [03:32<00:00,  2.32it/s, Transformer_Loss=0.693] \n"
     ]
    },
    {
     "name": "stdout",
     "output_type": "stream",
     "text": [
      "Epoch 885:\n"
     ]
    },
    {
     "name": "stderr",
     "output_type": "stream",
     "text": [
      " lr 0.000012\t: 100%|██████████| 494/494 [03:32<00:00,  2.32it/s, Transformer_Loss=3.83]  \n"
     ]
    },
    {
     "name": "stdout",
     "output_type": "stream",
     "text": [
      "Epoch 886:\n"
     ]
    },
    {
     "name": "stderr",
     "output_type": "stream",
     "text": [
      " lr 0.000012\t: 100%|██████████| 494/494 [03:32<00:00,  2.33it/s, Transformer_Loss=0.0459]\n"
     ]
    },
    {
     "name": "stdout",
     "output_type": "stream",
     "text": [
      "Epoch 887:\n"
     ]
    },
    {
     "name": "stderr",
     "output_type": "stream",
     "text": [
      " lr 0.000012\t: 100%|██████████| 494/494 [03:32<00:00,  2.32it/s, Transformer_Loss=0.422] \n"
     ]
    },
    {
     "name": "stdout",
     "output_type": "stream",
     "text": [
      "Epoch 888:\n"
     ]
    },
    {
     "name": "stderr",
     "output_type": "stream",
     "text": [
      " lr 0.000012\t: 100%|██████████| 494/494 [03:32<00:00,  2.33it/s, Transformer_Loss=3.63]  \n"
     ]
    },
    {
     "name": "stdout",
     "output_type": "stream",
     "text": [
      "Epoch 889:\n"
     ]
    },
    {
     "name": "stderr",
     "output_type": "stream",
     "text": [
      " lr 0.000011\t: 100%|██████████| 494/494 [03:33<00:00,  2.32it/s, Transformer_Loss=1.18]  \n"
     ]
    },
    {
     "name": "stdout",
     "output_type": "stream",
     "text": [
      "Epoch 890:\n"
     ]
    },
    {
     "name": "stderr",
     "output_type": "stream",
     "text": [
      " lr 0.000011\t: 100%|██████████| 494/494 [03:32<00:00,  2.32it/s, Transformer_Loss=2.55]  \n"
     ]
    },
    {
     "name": "stdout",
     "output_type": "stream",
     "text": [
      "Epoch 891:\n"
     ]
    },
    {
     "name": "stderr",
     "output_type": "stream",
     "text": [
      " lr 0.000011\t: 100%|██████████| 494/494 [03:33<00:00,  2.32it/s, Transformer_Loss=3.64]  \n"
     ]
    },
    {
     "name": "stdout",
     "output_type": "stream",
     "text": [
      "Epoch 892:\n"
     ]
    },
    {
     "name": "stderr",
     "output_type": "stream",
     "text": [
      " lr 0.000011\t: 100%|██████████| 494/494 [03:32<00:00,  2.32it/s, Transformer_Loss=0.264] \n"
     ]
    },
    {
     "name": "stdout",
     "output_type": "stream",
     "text": [
      "Epoch 893:\n"
     ]
    },
    {
     "name": "stderr",
     "output_type": "stream",
     "text": [
      " lr 0.000011\t: 100%|██████████| 494/494 [03:33<00:00,  2.32it/s, Transformer_Loss=1.66]  \n"
     ]
    },
    {
     "name": "stdout",
     "output_type": "stream",
     "text": [
      "Epoch 894:\n"
     ]
    },
    {
     "name": "stderr",
     "output_type": "stream",
     "text": [
      " lr 0.000011\t: 100%|██████████| 494/494 [03:32<00:00,  2.32it/s, Transformer_Loss=0.184] \n"
     ]
    },
    {
     "name": "stdout",
     "output_type": "stream",
     "text": [
      "Epoch 895:\n"
     ]
    },
    {
     "name": "stderr",
     "output_type": "stream",
     "text": [
      " lr 0.000011\t: 100%|██████████| 494/494 [03:32<00:00,  2.32it/s, Transformer_Loss=4.95]  \n"
     ]
    },
    {
     "name": "stdout",
     "output_type": "stream",
     "text": [
      "Epoch 896:\n"
     ]
    },
    {
     "name": "stderr",
     "output_type": "stream",
     "text": [
      " lr 0.000011\t: 100%|██████████| 494/494 [03:32<00:00,  2.32it/s, Transformer_Loss=2.14]  \n"
     ]
    },
    {
     "name": "stdout",
     "output_type": "stream",
     "text": [
      "Epoch 897:\n"
     ]
    },
    {
     "name": "stderr",
     "output_type": "stream",
     "text": [
      " lr 0.000011\t: 100%|██████████| 494/494 [03:32<00:00,  2.32it/s, Transformer_Loss=2.09]  \n"
     ]
    },
    {
     "name": "stdout",
     "output_type": "stream",
     "text": [
      "Epoch 898:\n"
     ]
    },
    {
     "name": "stderr",
     "output_type": "stream",
     "text": [
      " lr 0.000011\t: 100%|██████████| 494/494 [03:32<00:00,  2.32it/s, Transformer_Loss=0.118] \n"
     ]
    },
    {
     "name": "stdout",
     "output_type": "stream",
     "text": [
      "Epoch 899:\n"
     ]
    },
    {
     "name": "stderr",
     "output_type": "stream",
     "text": [
      " lr 0.000010\t: 100%|██████████| 494/494 [03:33<00:00,  2.32it/s, Transformer_Loss=0.0413]\n"
     ]
    },
    {
     "name": "stdout",
     "output_type": "stream",
     "text": [
      "Epoch 900:\n"
     ]
    },
    {
     "name": "stderr",
     "output_type": "stream",
     "text": [
      " lr 0.000010\t: 100%|██████████| 494/494 [03:32<00:00,  2.32it/s, Transformer_Loss=2.1]   \n"
     ]
    },
    {
     "name": "stdout",
     "output_type": "stream",
     "text": [
      "Epoch 901:\n"
     ]
    },
    {
     "name": "stderr",
     "output_type": "stream",
     "text": [
      " lr 0.000010\t: 100%|██████████| 494/494 [03:32<00:00,  2.32it/s, Transformer_Loss=1.5]   \n"
     ]
    },
    {
     "name": "stdout",
     "output_type": "stream",
     "text": [
      "Epoch 902:\n"
     ]
    },
    {
     "name": "stderr",
     "output_type": "stream",
     "text": [
      " lr 0.000010\t: 100%|██████████| 494/494 [03:32<00:00,  2.32it/s, Transformer_Loss=0.731] \n"
     ]
    },
    {
     "name": "stdout",
     "output_type": "stream",
     "text": [
      "Epoch 903:\n"
     ]
    },
    {
     "name": "stderr",
     "output_type": "stream",
     "text": [
      " lr 0.000010\t: 100%|██████████| 494/494 [03:32<00:00,  2.32it/s, Transformer_Loss=0.565] \n"
     ]
    },
    {
     "name": "stdout",
     "output_type": "stream",
     "text": [
      "Epoch 904:\n"
     ]
    },
    {
     "name": "stderr",
     "output_type": "stream",
     "text": [
      " lr 0.000010\t: 100%|██████████| 494/494 [03:32<00:00,  2.32it/s, Transformer_Loss=0.543] \n"
     ]
    },
    {
     "name": "stdout",
     "output_type": "stream",
     "text": [
      "Epoch 905:\n"
     ]
    },
    {
     "name": "stderr",
     "output_type": "stream",
     "text": [
      " lr 0.000010\t: 100%|██████████| 494/494 [03:32<00:00,  2.32it/s, Transformer_Loss=4.12]  \n"
     ]
    },
    {
     "name": "stdout",
     "output_type": "stream",
     "text": [
      "Epoch 906:\n"
     ]
    },
    {
     "name": "stderr",
     "output_type": "stream",
     "text": [
      " lr 0.000010\t: 100%|██████████| 494/494 [03:32<00:00,  2.32it/s, Transformer_Loss=3.03]  \n"
     ]
    },
    {
     "name": "stdout",
     "output_type": "stream",
     "text": [
      "Epoch 907:\n"
     ]
    },
    {
     "name": "stderr",
     "output_type": "stream",
     "text": [
      " lr 0.000010\t: 100%|██████████| 494/494 [03:32<00:00,  2.32it/s, Transformer_Loss=4.52]  \n"
     ]
    },
    {
     "name": "stdout",
     "output_type": "stream",
     "text": [
      "Epoch 908:\n"
     ]
    },
    {
     "name": "stderr",
     "output_type": "stream",
     "text": [
      " lr 0.000009\t: 100%|██████████| 494/494 [03:32<00:00,  2.33it/s, Transformer_Loss=0.0398]\n"
     ]
    },
    {
     "name": "stdout",
     "output_type": "stream",
     "text": [
      "Epoch 909:\n"
     ]
    },
    {
     "name": "stderr",
     "output_type": "stream",
     "text": [
      " lr 0.000009\t: 100%|██████████| 494/494 [03:32<00:00,  2.32it/s, Transformer_Loss=0.125] \n"
     ]
    },
    {
     "name": "stdout",
     "output_type": "stream",
     "text": [
      "Epoch 910:\n"
     ]
    },
    {
     "name": "stderr",
     "output_type": "stream",
     "text": [
      " lr 0.000009\t: 100%|██████████| 494/494 [03:32<00:00,  2.32it/s, Transformer_Loss=0.921] \n"
     ]
    },
    {
     "name": "stdout",
     "output_type": "stream",
     "text": [
      "Epoch 911:\n"
     ]
    },
    {
     "name": "stderr",
     "output_type": "stream",
     "text": [
      " lr 0.000009\t: 100%|██████████| 494/494 [03:32<00:00,  2.32it/s, Transformer_Loss=0.218] \n"
     ]
    },
    {
     "name": "stdout",
     "output_type": "stream",
     "text": [
      "Epoch 912:\n"
     ]
    },
    {
     "name": "stderr",
     "output_type": "stream",
     "text": [
      " lr 0.000009\t: 100%|██████████| 494/494 [03:32<00:00,  2.32it/s, Transformer_Loss=1.94]  \n"
     ]
    },
    {
     "name": "stdout",
     "output_type": "stream",
     "text": [
      "Epoch 913:\n"
     ]
    },
    {
     "name": "stderr",
     "output_type": "stream",
     "text": [
      " lr 0.000009\t: 100%|██████████| 494/494 [03:33<00:00,  2.32it/s, Transformer_Loss=2.59]  \n"
     ]
    },
    {
     "name": "stdout",
     "output_type": "stream",
     "text": [
      "Epoch 914:\n"
     ]
    },
    {
     "name": "stderr",
     "output_type": "stream",
     "text": [
      " lr 0.000009\t: 100%|██████████| 494/494 [03:32<00:00,  2.32it/s, Transformer_Loss=3.81]  \n"
     ]
    },
    {
     "name": "stdout",
     "output_type": "stream",
     "text": [
      "Epoch 915:\n"
     ]
    },
    {
     "name": "stderr",
     "output_type": "stream",
     "text": [
      " lr 0.000009\t: 100%|██████████| 494/494 [03:32<00:00,  2.32it/s, Transformer_Loss=2.65]  \n"
     ]
    },
    {
     "name": "stdout",
     "output_type": "stream",
     "text": [
      "Epoch 916:\n"
     ]
    },
    {
     "name": "stderr",
     "output_type": "stream",
     "text": [
      " lr 0.000009\t: 100%|██████████| 494/494 [03:32<00:00,  2.32it/s, Transformer_Loss=1.29]  \n"
     ]
    },
    {
     "name": "stdout",
     "output_type": "stream",
     "text": [
      "Epoch 917:\n"
     ]
    },
    {
     "name": "stderr",
     "output_type": "stream",
     "text": [
      " lr 0.000009\t: 100%|██████████| 494/494 [03:32<00:00,  2.32it/s, Transformer_Loss=3.32]  \n"
     ]
    },
    {
     "name": "stdout",
     "output_type": "stream",
     "text": [
      "Epoch 918:\n"
     ]
    },
    {
     "name": "stderr",
     "output_type": "stream",
     "text": [
      " lr 0.000008\t: 100%|██████████| 494/494 [03:33<00:00,  2.32it/s, Transformer_Loss=0.545] \n"
     ]
    },
    {
     "name": "stdout",
     "output_type": "stream",
     "text": [
      "Epoch 919:\n"
     ]
    },
    {
     "name": "stderr",
     "output_type": "stream",
     "text": [
      " lr 0.000008\t: 100%|██████████| 494/494 [03:32<00:00,  2.33it/s, Transformer_Loss=2.57]  \n"
     ]
    },
    {
     "name": "stdout",
     "output_type": "stream",
     "text": [
      "Epoch 920:\n"
     ]
    },
    {
     "name": "stderr",
     "output_type": "stream",
     "text": [
      " lr 0.000008\t: 100%|██████████| 494/494 [03:32<00:00,  2.32it/s, Transformer_Loss=0.0898]\n"
     ]
    },
    {
     "name": "stdout",
     "output_type": "stream",
     "text": [
      "Epoch 921:\n"
     ]
    },
    {
     "name": "stderr",
     "output_type": "stream",
     "text": [
      " lr 0.000008\t: 100%|██████████| 494/494 [03:32<00:00,  2.32it/s, Transformer_Loss=0.353] \n"
     ]
    },
    {
     "name": "stdout",
     "output_type": "stream",
     "text": [
      "Epoch 922:\n"
     ]
    },
    {
     "name": "stderr",
     "output_type": "stream",
     "text": [
      " lr 0.000008\t: 100%|██████████| 494/494 [03:32<00:00,  2.32it/s, Transformer_Loss=0.258] \n"
     ]
    },
    {
     "name": "stdout",
     "output_type": "stream",
     "text": [
      "Epoch 923:\n"
     ]
    },
    {
     "name": "stderr",
     "output_type": "stream",
     "text": [
      " lr 0.000008\t: 100%|██████████| 494/494 [03:32<00:00,  2.33it/s, Transformer_Loss=3.22]  \n"
     ]
    },
    {
     "name": "stdout",
     "output_type": "stream",
     "text": [
      "Epoch 924:\n"
     ]
    },
    {
     "name": "stderr",
     "output_type": "stream",
     "text": [
      " lr 0.000008\t: 100%|██████████| 494/494 [03:33<00:00,  2.32it/s, Transformer_Loss=0.358] \n"
     ]
    },
    {
     "name": "stdout",
     "output_type": "stream",
     "text": [
      "Epoch 925:\n"
     ]
    },
    {
     "name": "stderr",
     "output_type": "stream",
     "text": [
      " lr 0.000008\t: 100%|██████████| 494/494 [03:32<00:00,  2.32it/s, Transformer_Loss=0.025] \n"
     ]
    },
    {
     "name": "stdout",
     "output_type": "stream",
     "text": [
      "Epoch 926:\n"
     ]
    },
    {
     "name": "stderr",
     "output_type": "stream",
     "text": [
      " lr 0.000008\t: 100%|██████████| 494/494 [03:33<00:00,  2.32it/s, Transformer_Loss=0.0247]\n"
     ]
    },
    {
     "name": "stdout",
     "output_type": "stream",
     "text": [
      "Epoch 927:\n"
     ]
    },
    {
     "name": "stderr",
     "output_type": "stream",
     "text": [
      " lr 0.000008\t: 100%|██████████| 494/494 [03:32<00:00,  2.33it/s, Transformer_Loss=0.667] \n"
     ]
    },
    {
     "name": "stdout",
     "output_type": "stream",
     "text": [
      "Epoch 928:\n"
     ]
    },
    {
     "name": "stderr",
     "output_type": "stream",
     "text": [
      " lr 0.000007\t: 100%|██████████| 494/494 [03:32<00:00,  2.32it/s, Transformer_Loss=0.0645]\n"
     ]
    },
    {
     "name": "stdout",
     "output_type": "stream",
     "text": [
      "Epoch 929:\n"
     ]
    },
    {
     "name": "stderr",
     "output_type": "stream",
     "text": [
      " lr 0.000007\t: 100%|██████████| 494/494 [03:32<00:00,  2.33it/s, Transformer_Loss=2.01]  \n"
     ]
    },
    {
     "name": "stdout",
     "output_type": "stream",
     "text": [
      "Epoch 930:\n"
     ]
    },
    {
     "name": "stderr",
     "output_type": "stream",
     "text": [
      " lr 0.000007\t: 100%|██████████| 494/494 [03:32<00:00,  2.32it/s, Transformer_Loss=0.0976]\n"
     ]
    },
    {
     "name": "stdout",
     "output_type": "stream",
     "text": [
      "Epoch 931:\n"
     ]
    },
    {
     "name": "stderr",
     "output_type": "stream",
     "text": [
      " lr 0.000007\t: 100%|██████████| 494/494 [03:32<00:00,  2.33it/s, Transformer_Loss=0.724] \n"
     ]
    },
    {
     "name": "stdout",
     "output_type": "stream",
     "text": [
      "Epoch 932:\n"
     ]
    },
    {
     "name": "stderr",
     "output_type": "stream",
     "text": [
      " lr 0.000007\t: 100%|██████████| 494/494 [03:32<00:00,  2.32it/s, Transformer_Loss=0.557] \n"
     ]
    },
    {
     "name": "stdout",
     "output_type": "stream",
     "text": [
      "Epoch 933:\n"
     ]
    },
    {
     "name": "stderr",
     "output_type": "stream",
     "text": [
      " lr 0.000007\t: 100%|██████████| 494/494 [03:32<00:00,  2.33it/s, Transformer_Loss=0.858] \n"
     ]
    },
    {
     "name": "stdout",
     "output_type": "stream",
     "text": [
      "Epoch 934:\n"
     ]
    },
    {
     "name": "stderr",
     "output_type": "stream",
     "text": [
      " lr 0.000007\t: 100%|██████████| 494/494 [03:32<00:00,  2.32it/s, Transformer_Loss=3.3]   \n"
     ]
    },
    {
     "name": "stdout",
     "output_type": "stream",
     "text": [
      "Epoch 935:\n"
     ]
    },
    {
     "name": "stderr",
     "output_type": "stream",
     "text": [
      " lr 0.000007\t: 100%|██████████| 494/494 [03:32<00:00,  2.32it/s, Transformer_Loss=0.203] \n"
     ]
    },
    {
     "name": "stdout",
     "output_type": "stream",
     "text": [
      "Epoch 936:\n"
     ]
    },
    {
     "name": "stderr",
     "output_type": "stream",
     "text": [
      " lr 0.000007\t: 100%|██████████| 494/494 [03:32<00:00,  2.32it/s, Transformer_Loss=1.76]  \n"
     ]
    },
    {
     "name": "stdout",
     "output_type": "stream",
     "text": [
      "Epoch 937:\n"
     ]
    },
    {
     "name": "stderr",
     "output_type": "stream",
     "text": [
      " lr 0.000007\t: 100%|██████████| 494/494 [03:32<00:00,  2.32it/s, Transformer_Loss=0.441] \n"
     ]
    },
    {
     "name": "stdout",
     "output_type": "stream",
     "text": [
      "Epoch 938:\n"
     ]
    },
    {
     "name": "stderr",
     "output_type": "stream",
     "text": [
      " lr 0.000006\t: 100%|██████████| 494/494 [03:32<00:00,  2.32it/s, Transformer_Loss=1.76]  \n"
     ]
    },
    {
     "name": "stdout",
     "output_type": "stream",
     "text": [
      "Epoch 939:\n"
     ]
    },
    {
     "name": "stderr",
     "output_type": "stream",
     "text": [
      " lr 0.000006\t: 100%|██████████| 494/494 [03:32<00:00,  2.32it/s, Transformer_Loss=0.147] \n"
     ]
    },
    {
     "name": "stdout",
     "output_type": "stream",
     "text": [
      "Epoch 940:\n"
     ]
    },
    {
     "name": "stderr",
     "output_type": "stream",
     "text": [
      " lr 0.000006\t: 100%|██████████| 494/494 [03:33<00:00,  2.32it/s, Transformer_Loss=2.1]   \n"
     ]
    },
    {
     "name": "stdout",
     "output_type": "stream",
     "text": [
      "Epoch 941:\n"
     ]
    },
    {
     "name": "stderr",
     "output_type": "stream",
     "text": [
      " lr 0.000006\t: 100%|██████████| 494/494 [03:32<00:00,  2.32it/s, Transformer_Loss=2.38]  \n"
     ]
    },
    {
     "name": "stdout",
     "output_type": "stream",
     "text": [
      "Epoch 942:\n"
     ]
    },
    {
     "name": "stderr",
     "output_type": "stream",
     "text": [
      " lr 0.000006\t: 100%|██████████| 494/494 [03:32<00:00,  2.32it/s, Transformer_Loss=3.12]  \n"
     ]
    },
    {
     "name": "stdout",
     "output_type": "stream",
     "text": [
      "Epoch 943:\n"
     ]
    },
    {
     "name": "stderr",
     "output_type": "stream",
     "text": [
      " lr 0.000006\t: 100%|██████████| 494/494 [03:32<00:00,  2.33it/s, Transformer_Loss=0.862] \n"
     ]
    },
    {
     "name": "stdout",
     "output_type": "stream",
     "text": [
      "Epoch 944:\n"
     ]
    },
    {
     "name": "stderr",
     "output_type": "stream",
     "text": [
      " lr 0.000006\t: 100%|██████████| 494/494 [03:32<00:00,  2.32it/s, Transformer_Loss=2.52]  \n"
     ]
    },
    {
     "name": "stdout",
     "output_type": "stream",
     "text": [
      "Epoch 945:\n"
     ]
    },
    {
     "name": "stderr",
     "output_type": "stream",
     "text": [
      " lr 0.000006\t: 100%|██████████| 494/494 [03:32<00:00,  2.33it/s, Transformer_Loss=1.18]  \n"
     ]
    },
    {
     "name": "stdout",
     "output_type": "stream",
     "text": [
      "Epoch 946:\n"
     ]
    },
    {
     "name": "stderr",
     "output_type": "stream",
     "text": [
      " lr 0.000006\t: 100%|██████████| 494/494 [03:32<00:00,  2.33it/s, Transformer_Loss=4.04]  \n"
     ]
    },
    {
     "name": "stdout",
     "output_type": "stream",
     "text": [
      "Epoch 947:\n"
     ]
    },
    {
     "name": "stderr",
     "output_type": "stream",
     "text": [
      " lr 0.000006\t: 100%|██████████| 494/494 [03:32<00:00,  2.33it/s, Transformer_Loss=0.546] \n"
     ]
    },
    {
     "name": "stdout",
     "output_type": "stream",
     "text": [
      "Epoch 948:\n"
     ]
    },
    {
     "name": "stderr",
     "output_type": "stream",
     "text": [
      " lr 0.000005\t: 100%|██████████| 494/494 [03:32<00:00,  2.32it/s, Transformer_Loss=3.68]  \n"
     ]
    },
    {
     "name": "stdout",
     "output_type": "stream",
     "text": [
      "Epoch 949:\n"
     ]
    },
    {
     "name": "stderr",
     "output_type": "stream",
     "text": [
      " lr 0.000005\t: 100%|██████████| 494/494 [03:32<00:00,  2.33it/s, Transformer_Loss=1.24]  \n"
     ]
    },
    {
     "name": "stdout",
     "output_type": "stream",
     "text": [
      "Epoch 950:\n"
     ]
    },
    {
     "name": "stderr",
     "output_type": "stream",
     "text": [
      " lr 0.000005\t: 100%|██████████| 494/494 [03:32<00:00,  2.32it/s, Transformer_Loss=3.53]  \n"
     ]
    },
    {
     "name": "stdout",
     "output_type": "stream",
     "text": [
      "Epoch 951:\n"
     ]
    },
    {
     "name": "stderr",
     "output_type": "stream",
     "text": [
      " lr 0.000005\t: 100%|██████████| 494/494 [03:32<00:00,  2.33it/s, Transformer_Loss=1.78]  \n"
     ]
    },
    {
     "name": "stdout",
     "output_type": "stream",
     "text": [
      "Epoch 952:\n"
     ]
    },
    {
     "name": "stderr",
     "output_type": "stream",
     "text": [
      " lr 0.000005\t: 100%|██████████| 494/494 [03:32<00:00,  2.32it/s, Transformer_Loss=0.153] \n"
     ]
    },
    {
     "name": "stdout",
     "output_type": "stream",
     "text": [
      "Epoch 953:\n"
     ]
    },
    {
     "name": "stderr",
     "output_type": "stream",
     "text": [
      " lr 0.000005\t: 100%|██████████| 494/494 [03:31<00:00,  2.33it/s, Transformer_Loss=0.299] \n"
     ]
    },
    {
     "name": "stdout",
     "output_type": "stream",
     "text": [
      "Epoch 954:\n"
     ]
    },
    {
     "name": "stderr",
     "output_type": "stream",
     "text": [
      " lr 0.000005\t: 100%|██████████| 494/494 [03:32<00:00,  2.33it/s, Transformer_Loss=0.847] \n"
     ]
    },
    {
     "name": "stdout",
     "output_type": "stream",
     "text": [
      "Epoch 955:\n"
     ]
    },
    {
     "name": "stderr",
     "output_type": "stream",
     "text": [
      " lr 0.000005\t: 100%|██████████| 494/494 [03:32<00:00,  2.33it/s, Transformer_Loss=0.917] \n"
     ]
    },
    {
     "name": "stdout",
     "output_type": "stream",
     "text": [
      "Epoch 956:\n"
     ]
    },
    {
     "name": "stderr",
     "output_type": "stream",
     "text": [
      " lr 0.000005\t: 100%|██████████| 494/494 [03:32<00:00,  2.33it/s, Transformer_Loss=0.198] \n"
     ]
    },
    {
     "name": "stdout",
     "output_type": "stream",
     "text": [
      "Epoch 957:\n"
     ]
    },
    {
     "name": "stderr",
     "output_type": "stream",
     "text": [
      " lr 0.000005\t: 100%|██████████| 494/494 [03:31<00:00,  2.33it/s, Transformer_Loss=0.946] \n"
     ]
    },
    {
     "name": "stdout",
     "output_type": "stream",
     "text": [
      "Epoch 958:\n"
     ]
    },
    {
     "name": "stderr",
     "output_type": "stream",
     "text": [
      " lr 0.000004\t: 100%|██████████| 494/494 [03:32<00:00,  2.32it/s, Transformer_Loss=0.0297]\n"
     ]
    },
    {
     "name": "stdout",
     "output_type": "stream",
     "text": [
      "Epoch 959:\n"
     ]
    },
    {
     "name": "stderr",
     "output_type": "stream",
     "text": [
      " lr 0.000004\t: 100%|██████████| 494/494 [03:32<00:00,  2.33it/s, Transformer_Loss=0.348] \n"
     ]
    },
    {
     "name": "stdout",
     "output_type": "stream",
     "text": [
      "Epoch 960:\n"
     ]
    },
    {
     "name": "stderr",
     "output_type": "stream",
     "text": [
      " lr 0.000004\t: 100%|██████████| 494/494 [03:32<00:00,  2.32it/s, Transformer_Loss=2.17]  \n"
     ]
    },
    {
     "name": "stdout",
     "output_type": "stream",
     "text": [
      "Epoch 961:\n"
     ]
    },
    {
     "name": "stderr",
     "output_type": "stream",
     "text": [
      " lr 0.000004\t: 100%|██████████| 494/494 [03:32<00:00,  2.33it/s, Transformer_Loss=1.13]  \n"
     ]
    },
    {
     "name": "stdout",
     "output_type": "stream",
     "text": [
      "Epoch 962:\n"
     ]
    },
    {
     "name": "stderr",
     "output_type": "stream",
     "text": [
      " lr 0.000004\t: 100%|██████████| 494/494 [03:32<00:00,  2.33it/s, Transformer_Loss=0.929] \n"
     ]
    },
    {
     "name": "stdout",
     "output_type": "stream",
     "text": [
      "Epoch 963:\n"
     ]
    },
    {
     "name": "stderr",
     "output_type": "stream",
     "text": [
      " lr 0.000004\t: 100%|██████████| 494/494 [03:31<00:00,  2.33it/s, Transformer_Loss=2.92]  \n"
     ]
    },
    {
     "name": "stdout",
     "output_type": "stream",
     "text": [
      "Epoch 964:\n"
     ]
    },
    {
     "name": "stderr",
     "output_type": "stream",
     "text": [
      " lr 0.000004\t: 100%|██████████| 494/494 [03:32<00:00,  2.33it/s, Transformer_Loss=1.66]  \n"
     ]
    },
    {
     "name": "stdout",
     "output_type": "stream",
     "text": [
      "Epoch 965:\n"
     ]
    },
    {
     "name": "stderr",
     "output_type": "stream",
     "text": [
      " lr 0.000004\t: 100%|██████████| 494/494 [03:32<00:00,  2.33it/s, Transformer_Loss=1.26]  \n"
     ]
    },
    {
     "name": "stdout",
     "output_type": "stream",
     "text": [
      "Epoch 966:\n"
     ]
    },
    {
     "name": "stderr",
     "output_type": "stream",
     "text": [
      " lr 0.000004\t: 100%|██████████| 494/494 [03:32<00:00,  2.32it/s, Transformer_Loss=0.417] \n"
     ]
    },
    {
     "name": "stdout",
     "output_type": "stream",
     "text": [
      "Epoch 967:\n"
     ]
    },
    {
     "name": "stderr",
     "output_type": "stream",
     "text": [
      " lr 0.000004\t: 100%|██████████| 494/494 [03:31<00:00,  2.33it/s, Transformer_Loss=3.73]  \n"
     ]
    },
    {
     "name": "stdout",
     "output_type": "stream",
     "text": [
      "Epoch 968:\n"
     ]
    },
    {
     "name": "stderr",
     "output_type": "stream",
     "text": [
      " lr 0.000003\t: 100%|██████████| 494/494 [03:31<00:00,  2.33it/s, Transformer_Loss=1.53]  \n"
     ]
    },
    {
     "name": "stdout",
     "output_type": "stream",
     "text": [
      "Epoch 969:\n"
     ]
    },
    {
     "name": "stderr",
     "output_type": "stream",
     "text": [
      " lr 0.000003\t: 100%|██████████| 494/494 [03:31<00:00,  2.33it/s, Transformer_Loss=0.396] \n"
     ]
    },
    {
     "name": "stdout",
     "output_type": "stream",
     "text": [
      "Epoch 970:\n"
     ]
    },
    {
     "name": "stderr",
     "output_type": "stream",
     "text": [
      " lr 0.000003\t: 100%|██████████| 494/494 [03:32<00:00,  2.33it/s, Transformer_Loss=2.8]   \n"
     ]
    },
    {
     "name": "stdout",
     "output_type": "stream",
     "text": [
      "Epoch 971:\n"
     ]
    },
    {
     "name": "stderr",
     "output_type": "stream",
     "text": [
      " lr 0.000003\t: 100%|██████████| 494/494 [03:31<00:00,  2.33it/s, Transformer_Loss=0.716] \n"
     ]
    },
    {
     "name": "stdout",
     "output_type": "stream",
     "text": [
      "Epoch 972:\n"
     ]
    },
    {
     "name": "stderr",
     "output_type": "stream",
     "text": [
      " lr 0.000003\t: 100%|██████████| 494/494 [03:32<00:00,  2.33it/s, Transformer_Loss=1.94]  \n"
     ]
    },
    {
     "name": "stdout",
     "output_type": "stream",
     "text": [
      "Epoch 973:\n"
     ]
    },
    {
     "name": "stderr",
     "output_type": "stream",
     "text": [
      " lr 0.000003\t: 100%|██████████| 494/494 [03:31<00:00,  2.33it/s, Transformer_Loss=0.234] \n"
     ]
    },
    {
     "name": "stdout",
     "output_type": "stream",
     "text": [
      "Epoch 974:\n"
     ]
    },
    {
     "name": "stderr",
     "output_type": "stream",
     "text": [
      " lr 0.000003\t: 100%|██████████| 494/494 [03:31<00:00,  2.33it/s, Transformer_Loss=3.72]  \n"
     ]
    },
    {
     "name": "stdout",
     "output_type": "stream",
     "text": [
      "Epoch 975:\n"
     ]
    },
    {
     "name": "stderr",
     "output_type": "stream",
     "text": [
      " lr 0.000003\t: 100%|██████████| 494/494 [03:31<00:00,  2.33it/s, Transformer_Loss=0.165] \n"
     ]
    },
    {
     "name": "stdout",
     "output_type": "stream",
     "text": [
      "Epoch 976:\n"
     ]
    },
    {
     "name": "stderr",
     "output_type": "stream",
     "text": [
      " lr 0.000003\t: 100%|██████████| 494/494 [03:32<00:00,  2.33it/s, Transformer_Loss=2.53]  \n"
     ]
    },
    {
     "name": "stdout",
     "output_type": "stream",
     "text": [
      "Epoch 977:\n"
     ]
    },
    {
     "name": "stderr",
     "output_type": "stream",
     "text": [
      " lr 0.000003\t: 100%|██████████| 494/494 [03:31<00:00,  2.33it/s, Transformer_Loss=0.313] \n"
     ]
    },
    {
     "name": "stdout",
     "output_type": "stream",
     "text": [
      "Epoch 978:\n"
     ]
    },
    {
     "name": "stderr",
     "output_type": "stream",
     "text": [
      " lr 0.000002\t: 100%|██████████| 494/494 [03:31<00:00,  2.33it/s, Transformer_Loss=1.24]  \n"
     ]
    },
    {
     "name": "stdout",
     "output_type": "stream",
     "text": [
      "Epoch 979:\n"
     ]
    },
    {
     "name": "stderr",
     "output_type": "stream",
     "text": [
      " lr 0.000002\t: 100%|██████████| 494/494 [03:31<00:00,  2.33it/s, Transformer_Loss=1.94]  \n"
     ]
    },
    {
     "name": "stdout",
     "output_type": "stream",
     "text": [
      "Epoch 980:\n"
     ]
    },
    {
     "name": "stderr",
     "output_type": "stream",
     "text": [
      " lr 0.000002\t: 100%|██████████| 494/494 [03:31<00:00,  2.33it/s, Transformer_Loss=2.45]  \n"
     ]
    },
    {
     "name": "stdout",
     "output_type": "stream",
     "text": [
      "Epoch 981:\n"
     ]
    },
    {
     "name": "stderr",
     "output_type": "stream",
     "text": [
      " lr 0.000002\t: 100%|██████████| 494/494 [03:31<00:00,  2.33it/s, Transformer_Loss=0.537] \n"
     ]
    },
    {
     "name": "stdout",
     "output_type": "stream",
     "text": [
      "Epoch 982:\n"
     ]
    },
    {
     "name": "stderr",
     "output_type": "stream",
     "text": [
      " lr 0.000002\t: 100%|██████████| 494/494 [03:31<00:00,  2.33it/s, Transformer_Loss=2.51]  \n"
     ]
    },
    {
     "name": "stdout",
     "output_type": "stream",
     "text": [
      "Epoch 983:\n"
     ]
    },
    {
     "name": "stderr",
     "output_type": "stream",
     "text": [
      " lr 0.000002\t: 100%|██████████| 494/494 [03:31<00:00,  2.33it/s, Transformer_Loss=3.99]  \n"
     ]
    },
    {
     "name": "stdout",
     "output_type": "stream",
     "text": [
      "Epoch 984:\n"
     ]
    },
    {
     "name": "stderr",
     "output_type": "stream",
     "text": [
      " lr 0.000002\t: 100%|██████████| 494/494 [03:31<00:00,  2.33it/s, Transformer_Loss=0.506] \n"
     ]
    },
    {
     "name": "stdout",
     "output_type": "stream",
     "text": [
      "Epoch 985:\n"
     ]
    },
    {
     "name": "stderr",
     "output_type": "stream",
     "text": [
      " lr 0.000002\t: 100%|██████████| 494/494 [03:31<00:00,  2.34it/s, Transformer_Loss=0.0256]\n"
     ]
    },
    {
     "name": "stdout",
     "output_type": "stream",
     "text": [
      "Epoch 986:\n"
     ]
    },
    {
     "name": "stderr",
     "output_type": "stream",
     "text": [
      " lr 0.000002\t: 100%|██████████| 494/494 [03:31<00:00,  2.33it/s, Transformer_Loss=2.32]  \n"
     ]
    },
    {
     "name": "stdout",
     "output_type": "stream",
     "text": [
      "Epoch 987:\n"
     ]
    },
    {
     "name": "stderr",
     "output_type": "stream",
     "text": [
      " lr 0.000002\t: 100%|██████████| 494/494 [03:31<00:00,  2.34it/s, Transformer_Loss=3.09]  \n"
     ]
    },
    {
     "name": "stdout",
     "output_type": "stream",
     "text": [
      "Epoch 988:\n"
     ]
    },
    {
     "name": "stderr",
     "output_type": "stream",
     "text": [
      " lr 0.000001\t: 100%|██████████| 494/494 [03:31<00:00,  2.34it/s, Transformer_Loss=1.49]  \n"
     ]
    },
    {
     "name": "stdout",
     "output_type": "stream",
     "text": [
      "Epoch 989:\n"
     ]
    },
    {
     "name": "stderr",
     "output_type": "stream",
     "text": [
      " lr 0.000001\t: 100%|██████████| 494/494 [03:31<00:00,  2.34it/s, Transformer_Loss=0.836] \n"
     ]
    },
    {
     "name": "stdout",
     "output_type": "stream",
     "text": [
      "Epoch 990:\n"
     ]
    },
    {
     "name": "stderr",
     "output_type": "stream",
     "text": [
      " lr 0.000001\t: 100%|██████████| 494/494 [03:31<00:00,  2.34it/s, Transformer_Loss=0.279] \n"
     ]
    },
    {
     "name": "stdout",
     "output_type": "stream",
     "text": [
      "Epoch 991:\n"
     ]
    },
    {
     "name": "stderr",
     "output_type": "stream",
     "text": [
      " lr 0.000001\t: 100%|██████████| 494/494 [03:31<00:00,  2.34it/s, Transformer_Loss=3.01]  \n"
     ]
    },
    {
     "name": "stdout",
     "output_type": "stream",
     "text": [
      "Epoch 992:\n"
     ]
    },
    {
     "name": "stderr",
     "output_type": "stream",
     "text": [
      " lr 0.000001\t: 100%|██████████| 494/494 [03:31<00:00,  2.33it/s, Transformer_Loss=0.999] \n"
     ]
    },
    {
     "name": "stdout",
     "output_type": "stream",
     "text": [
      "Epoch 993:\n"
     ]
    },
    {
     "name": "stderr",
     "output_type": "stream",
     "text": [
      " lr 0.000001\t: 100%|██████████| 494/494 [03:31<00:00,  2.34it/s, Transformer_Loss=0.434] \n"
     ]
    },
    {
     "name": "stdout",
     "output_type": "stream",
     "text": [
      "Epoch 994:\n"
     ]
    },
    {
     "name": "stderr",
     "output_type": "stream",
     "text": [
      " lr 0.000001\t: 100%|██████████| 494/494 [03:31<00:00,  2.34it/s, Transformer_Loss=0.169] \n"
     ]
    },
    {
     "name": "stdout",
     "output_type": "stream",
     "text": [
      "Epoch 995:\n"
     ]
    },
    {
     "name": "stderr",
     "output_type": "stream",
     "text": [
      " lr 0.000001\t: 100%|██████████| 494/494 [03:31<00:00,  2.34it/s, Transformer_Loss=1.32]  \n"
     ]
    },
    {
     "name": "stdout",
     "output_type": "stream",
     "text": [
      "Epoch 996:\n"
     ]
    },
    {
     "name": "stderr",
     "output_type": "stream",
     "text": [
      " lr 0.000001\t: 100%|██████████| 494/494 [03:31<00:00,  2.34it/s, Transformer_Loss=3.29]  \n"
     ]
    },
    {
     "name": "stdout",
     "output_type": "stream",
     "text": [
      "Epoch 997:\n"
     ]
    },
    {
     "name": "stderr",
     "output_type": "stream",
     "text": [
      " lr 0.000001\t: 100%|██████████| 494/494 [03:31<00:00,  2.34it/s, Transformer_Loss=4.33]  \n"
     ]
    },
    {
     "name": "stdout",
     "output_type": "stream",
     "text": [
      "Epoch 998:\n"
     ]
    },
    {
     "name": "stderr",
     "output_type": "stream",
     "text": [
      " lr 0.000000\t: 100%|██████████| 494/494 [03:31<00:00,  2.34it/s, Transformer_Loss=0.285] \n"
     ]
    },
    {
     "name": "stdout",
     "output_type": "stream",
     "text": [
      "Epoch 999:\n"
     ]
    },
    {
     "name": "stderr",
     "output_type": "stream",
     "text": [
      " lr 0.000000\t: 100%|██████████| 494/494 [03:30<00:00,  2.34it/s, Transformer_Loss=3.28]  \n"
     ]
    },
    {
     "name": "stdout",
     "output_type": "stream",
     "text": [
      "Epoch 1000:\n"
     ]
    },
    {
     "name": "stderr",
     "output_type": "stream",
     "text": [
      " lr 0.000000\t: 100%|██████████| 494/494 [03:31<00:00,  2.34it/s, Transformer_Loss=0.534] \n"
     ]
    }
   ],
   "source": [
    "train_transformer = TrainTransformer(args, ids_loader, lev='bot')"
   ]
  },
  {
   "cell_type": "code",
   "execution_count": null,
   "metadata": {},
   "outputs": [],
   "source": []
  }
 ],
 "metadata": {
  "kernelspec": {
   "display_name": "Python 3.9.13 ('audio')",
   "language": "python",
   "name": "python3"
  },
  "language_info": {
   "codemirror_mode": {
    "name": "ipython",
    "version": 3
   },
   "file_extension": ".py",
   "mimetype": "text/x-python",
   "name": "python",
   "nbconvert_exporter": "python",
   "pygments_lexer": "ipython3",
   "version": "3.10.4"
  },
  "orig_nbformat": 4,
  "vscode": {
   "interpreter": {
    "hash": "9625287269220251dd2f53164d2a112ab09cf8e86b35d6b73b22f9f410170108"
   }
  }
 },
 "nbformat": 4,
 "nbformat_minor": 2
}
